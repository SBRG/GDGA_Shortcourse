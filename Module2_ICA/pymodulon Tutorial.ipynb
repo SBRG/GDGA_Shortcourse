{
 "cells": [
  {
   "cell_type": "markdown",
   "id": "b33daf04",
   "metadata": {},
   "source": [
    "# Exploring and annotating pre-calculated iModulons"
   ]
  },
  {
   "cell_type": "markdown",
   "id": "f2752e2e",
   "metadata": {},
   "source": [
    "The pymodulon.core.IcaData object is at the core of the PyModulon package. This object holds all of the data related to the expression dataset, the iModulons, and their annotations."
   ]
  },
  {
   "cell_type": "code",
   "execution_count": 1,
   "id": "29ca55af",
   "metadata": {},
   "outputs": [],
   "source": [
    "from pymodulon.core import IcaData\n",
    "from pymodulon import example_data\n",
    "from pymodulon.io import save_to_json, load_json_model"
   ]
  },
  {
   "cell_type": "markdown",
   "id": "6db437bc",
   "metadata": {},
   "source": [
    "Let's explore the M and A matrices of the example data."
   ]
  },
  {
   "cell_type": "code",
   "execution_count": 2,
   "id": "d19f9631",
   "metadata": {},
   "outputs": [
    {
     "data": {
      "text/html": [
       "<div>\n",
       "<style scoped>\n",
       "    .dataframe tbody tr th:only-of-type {\n",
       "        vertical-align: middle;\n",
       "    }\n",
       "\n",
       "    .dataframe tbody tr th {\n",
       "        vertical-align: top;\n",
       "    }\n",
       "\n",
       "    .dataframe thead th {\n",
       "        text-align: right;\n",
       "    }\n",
       "</style>\n",
       "<table border=\"1\" class=\"dataframe\">\n",
       "  <thead>\n",
       "    <tr style=\"text-align: right;\">\n",
       "      <th></th>\n",
       "      <th>AllR/AraC/FucR</th>\n",
       "      <th>ArcA-1</th>\n",
       "      <th>ArcA-2</th>\n",
       "      <th>ArgR</th>\n",
       "      <th>AtoC</th>\n",
       "      <th>BW25113</th>\n",
       "      <th>Cbl+CysB</th>\n",
       "      <th>CdaR</th>\n",
       "      <th>CecR</th>\n",
       "      <th>Copper</th>\n",
       "      <th>...</th>\n",
       "      <th>thrA-KO</th>\n",
       "      <th>translation</th>\n",
       "      <th>uncharacterized-1</th>\n",
       "      <th>uncharacterized-2</th>\n",
       "      <th>uncharacterized-3</th>\n",
       "      <th>uncharacterized-4</th>\n",
       "      <th>uncharacterized-5</th>\n",
       "      <th>uncharacterized-6</th>\n",
       "      <th>ydcI-KO</th>\n",
       "      <th>yheO-KO</th>\n",
       "    </tr>\n",
       "  </thead>\n",
       "  <tbody>\n",
       "    <tr>\n",
       "      <th>b0002</th>\n",
       "      <td>-0.010888</td>\n",
       "      <td>-0.007717</td>\n",
       "      <td>-0.008502</td>\n",
       "      <td>-0.012186</td>\n",
       "      <td>-0.061489</td>\n",
       "      <td>-0.005599</td>\n",
       "      <td>-0.007377</td>\n",
       "      <td>-0.000795</td>\n",
       "      <td>0.004331</td>\n",
       "      <td>0.001845</td>\n",
       "      <td>...</td>\n",
       "      <td>0.479209</td>\n",
       "      <td>0.035685</td>\n",
       "      <td>0.024778</td>\n",
       "      <td>-0.010660</td>\n",
       "      <td>-0.002123</td>\n",
       "      <td>-0.004416</td>\n",
       "      <td>-0.005428</td>\n",
       "      <td>-0.009219</td>\n",
       "      <td>-0.004345</td>\n",
       "      <td>-0.007838</td>\n",
       "    </tr>\n",
       "    <tr>\n",
       "      <th>b0003</th>\n",
       "      <td>-0.011467</td>\n",
       "      <td>0.003042</td>\n",
       "      <td>0.011448</td>\n",
       "      <td>-0.003685</td>\n",
       "      <td>-0.006106</td>\n",
       "      <td>0.006680</td>\n",
       "      <td>-0.043512</td>\n",
       "      <td>0.005107</td>\n",
       "      <td>0.000474</td>\n",
       "      <td>0.007650</td>\n",
       "      <td>...</td>\n",
       "      <td>0.011420</td>\n",
       "      <td>0.040811</td>\n",
       "      <td>0.003324</td>\n",
       "      <td>-0.008424</td>\n",
       "      <td>-0.004415</td>\n",
       "      <td>-0.016126</td>\n",
       "      <td>-0.016476</td>\n",
       "      <td>-0.003497</td>\n",
       "      <td>-0.003583</td>\n",
       "      <td>0.003381</td>\n",
       "    </tr>\n",
       "    <tr>\n",
       "      <th>b0004</th>\n",
       "      <td>-0.008693</td>\n",
       "      <td>0.003944</td>\n",
       "      <td>0.012347</td>\n",
       "      <td>-0.008104</td>\n",
       "      <td>0.000585</td>\n",
       "      <td>0.003245</td>\n",
       "      <td>-0.041283</td>\n",
       "      <td>0.006390</td>\n",
       "      <td>0.004260</td>\n",
       "      <td>0.007109</td>\n",
       "      <td>...</td>\n",
       "      <td>0.011339</td>\n",
       "      <td>0.036244</td>\n",
       "      <td>0.003710</td>\n",
       "      <td>-0.005212</td>\n",
       "      <td>0.000700</td>\n",
       "      <td>-0.011096</td>\n",
       "      <td>-0.006140</td>\n",
       "      <td>-0.003155</td>\n",
       "      <td>-0.008418</td>\n",
       "      <td>0.000129</td>\n",
       "    </tr>\n",
       "    <tr>\n",
       "      <th>b0005</th>\n",
       "      <td>0.006565</td>\n",
       "      <td>-0.001099</td>\n",
       "      <td>0.009415</td>\n",
       "      <td>-0.008507</td>\n",
       "      <td>0.005399</td>\n",
       "      <td>0.014748</td>\n",
       "      <td>-0.009249</td>\n",
       "      <td>-0.003058</td>\n",
       "      <td>-0.012649</td>\n",
       "      <td>-0.002370</td>\n",
       "      <td>...</td>\n",
       "      <td>-0.015324</td>\n",
       "      <td>0.028972</td>\n",
       "      <td>0.023969</td>\n",
       "      <td>0.000150</td>\n",
       "      <td>0.018497</td>\n",
       "      <td>0.009428</td>\n",
       "      <td>0.001255</td>\n",
       "      <td>-0.006890</td>\n",
       "      <td>-0.028069</td>\n",
       "      <td>0.021534</td>\n",
       "    </tr>\n",
       "    <tr>\n",
       "      <th>b0006</th>\n",
       "      <td>-0.006011</td>\n",
       "      <td>0.009889</td>\n",
       "      <td>-0.005555</td>\n",
       "      <td>-0.000152</td>\n",
       "      <td>-0.002454</td>\n",
       "      <td>0.009678</td>\n",
       "      <td>-0.003456</td>\n",
       "      <td>0.002160</td>\n",
       "      <td>-0.001924</td>\n",
       "      <td>-0.000628</td>\n",
       "      <td>...</td>\n",
       "      <td>-0.005661</td>\n",
       "      <td>0.000700</td>\n",
       "      <td>-0.002538</td>\n",
       "      <td>-0.006103</td>\n",
       "      <td>-0.002506</td>\n",
       "      <td>-0.005077</td>\n",
       "      <td>-0.004616</td>\n",
       "      <td>-0.003585</td>\n",
       "      <td>0.001607</td>\n",
       "      <td>0.001285</td>\n",
       "    </tr>\n",
       "  </tbody>\n",
       "</table>\n",
       "<p>5 rows × 92 columns</p>\n",
       "</div>"
      ],
      "text/plain": [
       "       AllR/AraC/FucR    ArcA-1    ArcA-2      ArgR      AtoC   BW25113  \\\n",
       "b0002       -0.010888 -0.007717 -0.008502 -0.012186 -0.061489 -0.005599   \n",
       "b0003       -0.011467  0.003042  0.011448 -0.003685 -0.006106  0.006680   \n",
       "b0004       -0.008693  0.003944  0.012347 -0.008104  0.000585  0.003245   \n",
       "b0005        0.006565 -0.001099  0.009415 -0.008507  0.005399  0.014748   \n",
       "b0006       -0.006011  0.009889 -0.005555 -0.000152 -0.002454  0.009678   \n",
       "\n",
       "       Cbl+CysB      CdaR      CecR    Copper  ...   thrA-KO  translation  \\\n",
       "b0002 -0.007377 -0.000795  0.004331  0.001845  ...  0.479209     0.035685   \n",
       "b0003 -0.043512  0.005107  0.000474  0.007650  ...  0.011420     0.040811   \n",
       "b0004 -0.041283  0.006390  0.004260  0.007109  ...  0.011339     0.036244   \n",
       "b0005 -0.009249 -0.003058 -0.012649 -0.002370  ... -0.015324     0.028972   \n",
       "b0006 -0.003456  0.002160 -0.001924 -0.000628  ... -0.005661     0.000700   \n",
       "\n",
       "       uncharacterized-1  uncharacterized-2  uncharacterized-3  \\\n",
       "b0002           0.024778          -0.010660          -0.002123   \n",
       "b0003           0.003324          -0.008424          -0.004415   \n",
       "b0004           0.003710          -0.005212           0.000700   \n",
       "b0005           0.023969           0.000150           0.018497   \n",
       "b0006          -0.002538          -0.006103          -0.002506   \n",
       "\n",
       "       uncharacterized-4  uncharacterized-5  uncharacterized-6   ydcI-KO  \\\n",
       "b0002          -0.004416          -0.005428          -0.009219 -0.004345   \n",
       "b0003          -0.016126          -0.016476          -0.003497 -0.003583   \n",
       "b0004          -0.011096          -0.006140          -0.003155 -0.008418   \n",
       "b0005           0.009428           0.001255          -0.006890 -0.028069   \n",
       "b0006          -0.005077          -0.004616          -0.003585  0.001607   \n",
       "\n",
       "        yheO-KO  \n",
       "b0002 -0.007838  \n",
       "b0003  0.003381  \n",
       "b0004  0.000129  \n",
       "b0005  0.021534  \n",
       "b0006  0.001285  \n",
       "\n",
       "[5 rows x 92 columns]"
      ]
     },
     "execution_count": 2,
     "metadata": {},
     "output_type": "execute_result"
    }
   ],
   "source": [
    "M = example_data.M\n",
    "M.head()"
   ]
  },
  {
   "cell_type": "code",
   "execution_count": 3,
   "id": "e52ea301",
   "metadata": {},
   "outputs": [
    {
     "data": {
      "text/html": [
       "<div>\n",
       "<style scoped>\n",
       "    .dataframe tbody tr th:only-of-type {\n",
       "        vertical-align: middle;\n",
       "    }\n",
       "\n",
       "    .dataframe tbody tr th {\n",
       "        vertical-align: top;\n",
       "    }\n",
       "\n",
       "    .dataframe thead th {\n",
       "        text-align: right;\n",
       "    }\n",
       "</style>\n",
       "<table border=\"1\" class=\"dataframe\">\n",
       "  <thead>\n",
       "    <tr style=\"text-align: right;\">\n",
       "      <th></th>\n",
       "      <th>control__wt_glc__1</th>\n",
       "      <th>control__wt_glc__2</th>\n",
       "      <th>fur__wt_dpd__1</th>\n",
       "      <th>fur__wt_dpd__2</th>\n",
       "      <th>fur__wt_fe__1</th>\n",
       "      <th>fur__wt_fe__2</th>\n",
       "      <th>fur__delfur_dpd__1</th>\n",
       "      <th>fur__delfur_dpd__2</th>\n",
       "      <th>fur__delfur_fe2__1</th>\n",
       "      <th>fur__delfur_fe2__2</th>\n",
       "      <th>...</th>\n",
       "      <th>efeU__menFentC_ale29__1</th>\n",
       "      <th>efeU__menFentC_ale29__2</th>\n",
       "      <th>efeU__menFentC_ale30__1</th>\n",
       "      <th>efeU__menFentC_ale30__2</th>\n",
       "      <th>efeU__menFentCubiC_ale36__1</th>\n",
       "      <th>efeU__menFentCubiC_ale36__2</th>\n",
       "      <th>efeU__menFentCubiC_ale37__1</th>\n",
       "      <th>efeU__menFentCubiC_ale37__2</th>\n",
       "      <th>efeU__menFentCubiC_ale38__1</th>\n",
       "      <th>efeU__menFentCubiC_ale38__2</th>\n",
       "    </tr>\n",
       "  </thead>\n",
       "  <tbody>\n",
       "    <tr>\n",
       "      <th>AllR/AraC/FucR</th>\n",
       "      <td>0.378690</td>\n",
       "      <td>-0.378690</td>\n",
       "      <td>2.457678</td>\n",
       "      <td>2.248678</td>\n",
       "      <td>-0.327344</td>\n",
       "      <td>-0.259164</td>\n",
       "      <td>1.777251</td>\n",
       "      <td>2.690655</td>\n",
       "      <td>0.656937</td>\n",
       "      <td>0.319583</td>\n",
       "      <td>...</td>\n",
       "      <td>1.041336</td>\n",
       "      <td>2.203940</td>\n",
       "      <td>3.698292</td>\n",
       "      <td>0.856998</td>\n",
       "      <td>1.557323</td>\n",
       "      <td>0.337806</td>\n",
       "      <td>0.943742</td>\n",
       "      <td>1.736640</td>\n",
       "      <td>0.499461</td>\n",
       "      <td>1.581476</td>\n",
       "    </tr>\n",
       "    <tr>\n",
       "      <th>ArcA-1</th>\n",
       "      <td>-0.440210</td>\n",
       "      <td>0.440210</td>\n",
       "      <td>-5.367360</td>\n",
       "      <td>-5.684301</td>\n",
       "      <td>0.131174</td>\n",
       "      <td>0.348843</td>\n",
       "      <td>-4.436389</td>\n",
       "      <td>-4.770469</td>\n",
       "      <td>-1.799113</td>\n",
       "      <td>-1.474222</td>\n",
       "      <td>...</td>\n",
       "      <td>-6.471714</td>\n",
       "      <td>-6.549861</td>\n",
       "      <td>-3.109145</td>\n",
       "      <td>-2.716183</td>\n",
       "      <td>-2.531192</td>\n",
       "      <td>-1.461022</td>\n",
       "      <td>-0.408849</td>\n",
       "      <td>-0.210397</td>\n",
       "      <td>-5.700321</td>\n",
       "      <td>-6.237836</td>\n",
       "    </tr>\n",
       "    <tr>\n",
       "      <th>ArcA-2</th>\n",
       "      <td>0.762258</td>\n",
       "      <td>-0.762258</td>\n",
       "      <td>2.619623</td>\n",
       "      <td>2.900696</td>\n",
       "      <td>3.120724</td>\n",
       "      <td>2.743634</td>\n",
       "      <td>1.989803</td>\n",
       "      <td>1.555835</td>\n",
       "      <td>1.782500</td>\n",
       "      <td>1.530811</td>\n",
       "      <td>...</td>\n",
       "      <td>2.789653</td>\n",
       "      <td>3.959650</td>\n",
       "      <td>1.585147</td>\n",
       "      <td>0.811182</td>\n",
       "      <td>0.300414</td>\n",
       "      <td>2.537535</td>\n",
       "      <td>1.061408</td>\n",
       "      <td>2.634524</td>\n",
       "      <td>0.125513</td>\n",
       "      <td>1.178747</td>\n",
       "    </tr>\n",
       "    <tr>\n",
       "      <th>ArgR</th>\n",
       "      <td>-0.289630</td>\n",
       "      <td>0.289630</td>\n",
       "      <td>-10.085719</td>\n",
       "      <td>-13.187916</td>\n",
       "      <td>2.371129</td>\n",
       "      <td>1.861918</td>\n",
       "      <td>-8.708701</td>\n",
       "      <td>-7.881588</td>\n",
       "      <td>-1.237027</td>\n",
       "      <td>-1.235604</td>\n",
       "      <td>...</td>\n",
       "      <td>-11.263744</td>\n",
       "      <td>-10.366813</td>\n",
       "      <td>-0.289217</td>\n",
       "      <td>0.389228</td>\n",
       "      <td>-5.142768</td>\n",
       "      <td>-5.014526</td>\n",
       "      <td>-3.648777</td>\n",
       "      <td>-4.125952</td>\n",
       "      <td>-4.286326</td>\n",
       "      <td>-5.475940</td>\n",
       "    </tr>\n",
       "    <tr>\n",
       "      <th>AtoC</th>\n",
       "      <td>0.250770</td>\n",
       "      <td>-0.250770</td>\n",
       "      <td>1.844767</td>\n",
       "      <td>2.055052</td>\n",
       "      <td>0.299345</td>\n",
       "      <td>0.425502</td>\n",
       "      <td>1.801217</td>\n",
       "      <td>1.790987</td>\n",
       "      <td>0.921254</td>\n",
       "      <td>1.410026</td>\n",
       "      <td>...</td>\n",
       "      <td>3.821909</td>\n",
       "      <td>3.306573</td>\n",
       "      <td>2.652394</td>\n",
       "      <td>1.910173</td>\n",
       "      <td>0.927772</td>\n",
       "      <td>1.327549</td>\n",
       "      <td>1.846321</td>\n",
       "      <td>0.909667</td>\n",
       "      <td>2.064662</td>\n",
       "      <td>2.371405</td>\n",
       "    </tr>\n",
       "  </tbody>\n",
       "</table>\n",
       "<p>5 rows × 278 columns</p>\n",
       "</div>"
      ],
      "text/plain": [
       "                control__wt_glc__1  control__wt_glc__2  fur__wt_dpd__1  \\\n",
       "AllR/AraC/FucR            0.378690           -0.378690        2.457678   \n",
       "ArcA-1                   -0.440210            0.440210       -5.367360   \n",
       "ArcA-2                    0.762258           -0.762258        2.619623   \n",
       "ArgR                     -0.289630            0.289630      -10.085719   \n",
       "AtoC                      0.250770           -0.250770        1.844767   \n",
       "\n",
       "                fur__wt_dpd__2  fur__wt_fe__1  fur__wt_fe__2  \\\n",
       "AllR/AraC/FucR        2.248678      -0.327344      -0.259164   \n",
       "ArcA-1               -5.684301       0.131174       0.348843   \n",
       "ArcA-2                2.900696       3.120724       2.743634   \n",
       "ArgR                -13.187916       2.371129       1.861918   \n",
       "AtoC                  2.055052       0.299345       0.425502   \n",
       "\n",
       "                fur__delfur_dpd__1  fur__delfur_dpd__2  fur__delfur_fe2__1  \\\n",
       "AllR/AraC/FucR            1.777251            2.690655            0.656937   \n",
       "ArcA-1                   -4.436389           -4.770469           -1.799113   \n",
       "ArcA-2                    1.989803            1.555835            1.782500   \n",
       "ArgR                     -8.708701           -7.881588           -1.237027   \n",
       "AtoC                      1.801217            1.790987            0.921254   \n",
       "\n",
       "                fur__delfur_fe2__2  ...  efeU__menFentC_ale29__1  \\\n",
       "AllR/AraC/FucR            0.319583  ...                 1.041336   \n",
       "ArcA-1                   -1.474222  ...                -6.471714   \n",
       "ArcA-2                    1.530811  ...                 2.789653   \n",
       "ArgR                     -1.235604  ...               -11.263744   \n",
       "AtoC                      1.410026  ...                 3.821909   \n",
       "\n",
       "                efeU__menFentC_ale29__2  efeU__menFentC_ale30__1  \\\n",
       "AllR/AraC/FucR                 2.203940                 3.698292   \n",
       "ArcA-1                        -6.549861                -3.109145   \n",
       "ArcA-2                         3.959650                 1.585147   \n",
       "ArgR                         -10.366813                -0.289217   \n",
       "AtoC                           3.306573                 2.652394   \n",
       "\n",
       "                efeU__menFentC_ale30__2  efeU__menFentCubiC_ale36__1  \\\n",
       "AllR/AraC/FucR                 0.856998                     1.557323   \n",
       "ArcA-1                        -2.716183                    -2.531192   \n",
       "ArcA-2                         0.811182                     0.300414   \n",
       "ArgR                           0.389228                    -5.142768   \n",
       "AtoC                           1.910173                     0.927772   \n",
       "\n",
       "                efeU__menFentCubiC_ale36__2  efeU__menFentCubiC_ale37__1  \\\n",
       "AllR/AraC/FucR                     0.337806                     0.943742   \n",
       "ArcA-1                            -1.461022                    -0.408849   \n",
       "ArcA-2                             2.537535                     1.061408   \n",
       "ArgR                              -5.014526                    -3.648777   \n",
       "AtoC                               1.327549                     1.846321   \n",
       "\n",
       "                efeU__menFentCubiC_ale37__2  efeU__menFentCubiC_ale38__1  \\\n",
       "AllR/AraC/FucR                     1.736640                     0.499461   \n",
       "ArcA-1                            -0.210397                    -5.700321   \n",
       "ArcA-2                             2.634524                     0.125513   \n",
       "ArgR                              -4.125952                    -4.286326   \n",
       "AtoC                               0.909667                     2.064662   \n",
       "\n",
       "                efeU__menFentCubiC_ale38__2  \n",
       "AllR/AraC/FucR                     1.581476  \n",
       "ArcA-1                            -6.237836  \n",
       "ArcA-2                             1.178747  \n",
       "ArgR                              -5.475940  \n",
       "AtoC                               2.371405  \n",
       "\n",
       "[5 rows x 278 columns]"
      ]
     },
     "execution_count": 3,
     "metadata": {},
     "output_type": "execute_result"
    }
   ],
   "source": [
    "A = example_data.A\n",
    "A.head()"
   ]
  },
  {
   "cell_type": "markdown",
   "id": "72c48978",
   "metadata": {},
   "source": [
    "To create the IcaData object, the M and A datasets can be entered as either filenames or as a Pandas DataFrame"
   ]
  },
  {
   "cell_type": "code",
   "execution_count": 4,
   "id": "220f57ae",
   "metadata": {},
   "outputs": [
    {
     "data": {
      "text/plain": [
       "<pymodulon.core.IcaData at 0x25dd412dca0>"
      ]
     },
     "execution_count": 4,
     "metadata": {},
     "output_type": "execute_result"
    }
   ],
   "source": [
    "ica_data = IcaData(M,A)\n",
    "ica_data"
   ]
  },
  {
   "cell_type": "code",
   "execution_count": 5,
   "id": "ebf57468",
   "metadata": {},
   "outputs": [
    {
     "data": {
      "text/html": [
       "<div>\n",
       "<style scoped>\n",
       "    .dataframe tbody tr th:only-of-type {\n",
       "        vertical-align: middle;\n",
       "    }\n",
       "\n",
       "    .dataframe tbody tr th {\n",
       "        vertical-align: top;\n",
       "    }\n",
       "\n",
       "    .dataframe thead th {\n",
       "        text-align: right;\n",
       "    }\n",
       "</style>\n",
       "<table border=\"1\" class=\"dataframe\">\n",
       "  <thead>\n",
       "    <tr style=\"text-align: right;\">\n",
       "      <th></th>\n",
       "      <th>AllR/AraC/FucR</th>\n",
       "      <th>ArcA-1</th>\n",
       "      <th>ArcA-2</th>\n",
       "      <th>ArgR</th>\n",
       "      <th>AtoC</th>\n",
       "      <th>BW25113</th>\n",
       "      <th>Cbl+CysB</th>\n",
       "      <th>CdaR</th>\n",
       "      <th>CecR</th>\n",
       "      <th>Copper</th>\n",
       "      <th>...</th>\n",
       "      <th>thrA-KO</th>\n",
       "      <th>translation</th>\n",
       "      <th>uncharacterized-1</th>\n",
       "      <th>uncharacterized-2</th>\n",
       "      <th>uncharacterized-3</th>\n",
       "      <th>uncharacterized-4</th>\n",
       "      <th>uncharacterized-5</th>\n",
       "      <th>uncharacterized-6</th>\n",
       "      <th>ydcI-KO</th>\n",
       "      <th>yheO-KO</th>\n",
       "    </tr>\n",
       "  </thead>\n",
       "  <tbody>\n",
       "    <tr>\n",
       "      <th>b0002</th>\n",
       "      <td>-0.010888</td>\n",
       "      <td>-0.007717</td>\n",
       "      <td>-0.008502</td>\n",
       "      <td>-0.012186</td>\n",
       "      <td>-0.061489</td>\n",
       "      <td>-0.005599</td>\n",
       "      <td>-0.007377</td>\n",
       "      <td>-0.000795</td>\n",
       "      <td>0.004331</td>\n",
       "      <td>0.001845</td>\n",
       "      <td>...</td>\n",
       "      <td>0.479209</td>\n",
       "      <td>0.035685</td>\n",
       "      <td>0.024778</td>\n",
       "      <td>-0.010660</td>\n",
       "      <td>-0.002123</td>\n",
       "      <td>-0.004416</td>\n",
       "      <td>-0.005428</td>\n",
       "      <td>-0.009219</td>\n",
       "      <td>-0.004345</td>\n",
       "      <td>-0.007838</td>\n",
       "    </tr>\n",
       "    <tr>\n",
       "      <th>b0003</th>\n",
       "      <td>-0.011467</td>\n",
       "      <td>0.003042</td>\n",
       "      <td>0.011448</td>\n",
       "      <td>-0.003685</td>\n",
       "      <td>-0.006106</td>\n",
       "      <td>0.006680</td>\n",
       "      <td>-0.043512</td>\n",
       "      <td>0.005107</td>\n",
       "      <td>0.000474</td>\n",
       "      <td>0.007650</td>\n",
       "      <td>...</td>\n",
       "      <td>0.011420</td>\n",
       "      <td>0.040811</td>\n",
       "      <td>0.003324</td>\n",
       "      <td>-0.008424</td>\n",
       "      <td>-0.004415</td>\n",
       "      <td>-0.016126</td>\n",
       "      <td>-0.016476</td>\n",
       "      <td>-0.003497</td>\n",
       "      <td>-0.003583</td>\n",
       "      <td>0.003381</td>\n",
       "    </tr>\n",
       "    <tr>\n",
       "      <th>b0004</th>\n",
       "      <td>-0.008693</td>\n",
       "      <td>0.003944</td>\n",
       "      <td>0.012347</td>\n",
       "      <td>-0.008104</td>\n",
       "      <td>0.000585</td>\n",
       "      <td>0.003245</td>\n",
       "      <td>-0.041283</td>\n",
       "      <td>0.006390</td>\n",
       "      <td>0.004260</td>\n",
       "      <td>0.007109</td>\n",
       "      <td>...</td>\n",
       "      <td>0.011339</td>\n",
       "      <td>0.036244</td>\n",
       "      <td>0.003710</td>\n",
       "      <td>-0.005212</td>\n",
       "      <td>0.000700</td>\n",
       "      <td>-0.011096</td>\n",
       "      <td>-0.006140</td>\n",
       "      <td>-0.003155</td>\n",
       "      <td>-0.008418</td>\n",
       "      <td>0.000129</td>\n",
       "    </tr>\n",
       "    <tr>\n",
       "      <th>b0005</th>\n",
       "      <td>0.006565</td>\n",
       "      <td>-0.001099</td>\n",
       "      <td>0.009415</td>\n",
       "      <td>-0.008507</td>\n",
       "      <td>0.005399</td>\n",
       "      <td>0.014748</td>\n",
       "      <td>-0.009249</td>\n",
       "      <td>-0.003058</td>\n",
       "      <td>-0.012649</td>\n",
       "      <td>-0.002370</td>\n",
       "      <td>...</td>\n",
       "      <td>-0.015324</td>\n",
       "      <td>0.028972</td>\n",
       "      <td>0.023969</td>\n",
       "      <td>0.000150</td>\n",
       "      <td>0.018497</td>\n",
       "      <td>0.009428</td>\n",
       "      <td>0.001255</td>\n",
       "      <td>-0.006890</td>\n",
       "      <td>-0.028069</td>\n",
       "      <td>0.021534</td>\n",
       "    </tr>\n",
       "    <tr>\n",
       "      <th>b0006</th>\n",
       "      <td>-0.006011</td>\n",
       "      <td>0.009889</td>\n",
       "      <td>-0.005555</td>\n",
       "      <td>-0.000152</td>\n",
       "      <td>-0.002454</td>\n",
       "      <td>0.009678</td>\n",
       "      <td>-0.003456</td>\n",
       "      <td>0.002160</td>\n",
       "      <td>-0.001924</td>\n",
       "      <td>-0.000628</td>\n",
       "      <td>...</td>\n",
       "      <td>-0.005661</td>\n",
       "      <td>0.000700</td>\n",
       "      <td>-0.002538</td>\n",
       "      <td>-0.006103</td>\n",
       "      <td>-0.002506</td>\n",
       "      <td>-0.005077</td>\n",
       "      <td>-0.004616</td>\n",
       "      <td>-0.003585</td>\n",
       "      <td>0.001607</td>\n",
       "      <td>0.001285</td>\n",
       "    </tr>\n",
       "  </tbody>\n",
       "</table>\n",
       "<p>5 rows × 92 columns</p>\n",
       "</div>"
      ],
      "text/plain": [
       "       AllR/AraC/FucR    ArcA-1    ArcA-2      ArgR      AtoC   BW25113  \\\n",
       "b0002       -0.010888 -0.007717 -0.008502 -0.012186 -0.061489 -0.005599   \n",
       "b0003       -0.011467  0.003042  0.011448 -0.003685 -0.006106  0.006680   \n",
       "b0004       -0.008693  0.003944  0.012347 -0.008104  0.000585  0.003245   \n",
       "b0005        0.006565 -0.001099  0.009415 -0.008507  0.005399  0.014748   \n",
       "b0006       -0.006011  0.009889 -0.005555 -0.000152 -0.002454  0.009678   \n",
       "\n",
       "       Cbl+CysB      CdaR      CecR    Copper  ...   thrA-KO  translation  \\\n",
       "b0002 -0.007377 -0.000795  0.004331  0.001845  ...  0.479209     0.035685   \n",
       "b0003 -0.043512  0.005107  0.000474  0.007650  ...  0.011420     0.040811   \n",
       "b0004 -0.041283  0.006390  0.004260  0.007109  ...  0.011339     0.036244   \n",
       "b0005 -0.009249 -0.003058 -0.012649 -0.002370  ... -0.015324     0.028972   \n",
       "b0006 -0.003456  0.002160 -0.001924 -0.000628  ... -0.005661     0.000700   \n",
       "\n",
       "       uncharacterized-1  uncharacterized-2  uncharacterized-3  \\\n",
       "b0002           0.024778          -0.010660          -0.002123   \n",
       "b0003           0.003324          -0.008424          -0.004415   \n",
       "b0004           0.003710          -0.005212           0.000700   \n",
       "b0005           0.023969           0.000150           0.018497   \n",
       "b0006          -0.002538          -0.006103          -0.002506   \n",
       "\n",
       "       uncharacterized-4  uncharacterized-5  uncharacterized-6   ydcI-KO  \\\n",
       "b0002          -0.004416          -0.005428          -0.009219 -0.004345   \n",
       "b0003          -0.016126          -0.016476          -0.003497 -0.003583   \n",
       "b0004          -0.011096          -0.006140          -0.003155 -0.008418   \n",
       "b0005           0.009428           0.001255          -0.006890 -0.028069   \n",
       "b0006          -0.005077          -0.004616          -0.003585  0.001607   \n",
       "\n",
       "        yheO-KO  \n",
       "b0002 -0.007838  \n",
       "b0003  0.003381  \n",
       "b0004  0.000129  \n",
       "b0005  0.021534  \n",
       "b0006  0.001285  \n",
       "\n",
       "[5 rows x 92 columns]"
      ]
     },
     "execution_count": 5,
     "metadata": {},
     "output_type": "execute_result"
    }
   ],
   "source": [
    "ica_data.M.head()"
   ]
  },
  {
   "cell_type": "code",
   "execution_count": 6,
   "id": "db8470ec",
   "metadata": {},
   "outputs": [
    {
     "name": "stdout",
     "output_type": "stream",
     "text": [
      "Gene names: ['b0002', 'b0003', 'b0004', 'b0005', 'b0006']\n",
      "Sample names: ['control__wt_glc__1', 'control__wt_glc__2', 'fur__wt_dpd__1', 'fur__wt_dpd__2', 'fur__wt_fe__1']\n",
      "iModulon names: ['AllR/AraC/FucR', 'ArcA-1', 'ArcA-2', 'ArgR', 'AtoC']\n"
     ]
    }
   ],
   "source": [
    "print('Gene names:',ica_data.gene_names[:5])\n",
    "print('Sample names:',ica_data.sample_names[:5])\n",
    "print('iModulon names:',ica_data.imodulon_names[:5])"
   ]
  },
  {
   "cell_type": "markdown",
   "id": "72357bff",
   "metadata": {},
   "source": [
    "Now we can take a look at the raw data"
   ]
  },
  {
   "cell_type": "code",
   "execution_count": 7,
   "id": "1697e72c",
   "metadata": {
    "scrolled": true
   },
   "outputs": [
    {
     "data": {
      "text/html": [
       "<div>\n",
       "<style scoped>\n",
       "    .dataframe tbody tr th:only-of-type {\n",
       "        vertical-align: middle;\n",
       "    }\n",
       "\n",
       "    .dataframe tbody tr th {\n",
       "        vertical-align: top;\n",
       "    }\n",
       "\n",
       "    .dataframe thead th {\n",
       "        text-align: right;\n",
       "    }\n",
       "</style>\n",
       "<table border=\"1\" class=\"dataframe\">\n",
       "  <thead>\n",
       "    <tr style=\"text-align: right;\">\n",
       "      <th></th>\n",
       "      <th>control__wt_glc__1</th>\n",
       "      <th>control__wt_glc__2</th>\n",
       "      <th>fur__wt_dpd__1</th>\n",
       "      <th>fur__wt_dpd__2</th>\n",
       "      <th>fur__wt_fe__1</th>\n",
       "      <th>fur__wt_fe__2</th>\n",
       "      <th>fur__delfur_dpd__1</th>\n",
       "      <th>fur__delfur_dpd__2</th>\n",
       "      <th>fur__delfur_fe2__1</th>\n",
       "      <th>fur__delfur_fe2__2</th>\n",
       "      <th>...</th>\n",
       "      <th>efeU__menFentC_ale29__1</th>\n",
       "      <th>efeU__menFentC_ale29__2</th>\n",
       "      <th>efeU__menFentC_ale30__1</th>\n",
       "      <th>efeU__menFentC_ale30__2</th>\n",
       "      <th>efeU__menFentCubiC_ale36__1</th>\n",
       "      <th>efeU__menFentCubiC_ale36__2</th>\n",
       "      <th>efeU__menFentCubiC_ale37__1</th>\n",
       "      <th>efeU__menFentCubiC_ale37__2</th>\n",
       "      <th>efeU__menFentCubiC_ale38__1</th>\n",
       "      <th>efeU__menFentCubiC_ale38__2</th>\n",
       "    </tr>\n",
       "  </thead>\n",
       "  <tbody>\n",
       "    <tr>\n",
       "      <th>b0002</th>\n",
       "      <td>-0.061772</td>\n",
       "      <td>0.061772</td>\n",
       "      <td>0.636527</td>\n",
       "      <td>0.819793</td>\n",
       "      <td>-0.003615</td>\n",
       "      <td>-0.289353</td>\n",
       "      <td>-1.092023</td>\n",
       "      <td>-0.777289</td>\n",
       "      <td>0.161343</td>\n",
       "      <td>0.145641</td>\n",
       "      <td>...</td>\n",
       "      <td>-0.797097</td>\n",
       "      <td>-0.791859</td>\n",
       "      <td>0.080114</td>\n",
       "      <td>0.102154</td>\n",
       "      <td>0.608180</td>\n",
       "      <td>0.657673</td>\n",
       "      <td>0.813105</td>\n",
       "      <td>0.854813</td>\n",
       "      <td>0.427986</td>\n",
       "      <td>0.484338</td>\n",
       "    </tr>\n",
       "    <tr>\n",
       "      <th>b0003</th>\n",
       "      <td>-0.053742</td>\n",
       "      <td>0.053742</td>\n",
       "      <td>0.954439</td>\n",
       "      <td>1.334385</td>\n",
       "      <td>0.307588</td>\n",
       "      <td>0.128414</td>\n",
       "      <td>-0.872563</td>\n",
       "      <td>-0.277893</td>\n",
       "      <td>0.428542</td>\n",
       "      <td>0.391761</td>\n",
       "      <td>...</td>\n",
       "      <td>-0.309105</td>\n",
       "      <td>-0.352535</td>\n",
       "      <td>-0.155074</td>\n",
       "      <td>-0.077145</td>\n",
       "      <td>0.447030</td>\n",
       "      <td>0.439881</td>\n",
       "      <td>0.554528</td>\n",
       "      <td>0.569030</td>\n",
       "      <td>0.154905</td>\n",
       "      <td>0.294799</td>\n",
       "    </tr>\n",
       "    <tr>\n",
       "      <th>b0004</th>\n",
       "      <td>-0.065095</td>\n",
       "      <td>0.065095</td>\n",
       "      <td>-0.202697</td>\n",
       "      <td>0.119195</td>\n",
       "      <td>-0.264995</td>\n",
       "      <td>-0.546017</td>\n",
       "      <td>-1.918349</td>\n",
       "      <td>-1.577736</td>\n",
       "      <td>-0.474815</td>\n",
       "      <td>-0.495312</td>\n",
       "      <td>...</td>\n",
       "      <td>-0.184898</td>\n",
       "      <td>-0.225615</td>\n",
       "      <td>0.019575</td>\n",
       "      <td>0.063986</td>\n",
       "      <td>0.483343</td>\n",
       "      <td>0.452754</td>\n",
       "      <td>0.524828</td>\n",
       "      <td>0.581878</td>\n",
       "      <td>0.293239</td>\n",
       "      <td>0.341040</td>\n",
       "    </tr>\n",
       "    <tr>\n",
       "      <th>b0005</th>\n",
       "      <td>0.028802</td>\n",
       "      <td>-0.028802</td>\n",
       "      <td>-0.865171</td>\n",
       "      <td>-0.951179</td>\n",
       "      <td>0.428769</td>\n",
       "      <td>0.123564</td>\n",
       "      <td>-1.660351</td>\n",
       "      <td>-1.531147</td>\n",
       "      <td>0.240353</td>\n",
       "      <td>-0.151132</td>\n",
       "      <td>...</td>\n",
       "      <td>-0.308221</td>\n",
       "      <td>-0.581714</td>\n",
       "      <td>0.018820</td>\n",
       "      <td>0.004040</td>\n",
       "      <td>-1.228763</td>\n",
       "      <td>-1.451750</td>\n",
       "      <td>-0.839203</td>\n",
       "      <td>-0.529349</td>\n",
       "      <td>-0.413336</td>\n",
       "      <td>-0.478682</td>\n",
       "    </tr>\n",
       "    <tr>\n",
       "      <th>b0006</th>\n",
       "      <td>0.009087</td>\n",
       "      <td>-0.009087</td>\n",
       "      <td>-0.131039</td>\n",
       "      <td>-0.124079</td>\n",
       "      <td>-0.144870</td>\n",
       "      <td>-0.090152</td>\n",
       "      <td>-0.219917</td>\n",
       "      <td>-0.046648</td>\n",
       "      <td>-0.044537</td>\n",
       "      <td>-0.089204</td>\n",
       "      <td>...</td>\n",
       "      <td>1.464603</td>\n",
       "      <td>1.415706</td>\n",
       "      <td>1.230831</td>\n",
       "      <td>1.165153</td>\n",
       "      <td>0.447447</td>\n",
       "      <td>0.458852</td>\n",
       "      <td>0.421417</td>\n",
       "      <td>0.408077</td>\n",
       "      <td>1.151066</td>\n",
       "      <td>1.198529</td>\n",
       "    </tr>\n",
       "  </tbody>\n",
       "</table>\n",
       "<p>5 rows × 278 columns</p>\n",
       "</div>"
      ],
      "text/plain": [
       "       control__wt_glc__1  control__wt_glc__2  fur__wt_dpd__1  fur__wt_dpd__2  \\\n",
       "b0002           -0.061772            0.061772        0.636527        0.819793   \n",
       "b0003           -0.053742            0.053742        0.954439        1.334385   \n",
       "b0004           -0.065095            0.065095       -0.202697        0.119195   \n",
       "b0005            0.028802           -0.028802       -0.865171       -0.951179   \n",
       "b0006            0.009087           -0.009087       -0.131039       -0.124079   \n",
       "\n",
       "       fur__wt_fe__1  fur__wt_fe__2  fur__delfur_dpd__1  fur__delfur_dpd__2  \\\n",
       "b0002      -0.003615      -0.289353           -1.092023           -0.777289   \n",
       "b0003       0.307588       0.128414           -0.872563           -0.277893   \n",
       "b0004      -0.264995      -0.546017           -1.918349           -1.577736   \n",
       "b0005       0.428769       0.123564           -1.660351           -1.531147   \n",
       "b0006      -0.144870      -0.090152           -0.219917           -0.046648   \n",
       "\n",
       "       fur__delfur_fe2__1  fur__delfur_fe2__2  ...  efeU__menFentC_ale29__1  \\\n",
       "b0002            0.161343            0.145641  ...                -0.797097   \n",
       "b0003            0.428542            0.391761  ...                -0.309105   \n",
       "b0004           -0.474815           -0.495312  ...                -0.184898   \n",
       "b0005            0.240353           -0.151132  ...                -0.308221   \n",
       "b0006           -0.044537           -0.089204  ...                 1.464603   \n",
       "\n",
       "       efeU__menFentC_ale29__2  efeU__menFentC_ale30__1  \\\n",
       "b0002                -0.791859                 0.080114   \n",
       "b0003                -0.352535                -0.155074   \n",
       "b0004                -0.225615                 0.019575   \n",
       "b0005                -0.581714                 0.018820   \n",
       "b0006                 1.415706                 1.230831   \n",
       "\n",
       "       efeU__menFentC_ale30__2  efeU__menFentCubiC_ale36__1  \\\n",
       "b0002                 0.102154                     0.608180   \n",
       "b0003                -0.077145                     0.447030   \n",
       "b0004                 0.063986                     0.483343   \n",
       "b0005                 0.004040                    -1.228763   \n",
       "b0006                 1.165153                     0.447447   \n",
       "\n",
       "       efeU__menFentCubiC_ale36__2  efeU__menFentCubiC_ale37__1  \\\n",
       "b0002                     0.657673                     0.813105   \n",
       "b0003                     0.439881                     0.554528   \n",
       "b0004                     0.452754                     0.524828   \n",
       "b0005                    -1.451750                    -0.839203   \n",
       "b0006                     0.458852                     0.421417   \n",
       "\n",
       "       efeU__menFentCubiC_ale37__2  efeU__menFentCubiC_ale38__1  \\\n",
       "b0002                     0.854813                     0.427986   \n",
       "b0003                     0.569030                     0.154905   \n",
       "b0004                     0.581878                     0.293239   \n",
       "b0005                    -0.529349                    -0.413336   \n",
       "b0006                     0.408077                     1.151066   \n",
       "\n",
       "       efeU__menFentCubiC_ale38__2  \n",
       "b0002                     0.484338  \n",
       "b0003                     0.294799  \n",
       "b0004                     0.341040  \n",
       "b0005                    -0.478682  \n",
       "b0006                     1.198529  \n",
       "\n",
       "[5 rows x 278 columns]"
      ]
     },
     "execution_count": 7,
     "metadata": {},
     "output_type": "execute_result"
    }
   ],
   "source": [
    "X = example_data.X\n",
    "X.head()"
   ]
  },
  {
   "cell_type": "code",
   "execution_count": 9,
   "id": "55af339b",
   "metadata": {},
   "outputs": [],
   "source": [
    "ica_data.X = X"
   ]
  },
  {
   "cell_type": "code",
   "execution_count": 10,
   "id": "4a1ef6e1",
   "metadata": {},
   "outputs": [
    {
     "data": {
      "text/html": [
       "<div>\n",
       "<style scoped>\n",
       "    .dataframe tbody tr th:only-of-type {\n",
       "        vertical-align: middle;\n",
       "    }\n",
       "\n",
       "    .dataframe tbody tr th {\n",
       "        vertical-align: top;\n",
       "    }\n",
       "\n",
       "    .dataframe thead th {\n",
       "        text-align: right;\n",
       "    }\n",
       "</style>\n",
       "<table border=\"1\" class=\"dataframe\">\n",
       "  <thead>\n",
       "    <tr style=\"text-align: right;\">\n",
       "      <th></th>\n",
       "    </tr>\n",
       "  </thead>\n",
       "  <tbody>\n",
       "    <tr>\n",
       "      <th>b0002</th>\n",
       "    </tr>\n",
       "    <tr>\n",
       "      <th>b0003</th>\n",
       "    </tr>\n",
       "    <tr>\n",
       "      <th>b0004</th>\n",
       "    </tr>\n",
       "    <tr>\n",
       "      <th>b0005</th>\n",
       "    </tr>\n",
       "    <tr>\n",
       "      <th>b0006</th>\n",
       "    </tr>\n",
       "  </tbody>\n",
       "</table>\n",
       "</div>"
      ],
      "text/plain": [
       "Empty DataFrame\n",
       "Columns: []\n",
       "Index: [b0002, b0003, b0004, b0005, b0006]"
      ]
     },
     "execution_count": 10,
     "metadata": {},
     "output_type": "execute_result"
    }
   ],
   "source": [
    "ica_data.gene_table.head()"
   ]
  },
  {
   "cell_type": "code",
   "execution_count": 11,
   "id": "a7fb5bc2",
   "metadata": {},
   "outputs": [
    {
     "data": {
      "text/html": [
       "<div>\n",
       "<style scoped>\n",
       "    .dataframe tbody tr th:only-of-type {\n",
       "        vertical-align: middle;\n",
       "    }\n",
       "\n",
       "    .dataframe tbody tr th {\n",
       "        vertical-align: top;\n",
       "    }\n",
       "\n",
       "    .dataframe thead th {\n",
       "        text-align: right;\n",
       "    }\n",
       "</style>\n",
       "<table border=\"1\" class=\"dataframe\">\n",
       "  <thead>\n",
       "    <tr style=\"text-align: right;\">\n",
       "      <th></th>\n",
       "      <th>start</th>\n",
       "      <th>end</th>\n",
       "      <th>strand</th>\n",
       "      <th>gene_name</th>\n",
       "      <th>length</th>\n",
       "      <th>operon</th>\n",
       "      <th>COG</th>\n",
       "      <th>accession</th>\n",
       "    </tr>\n",
       "  </thead>\n",
       "  <tbody>\n",
       "    <tr>\n",
       "      <th>b0001</th>\n",
       "      <td>189</td>\n",
       "      <td>255</td>\n",
       "      <td>+</td>\n",
       "      <td>thrL</td>\n",
       "      <td>66</td>\n",
       "      <td>thrLABC</td>\n",
       "      <td>No COG Annotation</td>\n",
       "      <td>NC_000913.3</td>\n",
       "    </tr>\n",
       "    <tr>\n",
       "      <th>b0002</th>\n",
       "      <td>336</td>\n",
       "      <td>2799</td>\n",
       "      <td>+</td>\n",
       "      <td>thrA</td>\n",
       "      <td>2463</td>\n",
       "      <td>thrLABC</td>\n",
       "      <td>Amino acid transport and metabolism</td>\n",
       "      <td>NC_000913.3</td>\n",
       "    </tr>\n",
       "    <tr>\n",
       "      <th>b0003</th>\n",
       "      <td>2800</td>\n",
       "      <td>3733</td>\n",
       "      <td>+</td>\n",
       "      <td>thrB</td>\n",
       "      <td>933</td>\n",
       "      <td>thrLABC</td>\n",
       "      <td>Amino acid transport and metabolism</td>\n",
       "      <td>NC_000913.3</td>\n",
       "    </tr>\n",
       "    <tr>\n",
       "      <th>b0004</th>\n",
       "      <td>3733</td>\n",
       "      <td>5020</td>\n",
       "      <td>+</td>\n",
       "      <td>thrC</td>\n",
       "      <td>1287</td>\n",
       "      <td>thrLABC</td>\n",
       "      <td>Amino acid transport and metabolism</td>\n",
       "      <td>NC_000913.3</td>\n",
       "    </tr>\n",
       "    <tr>\n",
       "      <th>b0005</th>\n",
       "      <td>5233</td>\n",
       "      <td>5530</td>\n",
       "      <td>+</td>\n",
       "      <td>yaaX</td>\n",
       "      <td>297</td>\n",
       "      <td>yaaX</td>\n",
       "      <td>Function unknown</td>\n",
       "      <td>NC_000913.3</td>\n",
       "    </tr>\n",
       "  </tbody>\n",
       "</table>\n",
       "</div>"
      ],
      "text/plain": [
       "       start   end strand gene_name  length   operon  \\\n",
       "b0001    189   255      +      thrL      66  thrLABC   \n",
       "b0002    336  2799      +      thrA    2463  thrLABC   \n",
       "b0003   2800  3733      +      thrB     933  thrLABC   \n",
       "b0004   3733  5020      +      thrC    1287  thrLABC   \n",
       "b0005   5233  5530      +      yaaX     297     yaaX   \n",
       "\n",
       "                                       COG    accession  \n",
       "b0001                    No COG Annotation  NC_000913.3  \n",
       "b0002  Amino acid transport and metabolism  NC_000913.3  \n",
       "b0003  Amino acid transport and metabolism  NC_000913.3  \n",
       "b0004  Amino acid transport and metabolism  NC_000913.3  \n",
       "b0005                     Function unknown  NC_000913.3  "
      ]
     },
     "execution_count": 11,
     "metadata": {},
     "output_type": "execute_result"
    }
   ],
   "source": [
    "gene_table = example_data.gene_table\n",
    "gene_table.head()"
   ]
  },
  {
   "cell_type": "code",
   "execution_count": 12,
   "id": "764aa915",
   "metadata": {},
   "outputs": [
    {
     "data": {
      "text/html": [
       "<div>\n",
       "<style scoped>\n",
       "    .dataframe tbody tr th:only-of-type {\n",
       "        vertical-align: middle;\n",
       "    }\n",
       "\n",
       "    .dataframe tbody tr th {\n",
       "        vertical-align: top;\n",
       "    }\n",
       "\n",
       "    .dataframe thead th {\n",
       "        text-align: right;\n",
       "    }\n",
       "</style>\n",
       "<table border=\"1\" class=\"dataframe\">\n",
       "  <thead>\n",
       "    <tr style=\"text-align: right;\">\n",
       "      <th></th>\n",
       "      <th>Study</th>\n",
       "      <th>project</th>\n",
       "      <th>condition</th>\n",
       "      <th>Replicate #</th>\n",
       "      <th>Strain Description</th>\n",
       "      <th>Strain</th>\n",
       "      <th>Base Media</th>\n",
       "      <th>Carbon Source (g/L)</th>\n",
       "      <th>Nitrogen Source (g/L)</th>\n",
       "      <th>Electron Acceptor</th>\n",
       "      <th>...</th>\n",
       "      <th>Growth Rate (1/hr)</th>\n",
       "      <th>Evolved Sample</th>\n",
       "      <th>Isolate Type</th>\n",
       "      <th>Sequencing Machine</th>\n",
       "      <th>ALEdb sample</th>\n",
       "      <th>Additional Details</th>\n",
       "      <th>Biological Replicates</th>\n",
       "      <th>Alignment</th>\n",
       "      <th>DOI</th>\n",
       "      <th>GEO</th>\n",
       "    </tr>\n",
       "    <tr>\n",
       "      <th>Sample ID</th>\n",
       "      <th></th>\n",
       "      <th></th>\n",
       "      <th></th>\n",
       "      <th></th>\n",
       "      <th></th>\n",
       "      <th></th>\n",
       "      <th></th>\n",
       "      <th></th>\n",
       "      <th></th>\n",
       "      <th></th>\n",
       "      <th></th>\n",
       "      <th></th>\n",
       "      <th></th>\n",
       "      <th></th>\n",
       "      <th></th>\n",
       "      <th></th>\n",
       "      <th></th>\n",
       "      <th></th>\n",
       "      <th></th>\n",
       "      <th></th>\n",
       "      <th></th>\n",
       "    </tr>\n",
       "  </thead>\n",
       "  <tbody>\n",
       "    <tr>\n",
       "      <th>control__wt_glc__1</th>\n",
       "      <td>Control</td>\n",
       "      <td>control</td>\n",
       "      <td>wt_glc</td>\n",
       "      <td>1</td>\n",
       "      <td>Escherichia coli K-12 MG1655</td>\n",
       "      <td>MG1655</td>\n",
       "      <td>M9</td>\n",
       "      <td>glucose(2)</td>\n",
       "      <td>NH4Cl(1)</td>\n",
       "      <td>O2</td>\n",
       "      <td>...</td>\n",
       "      <td>NaN</td>\n",
       "      <td>No</td>\n",
       "      <td>NaN</td>\n",
       "      <td>MiSeq</td>\n",
       "      <td>NaN</td>\n",
       "      <td>NaN</td>\n",
       "      <td>2</td>\n",
       "      <td>94.33</td>\n",
       "      <td>doi.org/10.1101/080929</td>\n",
       "      <td>GSE65643</td>\n",
       "    </tr>\n",
       "    <tr>\n",
       "      <th>control__wt_glc__2</th>\n",
       "      <td>Control</td>\n",
       "      <td>control</td>\n",
       "      <td>wt_glc</td>\n",
       "      <td>2</td>\n",
       "      <td>Escherichia coli K-12 MG1655</td>\n",
       "      <td>MG1655</td>\n",
       "      <td>M9</td>\n",
       "      <td>glucose(2)</td>\n",
       "      <td>NH4Cl(1)</td>\n",
       "      <td>O2</td>\n",
       "      <td>...</td>\n",
       "      <td>NaN</td>\n",
       "      <td>No</td>\n",
       "      <td>NaN</td>\n",
       "      <td>MiSeq</td>\n",
       "      <td>NaN</td>\n",
       "      <td>NaN</td>\n",
       "      <td>2</td>\n",
       "      <td>94.24</td>\n",
       "      <td>doi.org/10.1101/080929</td>\n",
       "      <td>GSE65643</td>\n",
       "    </tr>\n",
       "    <tr>\n",
       "      <th>fur__wt_dpd__1</th>\n",
       "      <td>Fur</td>\n",
       "      <td>fur</td>\n",
       "      <td>wt_dpd</td>\n",
       "      <td>1</td>\n",
       "      <td>Escherichia coli K-12 MG1655</td>\n",
       "      <td>MG1655</td>\n",
       "      <td>M9</td>\n",
       "      <td>glucose(2)</td>\n",
       "      <td>NH4Cl(1)</td>\n",
       "      <td>O2</td>\n",
       "      <td>...</td>\n",
       "      <td>0.00</td>\n",
       "      <td>No</td>\n",
       "      <td>NaN</td>\n",
       "      <td>MiSeq</td>\n",
       "      <td>NaN</td>\n",
       "      <td>NaN</td>\n",
       "      <td>2</td>\n",
       "      <td>98.04</td>\n",
       "      <td>doi.org/10.1038/ncomms5910</td>\n",
       "      <td>GSE54900</td>\n",
       "    </tr>\n",
       "    <tr>\n",
       "      <th>fur__wt_dpd__2</th>\n",
       "      <td>Fur</td>\n",
       "      <td>fur</td>\n",
       "      <td>wt_dpd</td>\n",
       "      <td>2</td>\n",
       "      <td>Escherichia coli K-12 MG1655</td>\n",
       "      <td>MG1655</td>\n",
       "      <td>M9</td>\n",
       "      <td>glucose(2)</td>\n",
       "      <td>NH4Cl(1)</td>\n",
       "      <td>O2</td>\n",
       "      <td>...</td>\n",
       "      <td>0.00</td>\n",
       "      <td>No</td>\n",
       "      <td>NaN</td>\n",
       "      <td>MiSeq</td>\n",
       "      <td>NaN</td>\n",
       "      <td>NaN</td>\n",
       "      <td>2</td>\n",
       "      <td>98.30</td>\n",
       "      <td>doi.org/10.1038/ncomms5910</td>\n",
       "      <td>GSE54900</td>\n",
       "    </tr>\n",
       "    <tr>\n",
       "      <th>fur__wt_fe__1</th>\n",
       "      <td>Fur</td>\n",
       "      <td>fur</td>\n",
       "      <td>wt_fe</td>\n",
       "      <td>1</td>\n",
       "      <td>Escherichia coli K-12 MG1655</td>\n",
       "      <td>MG1655</td>\n",
       "      <td>M9</td>\n",
       "      <td>glucose(2)</td>\n",
       "      <td>NH4Cl(1)</td>\n",
       "      <td>O2</td>\n",
       "      <td>...</td>\n",
       "      <td>1.06</td>\n",
       "      <td>No</td>\n",
       "      <td>NaN</td>\n",
       "      <td>MiSeq</td>\n",
       "      <td>NaN</td>\n",
       "      <td>NaN</td>\n",
       "      <td>2</td>\n",
       "      <td>93.35</td>\n",
       "      <td>doi.org/10.1038/ncomms5910</td>\n",
       "      <td>GSE54900</td>\n",
       "    </tr>\n",
       "  </tbody>\n",
       "</table>\n",
       "<p>5 rows × 26 columns</p>\n",
       "</div>"
      ],
      "text/plain": [
       "                      Study  project condition  Replicate #  \\\n",
       "Sample ID                                                     \n",
       "control__wt_glc__1  Control  control    wt_glc            1   \n",
       "control__wt_glc__2  Control  control    wt_glc            2   \n",
       "fur__wt_dpd__1          Fur      fur    wt_dpd            1   \n",
       "fur__wt_dpd__2          Fur      fur    wt_dpd            2   \n",
       "fur__wt_fe__1           Fur      fur     wt_fe            1   \n",
       "\n",
       "                              Strain Description  Strain Base Media  \\\n",
       "Sample ID                                                             \n",
       "control__wt_glc__1  Escherichia coli K-12 MG1655  MG1655         M9   \n",
       "control__wt_glc__2  Escherichia coli K-12 MG1655  MG1655         M9   \n",
       "fur__wt_dpd__1      Escherichia coli K-12 MG1655  MG1655         M9   \n",
       "fur__wt_dpd__2      Escherichia coli K-12 MG1655  MG1655         M9   \n",
       "fur__wt_fe__1       Escherichia coli K-12 MG1655  MG1655         M9   \n",
       "\n",
       "                   Carbon Source (g/L) Nitrogen Source (g/L)  \\\n",
       "Sample ID                                                      \n",
       "control__wt_glc__1          glucose(2)              NH4Cl(1)   \n",
       "control__wt_glc__2          glucose(2)              NH4Cl(1)   \n",
       "fur__wt_dpd__1              glucose(2)              NH4Cl(1)   \n",
       "fur__wt_dpd__2              glucose(2)              NH4Cl(1)   \n",
       "fur__wt_fe__1               glucose(2)              NH4Cl(1)   \n",
       "\n",
       "                   Electron Acceptor  ... Growth Rate (1/hr) Evolved Sample  \\\n",
       "Sample ID                             ...                                     \n",
       "control__wt_glc__1                O2  ...                NaN             No   \n",
       "control__wt_glc__2                O2  ...                NaN             No   \n",
       "fur__wt_dpd__1                    O2  ...               0.00             No   \n",
       "fur__wt_dpd__2                    O2  ...               0.00             No   \n",
       "fur__wt_fe__1                     O2  ...               1.06             No   \n",
       "\n",
       "                    Isolate Type  Sequencing Machine ALEdb sample  \\\n",
       "Sample ID                                                           \n",
       "control__wt_glc__1           NaN               MiSeq          NaN   \n",
       "control__wt_glc__2           NaN               MiSeq          NaN   \n",
       "fur__wt_dpd__1               NaN               MiSeq          NaN   \n",
       "fur__wt_dpd__2               NaN               MiSeq          NaN   \n",
       "fur__wt_fe__1                NaN               MiSeq          NaN   \n",
       "\n",
       "                   Additional Details  Biological Replicates Alignment  \\\n",
       "Sample ID                                                                \n",
       "control__wt_glc__1                NaN                      2     94.33   \n",
       "control__wt_glc__2                NaN                      2     94.24   \n",
       "fur__wt_dpd__1                    NaN                      2     98.04   \n",
       "fur__wt_dpd__2                    NaN                      2     98.30   \n",
       "fur__wt_fe__1                     NaN                      2     93.35   \n",
       "\n",
       "                                           DOI       GEO  \n",
       "Sample ID                                                 \n",
       "control__wt_glc__1      doi.org/10.1101/080929  GSE65643  \n",
       "control__wt_glc__2      doi.org/10.1101/080929  GSE65643  \n",
       "fur__wt_dpd__1      doi.org/10.1038/ncomms5910  GSE54900  \n",
       "fur__wt_dpd__2      doi.org/10.1038/ncomms5910  GSE54900  \n",
       "fur__wt_fe__1       doi.org/10.1038/ncomms5910  GSE54900  \n",
       "\n",
       "[5 rows x 26 columns]"
      ]
     },
     "execution_count": 12,
     "metadata": {},
     "output_type": "execute_result"
    }
   ],
   "source": [
    "sample_table = example_data.sample_table\n",
    "sample_table.head()"
   ]
  },
  {
   "cell_type": "code",
   "execution_count": 13,
   "id": "f451215f",
   "metadata": {},
   "outputs": [
    {
     "data": {
      "text/html": [
       "<div>\n",
       "<style scoped>\n",
       "    .dataframe tbody tr th:only-of-type {\n",
       "        vertical-align: middle;\n",
       "    }\n",
       "\n",
       "    .dataframe tbody tr th {\n",
       "        vertical-align: top;\n",
       "    }\n",
       "\n",
       "    .dataframe thead th {\n",
       "        text-align: right;\n",
       "    }\n",
       "</style>\n",
       "<table border=\"1\" class=\"dataframe\">\n",
       "  <thead>\n",
       "    <tr style=\"text-align: right;\">\n",
       "      <th></th>\n",
       "      <th>regulator</th>\n",
       "      <th>f1score</th>\n",
       "      <th>pvalue</th>\n",
       "      <th>precision</th>\n",
       "      <th>recall</th>\n",
       "      <th>TP</th>\n",
       "      <th>n_genes</th>\n",
       "      <th>n_tf</th>\n",
       "      <th>Category</th>\n",
       "      <th>threshold</th>\n",
       "    </tr>\n",
       "    <tr>\n",
       "      <th>name</th>\n",
       "      <th></th>\n",
       "      <th></th>\n",
       "      <th></th>\n",
       "      <th></th>\n",
       "      <th></th>\n",
       "      <th></th>\n",
       "      <th></th>\n",
       "      <th></th>\n",
       "      <th></th>\n",
       "      <th></th>\n",
       "    </tr>\n",
       "  </thead>\n",
       "  <tbody>\n",
       "    <tr>\n",
       "      <th>AllR/AraC/FucR</th>\n",
       "      <td>allR/araC/fucR</td>\n",
       "      <td>0.750000</td>\n",
       "      <td>1.190000e-41</td>\n",
       "      <td>1.000000</td>\n",
       "      <td>0.600000</td>\n",
       "      <td>18.0</td>\n",
       "      <td>18</td>\n",
       "      <td>3</td>\n",
       "      <td>Carbon Source Utilization</td>\n",
       "      <td>0.086996</td>\n",
       "    </tr>\n",
       "    <tr>\n",
       "      <th>ArcA-1</th>\n",
       "      <td>arcA</td>\n",
       "      <td>0.130952</td>\n",
       "      <td>6.420000e-20</td>\n",
       "      <td>0.660000</td>\n",
       "      <td>0.072687</td>\n",
       "      <td>33.0</td>\n",
       "      <td>50</td>\n",
       "      <td>1</td>\n",
       "      <td>Energy Metabolism</td>\n",
       "      <td>0.058051</td>\n",
       "    </tr>\n",
       "    <tr>\n",
       "      <th>ArcA-2</th>\n",
       "      <td>arcA</td>\n",
       "      <td>0.087683</td>\n",
       "      <td>1.150000e-16</td>\n",
       "      <td>0.840000</td>\n",
       "      <td>0.046256</td>\n",
       "      <td>21.0</td>\n",
       "      <td>25</td>\n",
       "      <td>1</td>\n",
       "      <td>Energy Metabolism</td>\n",
       "      <td>0.081113</td>\n",
       "    </tr>\n",
       "    <tr>\n",
       "      <th>ArgR</th>\n",
       "      <td>argR</td>\n",
       "      <td>0.177778</td>\n",
       "      <td>6.030000e-18</td>\n",
       "      <td>0.923077</td>\n",
       "      <td>0.098361</td>\n",
       "      <td>12.0</td>\n",
       "      <td>13</td>\n",
       "      <td>1</td>\n",
       "      <td>Amino Acid and Nucleotide Biosynthesis</td>\n",
       "      <td>0.080441</td>\n",
       "    </tr>\n",
       "    <tr>\n",
       "      <th>AtoC</th>\n",
       "      <td>atoC</td>\n",
       "      <td>0.800000</td>\n",
       "      <td>1.520000e-12</td>\n",
       "      <td>0.666667</td>\n",
       "      <td>1.000000</td>\n",
       "      <td>4.0</td>\n",
       "      <td>6</td>\n",
       "      <td>1</td>\n",
       "      <td>Miscellaneous Metabolism</td>\n",
       "      <td>0.105756</td>\n",
       "    </tr>\n",
       "  </tbody>\n",
       "</table>\n",
       "</div>"
      ],
      "text/plain": [
       "                     regulator   f1score        pvalue  precision    recall  \\\n",
       "name                                                                          \n",
       "AllR/AraC/FucR  allR/araC/fucR  0.750000  1.190000e-41   1.000000  0.600000   \n",
       "ArcA-1                    arcA  0.130952  6.420000e-20   0.660000  0.072687   \n",
       "ArcA-2                    arcA  0.087683  1.150000e-16   0.840000  0.046256   \n",
       "ArgR                      argR  0.177778  6.030000e-18   0.923077  0.098361   \n",
       "AtoC                      atoC  0.800000  1.520000e-12   0.666667  1.000000   \n",
       "\n",
       "                  TP  n_genes  n_tf                                Category  \\\n",
       "name                                                                          \n",
       "AllR/AraC/FucR  18.0       18     3               Carbon Source Utilization   \n",
       "ArcA-1          33.0       50     1                       Energy Metabolism   \n",
       "ArcA-2          21.0       25     1                       Energy Metabolism   \n",
       "ArgR            12.0       13     1  Amino Acid and Nucleotide Biosynthesis   \n",
       "AtoC             4.0        6     1                Miscellaneous Metabolism   \n",
       "\n",
       "                threshold  \n",
       "name                       \n",
       "AllR/AraC/FucR   0.086996  \n",
       "ArcA-1           0.058051  \n",
       "ArcA-2           0.081113  \n",
       "ArgR             0.080441  \n",
       "AtoC             0.105756  "
      ]
     },
     "execution_count": 13,
     "metadata": {},
     "output_type": "execute_result"
    }
   ],
   "source": [
    "imodulon_table = example_data.imodulon_table\n",
    "imodulon_table.head()"
   ]
  },
  {
   "cell_type": "code",
   "execution_count": 14,
   "id": "29cdd9ef",
   "metadata": {},
   "outputs": [],
   "source": [
    "ica_data.gene_table = gene_table\n",
    "ica_data.sample_table = sample_table\n",
    "ica_data.imodulon_table = imodulon_table"
   ]
  },
  {
   "cell_type": "code",
   "execution_count": 16,
   "id": "1b8a98e8",
   "metadata": {},
   "outputs": [
    {
     "data": {
      "text/html": [
       "<div>\n",
       "<style scoped>\n",
       "    .dataframe tbody tr th:only-of-type {\n",
       "        vertical-align: middle;\n",
       "    }\n",
       "\n",
       "    .dataframe tbody tr th {\n",
       "        vertical-align: top;\n",
       "    }\n",
       "\n",
       "    .dataframe thead th {\n",
       "        text-align: right;\n",
       "    }\n",
       "</style>\n",
       "<table border=\"1\" class=\"dataframe\">\n",
       "  <thead>\n",
       "    <tr style=\"text-align: right;\">\n",
       "      <th></th>\n",
       "      <th>Study</th>\n",
       "      <th>project</th>\n",
       "      <th>condition</th>\n",
       "      <th>Replicate #</th>\n",
       "      <th>Strain Description</th>\n",
       "      <th>Strain</th>\n",
       "      <th>Base Media</th>\n",
       "      <th>Carbon Source (g/L)</th>\n",
       "      <th>Nitrogen Source (g/L)</th>\n",
       "      <th>Electron Acceptor</th>\n",
       "      <th>...</th>\n",
       "      <th>Growth Rate (1/hr)</th>\n",
       "      <th>Evolved Sample</th>\n",
       "      <th>Isolate Type</th>\n",
       "      <th>Sequencing Machine</th>\n",
       "      <th>ALEdb sample</th>\n",
       "      <th>Additional Details</th>\n",
       "      <th>Biological Replicates</th>\n",
       "      <th>Alignment</th>\n",
       "      <th>DOI</th>\n",
       "      <th>GEO</th>\n",
       "    </tr>\n",
       "  </thead>\n",
       "  <tbody>\n",
       "    <tr>\n",
       "      <th>control__wt_glc__1</th>\n",
       "      <td>Control</td>\n",
       "      <td>control</td>\n",
       "      <td>wt_glc</td>\n",
       "      <td>1</td>\n",
       "      <td>Escherichia coli K-12 MG1655</td>\n",
       "      <td>MG1655</td>\n",
       "      <td>M9</td>\n",
       "      <td>glucose(2)</td>\n",
       "      <td>NH4Cl(1)</td>\n",
       "      <td>O2</td>\n",
       "      <td>...</td>\n",
       "      <td>NaN</td>\n",
       "      <td>No</td>\n",
       "      <td>NaN</td>\n",
       "      <td>MiSeq</td>\n",
       "      <td>NaN</td>\n",
       "      <td>NaN</td>\n",
       "      <td>2</td>\n",
       "      <td>94.33</td>\n",
       "      <td>doi.org/10.1101/080929</td>\n",
       "      <td>GSE65643</td>\n",
       "    </tr>\n",
       "    <tr>\n",
       "      <th>control__wt_glc__2</th>\n",
       "      <td>Control</td>\n",
       "      <td>control</td>\n",
       "      <td>wt_glc</td>\n",
       "      <td>2</td>\n",
       "      <td>Escherichia coli K-12 MG1655</td>\n",
       "      <td>MG1655</td>\n",
       "      <td>M9</td>\n",
       "      <td>glucose(2)</td>\n",
       "      <td>NH4Cl(1)</td>\n",
       "      <td>O2</td>\n",
       "      <td>...</td>\n",
       "      <td>NaN</td>\n",
       "      <td>No</td>\n",
       "      <td>NaN</td>\n",
       "      <td>MiSeq</td>\n",
       "      <td>NaN</td>\n",
       "      <td>NaN</td>\n",
       "      <td>2</td>\n",
       "      <td>94.24</td>\n",
       "      <td>doi.org/10.1101/080929</td>\n",
       "      <td>GSE65643</td>\n",
       "    </tr>\n",
       "    <tr>\n",
       "      <th>fur__wt_dpd__1</th>\n",
       "      <td>Fur</td>\n",
       "      <td>fur</td>\n",
       "      <td>wt_dpd</td>\n",
       "      <td>1</td>\n",
       "      <td>Escherichia coli K-12 MG1655</td>\n",
       "      <td>MG1655</td>\n",
       "      <td>M9</td>\n",
       "      <td>glucose(2)</td>\n",
       "      <td>NH4Cl(1)</td>\n",
       "      <td>O2</td>\n",
       "      <td>...</td>\n",
       "      <td>0.00</td>\n",
       "      <td>No</td>\n",
       "      <td>NaN</td>\n",
       "      <td>MiSeq</td>\n",
       "      <td>NaN</td>\n",
       "      <td>NaN</td>\n",
       "      <td>2</td>\n",
       "      <td>98.04</td>\n",
       "      <td>doi.org/10.1038/ncomms5910</td>\n",
       "      <td>GSE54900</td>\n",
       "    </tr>\n",
       "    <tr>\n",
       "      <th>fur__wt_dpd__2</th>\n",
       "      <td>Fur</td>\n",
       "      <td>fur</td>\n",
       "      <td>wt_dpd</td>\n",
       "      <td>2</td>\n",
       "      <td>Escherichia coli K-12 MG1655</td>\n",
       "      <td>MG1655</td>\n",
       "      <td>M9</td>\n",
       "      <td>glucose(2)</td>\n",
       "      <td>NH4Cl(1)</td>\n",
       "      <td>O2</td>\n",
       "      <td>...</td>\n",
       "      <td>0.00</td>\n",
       "      <td>No</td>\n",
       "      <td>NaN</td>\n",
       "      <td>MiSeq</td>\n",
       "      <td>NaN</td>\n",
       "      <td>NaN</td>\n",
       "      <td>2</td>\n",
       "      <td>98.30</td>\n",
       "      <td>doi.org/10.1038/ncomms5910</td>\n",
       "      <td>GSE54900</td>\n",
       "    </tr>\n",
       "    <tr>\n",
       "      <th>fur__wt_fe__1</th>\n",
       "      <td>Fur</td>\n",
       "      <td>fur</td>\n",
       "      <td>wt_fe</td>\n",
       "      <td>1</td>\n",
       "      <td>Escherichia coli K-12 MG1655</td>\n",
       "      <td>MG1655</td>\n",
       "      <td>M9</td>\n",
       "      <td>glucose(2)</td>\n",
       "      <td>NH4Cl(1)</td>\n",
       "      <td>O2</td>\n",
       "      <td>...</td>\n",
       "      <td>1.06</td>\n",
       "      <td>No</td>\n",
       "      <td>NaN</td>\n",
       "      <td>MiSeq</td>\n",
       "      <td>NaN</td>\n",
       "      <td>NaN</td>\n",
       "      <td>2</td>\n",
       "      <td>93.35</td>\n",
       "      <td>doi.org/10.1038/ncomms5910</td>\n",
       "      <td>GSE54900</td>\n",
       "    </tr>\n",
       "  </tbody>\n",
       "</table>\n",
       "<p>5 rows × 26 columns</p>\n",
       "</div>"
      ],
      "text/plain": [
       "                      Study  project condition  Replicate #  \\\n",
       "control__wt_glc__1  Control  control    wt_glc            1   \n",
       "control__wt_glc__2  Control  control    wt_glc            2   \n",
       "fur__wt_dpd__1          Fur      fur    wt_dpd            1   \n",
       "fur__wt_dpd__2          Fur      fur    wt_dpd            2   \n",
       "fur__wt_fe__1           Fur      fur     wt_fe            1   \n",
       "\n",
       "                              Strain Description  Strain Base Media  \\\n",
       "control__wt_glc__1  Escherichia coli K-12 MG1655  MG1655         M9   \n",
       "control__wt_glc__2  Escherichia coli K-12 MG1655  MG1655         M9   \n",
       "fur__wt_dpd__1      Escherichia coli K-12 MG1655  MG1655         M9   \n",
       "fur__wt_dpd__2      Escherichia coli K-12 MG1655  MG1655         M9   \n",
       "fur__wt_fe__1       Escherichia coli K-12 MG1655  MG1655         M9   \n",
       "\n",
       "                   Carbon Source (g/L) Nitrogen Source (g/L)  \\\n",
       "control__wt_glc__1          glucose(2)              NH4Cl(1)   \n",
       "control__wt_glc__2          glucose(2)              NH4Cl(1)   \n",
       "fur__wt_dpd__1              glucose(2)              NH4Cl(1)   \n",
       "fur__wt_dpd__2              glucose(2)              NH4Cl(1)   \n",
       "fur__wt_fe__1               glucose(2)              NH4Cl(1)   \n",
       "\n",
       "                   Electron Acceptor  ... Growth Rate (1/hr) Evolved Sample  \\\n",
       "control__wt_glc__1                O2  ...                NaN             No   \n",
       "control__wt_glc__2                O2  ...                NaN             No   \n",
       "fur__wt_dpd__1                    O2  ...               0.00             No   \n",
       "fur__wt_dpd__2                    O2  ...               0.00             No   \n",
       "fur__wt_fe__1                     O2  ...               1.06             No   \n",
       "\n",
       "                    Isolate Type  Sequencing Machine ALEdb sample  \\\n",
       "control__wt_glc__1           NaN               MiSeq          NaN   \n",
       "control__wt_glc__2           NaN               MiSeq          NaN   \n",
       "fur__wt_dpd__1               NaN               MiSeq          NaN   \n",
       "fur__wt_dpd__2               NaN               MiSeq          NaN   \n",
       "fur__wt_fe__1                NaN               MiSeq          NaN   \n",
       "\n",
       "                   Additional Details  Biological Replicates Alignment  \\\n",
       "control__wt_glc__1                NaN                      2     94.33   \n",
       "control__wt_glc__2                NaN                      2     94.24   \n",
       "fur__wt_dpd__1                    NaN                      2     98.04   \n",
       "fur__wt_dpd__2                    NaN                      2     98.30   \n",
       "fur__wt_fe__1                     NaN                      2     93.35   \n",
       "\n",
       "                                           DOI       GEO  \n",
       "control__wt_glc__1      doi.org/10.1101/080929  GSE65643  \n",
       "control__wt_glc__2      doi.org/10.1101/080929  GSE65643  \n",
       "fur__wt_dpd__1      doi.org/10.1038/ncomms5910  GSE54900  \n",
       "fur__wt_dpd__2      doi.org/10.1038/ncomms5910  GSE54900  \n",
       "fur__wt_fe__1       doi.org/10.1038/ncomms5910  GSE54900  \n",
       "\n",
       "[5 rows x 26 columns]"
      ]
     },
     "execution_count": 16,
     "metadata": {},
     "output_type": "execute_result"
    }
   ],
   "source": [
    "ica_data.sample_table.head()"
   ]
  },
  {
   "cell_type": "code",
   "execution_count": 17,
   "id": "c5a9be41",
   "metadata": {},
   "outputs": [
    {
     "data": {
      "text/html": [
       "<div>\n",
       "<style scoped>\n",
       "    .dataframe tbody tr th:only-of-type {\n",
       "        vertical-align: middle;\n",
       "    }\n",
       "\n",
       "    .dataframe tbody tr th {\n",
       "        vertical-align: top;\n",
       "    }\n",
       "\n",
       "    .dataframe thead th {\n",
       "        text-align: right;\n",
       "    }\n",
       "</style>\n",
       "<table border=\"1\" class=\"dataframe\">\n",
       "  <thead>\n",
       "    <tr style=\"text-align: right;\">\n",
       "      <th></th>\n",
       "      <th>start</th>\n",
       "      <th>end</th>\n",
       "      <th>strand</th>\n",
       "      <th>gene_name</th>\n",
       "      <th>length</th>\n",
       "      <th>operon</th>\n",
       "      <th>COG</th>\n",
       "      <th>accession</th>\n",
       "    </tr>\n",
       "  </thead>\n",
       "  <tbody>\n",
       "    <tr>\n",
       "      <th>b0002</th>\n",
       "      <td>336</td>\n",
       "      <td>2799</td>\n",
       "      <td>+</td>\n",
       "      <td>thrA</td>\n",
       "      <td>2463</td>\n",
       "      <td>thrLABC</td>\n",
       "      <td>Amino acid transport and metabolism</td>\n",
       "      <td>NC_000913.3</td>\n",
       "    </tr>\n",
       "    <tr>\n",
       "      <th>b0003</th>\n",
       "      <td>2800</td>\n",
       "      <td>3733</td>\n",
       "      <td>+</td>\n",
       "      <td>thrB</td>\n",
       "      <td>933</td>\n",
       "      <td>thrLABC</td>\n",
       "      <td>Amino acid transport and metabolism</td>\n",
       "      <td>NC_000913.3</td>\n",
       "    </tr>\n",
       "    <tr>\n",
       "      <th>b0004</th>\n",
       "      <td>3733</td>\n",
       "      <td>5020</td>\n",
       "      <td>+</td>\n",
       "      <td>thrC</td>\n",
       "      <td>1287</td>\n",
       "      <td>thrLABC</td>\n",
       "      <td>Amino acid transport and metabolism</td>\n",
       "      <td>NC_000913.3</td>\n",
       "    </tr>\n",
       "    <tr>\n",
       "      <th>b0005</th>\n",
       "      <td>5233</td>\n",
       "      <td>5530</td>\n",
       "      <td>+</td>\n",
       "      <td>yaaX</td>\n",
       "      <td>297</td>\n",
       "      <td>yaaX</td>\n",
       "      <td>Function unknown</td>\n",
       "      <td>NC_000913.3</td>\n",
       "    </tr>\n",
       "    <tr>\n",
       "      <th>b0006</th>\n",
       "      <td>5682</td>\n",
       "      <td>6459</td>\n",
       "      <td>-</td>\n",
       "      <td>yaaA</td>\n",
       "      <td>777</td>\n",
       "      <td>yaaA</td>\n",
       "      <td>Function unknown</td>\n",
       "      <td>NC_000913.3</td>\n",
       "    </tr>\n",
       "  </tbody>\n",
       "</table>\n",
       "</div>"
      ],
      "text/plain": [
       "       start   end strand gene_name  length   operon  \\\n",
       "b0002    336  2799      +      thrA    2463  thrLABC   \n",
       "b0003   2800  3733      +      thrB     933  thrLABC   \n",
       "b0004   3733  5020      +      thrC    1287  thrLABC   \n",
       "b0005   5233  5530      +      yaaX     297     yaaX   \n",
       "b0006   5682  6459      -      yaaA     777     yaaA   \n",
       "\n",
       "                                       COG    accession  \n",
       "b0002  Amino acid transport and metabolism  NC_000913.3  \n",
       "b0003  Amino acid transport and metabolism  NC_000913.3  \n",
       "b0004  Amino acid transport and metabolism  NC_000913.3  \n",
       "b0005                     Function unknown  NC_000913.3  \n",
       "b0006                     Function unknown  NC_000913.3  "
      ]
     },
     "execution_count": 17,
     "metadata": {},
     "output_type": "execute_result"
    }
   ],
   "source": [
    "ica_data.gene_table.head()"
   ]
  },
  {
   "cell_type": "code",
   "execution_count": 18,
   "id": "7dfb6a20",
   "metadata": {},
   "outputs": [
    {
     "data": {
      "text/html": [
       "<div>\n",
       "<style scoped>\n",
       "    .dataframe tbody tr th:only-of-type {\n",
       "        vertical-align: middle;\n",
       "    }\n",
       "\n",
       "    .dataframe tbody tr th {\n",
       "        vertical-align: top;\n",
       "    }\n",
       "\n",
       "    .dataframe thead th {\n",
       "        text-align: right;\n",
       "    }\n",
       "</style>\n",
       "<table border=\"1\" class=\"dataframe\">\n",
       "  <thead>\n",
       "    <tr style=\"text-align: right;\">\n",
       "      <th></th>\n",
       "      <th>regulator</th>\n",
       "      <th>f1score</th>\n",
       "      <th>pvalue</th>\n",
       "      <th>precision</th>\n",
       "      <th>recall</th>\n",
       "      <th>TP</th>\n",
       "      <th>n_genes</th>\n",
       "      <th>n_tf</th>\n",
       "      <th>Category</th>\n",
       "      <th>threshold</th>\n",
       "    </tr>\n",
       "  </thead>\n",
       "  <tbody>\n",
       "    <tr>\n",
       "      <th>AllR/AraC/FucR</th>\n",
       "      <td>allR/araC/fucR</td>\n",
       "      <td>0.750000</td>\n",
       "      <td>1.190000e-41</td>\n",
       "      <td>1.000000</td>\n",
       "      <td>0.600000</td>\n",
       "      <td>18.0</td>\n",
       "      <td>18</td>\n",
       "      <td>3</td>\n",
       "      <td>Carbon Source Utilization</td>\n",
       "      <td>0.086996</td>\n",
       "    </tr>\n",
       "    <tr>\n",
       "      <th>ArcA-1</th>\n",
       "      <td>arcA</td>\n",
       "      <td>0.130952</td>\n",
       "      <td>6.420000e-20</td>\n",
       "      <td>0.660000</td>\n",
       "      <td>0.072687</td>\n",
       "      <td>33.0</td>\n",
       "      <td>50</td>\n",
       "      <td>1</td>\n",
       "      <td>Energy Metabolism</td>\n",
       "      <td>0.058051</td>\n",
       "    </tr>\n",
       "    <tr>\n",
       "      <th>ArcA-2</th>\n",
       "      <td>arcA</td>\n",
       "      <td>0.087683</td>\n",
       "      <td>1.150000e-16</td>\n",
       "      <td>0.840000</td>\n",
       "      <td>0.046256</td>\n",
       "      <td>21.0</td>\n",
       "      <td>25</td>\n",
       "      <td>1</td>\n",
       "      <td>Energy Metabolism</td>\n",
       "      <td>0.081113</td>\n",
       "    </tr>\n",
       "    <tr>\n",
       "      <th>ArgR</th>\n",
       "      <td>argR</td>\n",
       "      <td>0.177778</td>\n",
       "      <td>6.030000e-18</td>\n",
       "      <td>0.923077</td>\n",
       "      <td>0.098361</td>\n",
       "      <td>12.0</td>\n",
       "      <td>13</td>\n",
       "      <td>1</td>\n",
       "      <td>Amino Acid and Nucleotide Biosynthesis</td>\n",
       "      <td>0.080441</td>\n",
       "    </tr>\n",
       "    <tr>\n",
       "      <th>AtoC</th>\n",
       "      <td>atoC</td>\n",
       "      <td>0.800000</td>\n",
       "      <td>1.520000e-12</td>\n",
       "      <td>0.666667</td>\n",
       "      <td>1.000000</td>\n",
       "      <td>4.0</td>\n",
       "      <td>6</td>\n",
       "      <td>1</td>\n",
       "      <td>Miscellaneous Metabolism</td>\n",
       "      <td>0.105756</td>\n",
       "    </tr>\n",
       "  </tbody>\n",
       "</table>\n",
       "</div>"
      ],
      "text/plain": [
       "                     regulator   f1score        pvalue  precision    recall  \\\n",
       "AllR/AraC/FucR  allR/araC/fucR  0.750000  1.190000e-41   1.000000  0.600000   \n",
       "ArcA-1                    arcA  0.130952  6.420000e-20   0.660000  0.072687   \n",
       "ArcA-2                    arcA  0.087683  1.150000e-16   0.840000  0.046256   \n",
       "ArgR                      argR  0.177778  6.030000e-18   0.923077  0.098361   \n",
       "AtoC                      atoC  0.800000  1.520000e-12   0.666667  1.000000   \n",
       "\n",
       "                  TP  n_genes  n_tf                                Category  \\\n",
       "AllR/AraC/FucR  18.0       18     3               Carbon Source Utilization   \n",
       "ArcA-1          33.0       50     1                       Energy Metabolism   \n",
       "ArcA-2          21.0       25     1                       Energy Metabolism   \n",
       "ArgR            12.0       13     1  Amino Acid and Nucleotide Biosynthesis   \n",
       "AtoC             4.0        6     1                Miscellaneous Metabolism   \n",
       "\n",
       "                threshold  \n",
       "AllR/AraC/FucR   0.086996  \n",
       "ArcA-1           0.058051  \n",
       "ArcA-2           0.081113  \n",
       "ArgR             0.080441  \n",
       "AtoC             0.105756  "
      ]
     },
     "execution_count": 18,
     "metadata": {},
     "output_type": "execute_result"
    }
   ],
   "source": [
    "ica_data.imodulon_table.head()"
   ]
  },
  {
   "cell_type": "code",
   "execution_count": 19,
   "id": "a8842730",
   "metadata": {},
   "outputs": [
    {
     "data": {
      "text/plain": [
       "'thrA'"
      ]
     },
     "execution_count": 19,
     "metadata": {},
     "output_type": "execute_result"
    }
   ],
   "source": [
    "ica_data.num2name('b0002')"
   ]
  },
  {
   "cell_type": "code",
   "execution_count": 20,
   "id": "832ae0a1",
   "metadata": {},
   "outputs": [
    {
     "data": {
      "text/plain": [
       "'b0002'"
      ]
     },
     "execution_count": 20,
     "metadata": {},
     "output_type": "execute_result"
    }
   ],
   "source": [
    "ica_data.name2num('thrA')"
   ]
  },
  {
   "cell_type": "markdown",
   "id": "d80afab0",
   "metadata": {},
   "source": [
    "# Working with the TRN"
   ]
  },
  {
   "cell_type": "markdown",
   "id": "0cc9cd15",
   "metadata": {},
   "source": [
    "Adding the transcriptional regulatory network (TRN) to the IcaData object enables automated calculation of regulon enrichments. Each row of the TRN file represents a regulatory interaction. The TRN must contain the following columns:\n",
    "\n",
    "regulator: Name of the regulator (/ or + characters will be converted to ;)\n",
    "\n",
    "gene_id: Locus tag of the target gene (must be in ica_data.gene_names)\n",
    "\n",
    "The following columns are optional, but are helpful to have:\n",
    "\n",
    "regulator_id - Locus tag of regulator\n",
    "\n",
    "gene_name - Name of gene (can automatically update this using name2num)\n",
    "\n",
    "direction - Direction of regulation (+ for activation, - for repression, ? or NaN for unknown)\n",
    "\n",
    "evidence - Evidence of regulation (e.g. ChIP-exo, qRT-PCR, SELEX, Motif search)\n",
    "\n",
    "PMID - Reference for regulatory interaction"
   ]
  },
  {
   "cell_type": "code",
   "execution_count": 22,
   "id": "588fe4b5",
   "metadata": {},
   "outputs": [
    {
     "data": {
      "text/html": [
       "<div>\n",
       "<style scoped>\n",
       "    .dataframe tbody tr th:only-of-type {\n",
       "        vertical-align: middle;\n",
       "    }\n",
       "\n",
       "    .dataframe tbody tr th {\n",
       "        vertical-align: top;\n",
       "    }\n",
       "\n",
       "    .dataframe thead th {\n",
       "        text-align: right;\n",
       "    }\n",
       "</style>\n",
       "<table border=\"1\" class=\"dataframe\">\n",
       "  <thead>\n",
       "    <tr style=\"text-align: right;\">\n",
       "      <th></th>\n",
       "      <th>regulator</th>\n",
       "      <th>gene_id</th>\n",
       "      <th>effect</th>\n",
       "    </tr>\n",
       "  </thead>\n",
       "  <tbody>\n",
       "    <tr>\n",
       "      <th>0</th>\n",
       "      <td>FMN</td>\n",
       "      <td>b3041</td>\n",
       "      <td>-</td>\n",
       "    </tr>\n",
       "    <tr>\n",
       "      <th>1</th>\n",
       "      <td>L-tryptophan</td>\n",
       "      <td>b3708</td>\n",
       "      <td>+</td>\n",
       "    </tr>\n",
       "    <tr>\n",
       "      <th>2</th>\n",
       "      <td>L-tryptophan</td>\n",
       "      <td>b3709</td>\n",
       "      <td>+</td>\n",
       "    </tr>\n",
       "    <tr>\n",
       "      <th>3</th>\n",
       "      <td>TPP</td>\n",
       "      <td>b0066</td>\n",
       "      <td>-</td>\n",
       "    </tr>\n",
       "    <tr>\n",
       "      <th>4</th>\n",
       "      <td>TPP</td>\n",
       "      <td>b0067</td>\n",
       "      <td>-</td>\n",
       "    </tr>\n",
       "  </tbody>\n",
       "</table>\n",
       "</div>"
      ],
      "text/plain": [
       "      regulator gene_id effect\n",
       "0           FMN   b3041      -\n",
       "1  L-tryptophan   b3708      +\n",
       "2  L-tryptophan   b3709      +\n",
       "3           TPP   b0066      -\n",
       "4           TPP   b0067      -"
      ]
     },
     "execution_count": 22,
     "metadata": {},
     "output_type": "execute_result"
    }
   ],
   "source": [
    "trn = example_data.trn\n",
    "trn.head()"
   ]
  },
  {
   "cell_type": "code",
   "execution_count": 23,
   "id": "a71bacfc",
   "metadata": {},
   "outputs": [
    {
     "data": {
      "text/html": [
       "<div>\n",
       "<style scoped>\n",
       "    .dataframe tbody tr th:only-of-type {\n",
       "        vertical-align: middle;\n",
       "    }\n",
       "\n",
       "    .dataframe tbody tr th {\n",
       "        vertical-align: top;\n",
       "    }\n",
       "\n",
       "    .dataframe thead th {\n",
       "        text-align: right;\n",
       "    }\n",
       "</style>\n",
       "<table border=\"1\" class=\"dataframe\">\n",
       "  <thead>\n",
       "    <tr style=\"text-align: right;\">\n",
       "      <th></th>\n",
       "      <th>regulator</th>\n",
       "      <th>gene_id</th>\n",
       "      <th>effect</th>\n",
       "    </tr>\n",
       "  </thead>\n",
       "  <tbody>\n",
       "    <tr>\n",
       "      <th>0</th>\n",
       "      <td>FMN</td>\n",
       "      <td>b3041</td>\n",
       "      <td>-</td>\n",
       "    </tr>\n",
       "    <tr>\n",
       "      <th>1</th>\n",
       "      <td>L-tryptophan</td>\n",
       "      <td>b3708</td>\n",
       "      <td>+</td>\n",
       "    </tr>\n",
       "    <tr>\n",
       "      <th>2</th>\n",
       "      <td>L-tryptophan</td>\n",
       "      <td>b3709</td>\n",
       "      <td>+</td>\n",
       "    </tr>\n",
       "    <tr>\n",
       "      <th>3</th>\n",
       "      <td>TPP</td>\n",
       "      <td>b0066</td>\n",
       "      <td>-</td>\n",
       "    </tr>\n",
       "    <tr>\n",
       "      <th>4</th>\n",
       "      <td>TPP</td>\n",
       "      <td>b0067</td>\n",
       "      <td>-</td>\n",
       "    </tr>\n",
       "  </tbody>\n",
       "</table>\n",
       "</div>"
      ],
      "text/plain": [
       "      regulator gene_id effect\n",
       "0           FMN   b3041      -\n",
       "1  L-tryptophan   b3708      +\n",
       "2  L-tryptophan   b3709      +\n",
       "3           TPP   b0066      -\n",
       "4           TPP   b0067      -"
      ]
     },
     "execution_count": 23,
     "metadata": {},
     "output_type": "execute_result"
    }
   ],
   "source": [
    "ica_data.trn = trn\n",
    "ica_data.trn.head()"
   ]
  },
  {
   "cell_type": "markdown",
   "id": "e3ed4537",
   "metadata": {},
   "source": [
    "Let's take a look at a specific iModulon"
   ]
  },
  {
   "cell_type": "code",
   "execution_count": 24,
   "id": "397a7b51",
   "metadata": {},
   "outputs": [
    {
     "data": {
      "text/html": [
       "<div>\n",
       "<style scoped>\n",
       "    .dataframe tbody tr th:only-of-type {\n",
       "        vertical-align: middle;\n",
       "    }\n",
       "\n",
       "    .dataframe tbody tr th {\n",
       "        vertical-align: top;\n",
       "    }\n",
       "\n",
       "    .dataframe thead th {\n",
       "        text-align: right;\n",
       "    }\n",
       "</style>\n",
       "<table border=\"1\" class=\"dataframe\">\n",
       "  <thead>\n",
       "    <tr style=\"text-align: right;\">\n",
       "      <th></th>\n",
       "      <th>gene_weight</th>\n",
       "      <th>start</th>\n",
       "      <th>end</th>\n",
       "      <th>strand</th>\n",
       "      <th>gene_name</th>\n",
       "      <th>length</th>\n",
       "      <th>operon</th>\n",
       "      <th>COG</th>\n",
       "      <th>accession</th>\n",
       "      <th>regulator</th>\n",
       "    </tr>\n",
       "  </thead>\n",
       "  <tbody>\n",
       "    <tr>\n",
       "      <th>b2239</th>\n",
       "      <td>0.211384</td>\n",
       "      <td>2349934</td>\n",
       "      <td>2351011</td>\n",
       "      <td>-</td>\n",
       "      <td>glpQ</td>\n",
       "      <td>1077</td>\n",
       "      <td>glpTQ</td>\n",
       "      <td>Energy production and conversion</td>\n",
       "      <td>NC_000913.3</td>\n",
       "      <td>crp,fis,fnr,glpR,ihf,nac,rpoD</td>\n",
       "    </tr>\n",
       "    <tr>\n",
       "      <th>b2240</th>\n",
       "      <td>0.306134</td>\n",
       "      <td>2351015</td>\n",
       "      <td>2352374</td>\n",
       "      <td>-</td>\n",
       "      <td>glpT</td>\n",
       "      <td>1359</td>\n",
       "      <td>glpTQ</td>\n",
       "      <td>Carbohydrate transport and metabolism</td>\n",
       "      <td>NC_000913.3</td>\n",
       "      <td>crp,fis,fnr,glpR,ihf,nac,rpoD</td>\n",
       "    </tr>\n",
       "    <tr>\n",
       "      <th>b2241</th>\n",
       "      <td>0.375662</td>\n",
       "      <td>2352646</td>\n",
       "      <td>2354275</td>\n",
       "      <td>+</td>\n",
       "      <td>glpA</td>\n",
       "      <td>1629</td>\n",
       "      <td>glpABC</td>\n",
       "      <td>Energy production and conversion</td>\n",
       "      <td>NC_000913.3</td>\n",
       "      <td>arcA,crp,fis,flhD;flhC,fnr,glpR,rpoD</td>\n",
       "    </tr>\n",
       "    <tr>\n",
       "      <th>b2242</th>\n",
       "      <td>0.328961</td>\n",
       "      <td>2354264</td>\n",
       "      <td>2355524</td>\n",
       "      <td>+</td>\n",
       "      <td>glpB</td>\n",
       "      <td>1260</td>\n",
       "      <td>glpABC</td>\n",
       "      <td>Amino acid transport and metabolism</td>\n",
       "      <td>NC_000913.3</td>\n",
       "      <td>arcA,crp,fis,flhD;flhC,fnr,glpR,rpoD</td>\n",
       "    </tr>\n",
       "    <tr>\n",
       "      <th>b2243</th>\n",
       "      <td>0.315752</td>\n",
       "      <td>2355520</td>\n",
       "      <td>2356711</td>\n",
       "      <td>+</td>\n",
       "      <td>glpC</td>\n",
       "      <td>1191</td>\n",
       "      <td>glpABC</td>\n",
       "      <td>Energy production and conversion</td>\n",
       "      <td>NC_000913.3</td>\n",
       "      <td>arcA,crp,fis,flhD;flhC,fnr,glpR,rpoD</td>\n",
       "    </tr>\n",
       "    <tr>\n",
       "      <th>b3426</th>\n",
       "      <td>0.350034</td>\n",
       "      <td>3562012</td>\n",
       "      <td>3563518</td>\n",
       "      <td>+</td>\n",
       "      <td>glpD</td>\n",
       "      <td>1506</td>\n",
       "      <td>glpD</td>\n",
       "      <td>Energy production and conversion</td>\n",
       "      <td>NC_000913.3</td>\n",
       "      <td>arcA,crp,glpR,rpoD,yieP</td>\n",
       "    </tr>\n",
       "    <tr>\n",
       "      <th>b3926</th>\n",
       "      <td>0.290235</td>\n",
       "      <td>4115713</td>\n",
       "      <td>4117222</td>\n",
       "      <td>-</td>\n",
       "      <td>glpK</td>\n",
       "      <td>1509</td>\n",
       "      <td>glpFKX</td>\n",
       "      <td>Energy production and conversion</td>\n",
       "      <td>NC_000913.3</td>\n",
       "      <td>crp,glpR,rpoD</td>\n",
       "    </tr>\n",
       "    <tr>\n",
       "      <th>b3927</th>\n",
       "      <td>0.312307</td>\n",
       "      <td>4117244</td>\n",
       "      <td>4118090</td>\n",
       "      <td>-</td>\n",
       "      <td>glpF</td>\n",
       "      <td>846</td>\n",
       "      <td>glpFKX</td>\n",
       "      <td>Carbohydrate transport and metabolism</td>\n",
       "      <td>NC_000913.3</td>\n",
       "      <td>crp,glpR,rpoD</td>\n",
       "    </tr>\n",
       "  </tbody>\n",
       "</table>\n",
       "</div>"
      ],
      "text/plain": [
       "       gene_weight    start      end strand gene_name  length  operon  \\\n",
       "b2239     0.211384  2349934  2351011      -      glpQ    1077   glpTQ   \n",
       "b2240     0.306134  2351015  2352374      -      glpT    1359   glpTQ   \n",
       "b2241     0.375662  2352646  2354275      +      glpA    1629  glpABC   \n",
       "b2242     0.328961  2354264  2355524      +      glpB    1260  glpABC   \n",
       "b2243     0.315752  2355520  2356711      +      glpC    1191  glpABC   \n",
       "b3426     0.350034  3562012  3563518      +      glpD    1506    glpD   \n",
       "b3926     0.290235  4115713  4117222      -      glpK    1509  glpFKX   \n",
       "b3927     0.312307  4117244  4118090      -      glpF     846  glpFKX   \n",
       "\n",
       "                                         COG    accession  \\\n",
       "b2239       Energy production and conversion  NC_000913.3   \n",
       "b2240  Carbohydrate transport and metabolism  NC_000913.3   \n",
       "b2241       Energy production and conversion  NC_000913.3   \n",
       "b2242    Amino acid transport and metabolism  NC_000913.3   \n",
       "b2243       Energy production and conversion  NC_000913.3   \n",
       "b3426       Energy production and conversion  NC_000913.3   \n",
       "b3926       Energy production and conversion  NC_000913.3   \n",
       "b3927  Carbohydrate transport and metabolism  NC_000913.3   \n",
       "\n",
       "                                  regulator  \n",
       "b2239         crp,fis,fnr,glpR,ihf,nac,rpoD  \n",
       "b2240         crp,fis,fnr,glpR,ihf,nac,rpoD  \n",
       "b2241  arcA,crp,fis,flhD;flhC,fnr,glpR,rpoD  \n",
       "b2242  arcA,crp,fis,flhD;flhC,fnr,glpR,rpoD  \n",
       "b2243  arcA,crp,fis,flhD;flhC,fnr,glpR,rpoD  \n",
       "b3426               arcA,crp,glpR,rpoD,yieP  \n",
       "b3926                         crp,glpR,rpoD  \n",
       "b3927                         crp,glpR,rpoD  "
      ]
     },
     "execution_count": 24,
     "metadata": {},
     "output_type": "execute_result"
    }
   ],
   "source": [
    "ica_data.view_imodulon('GlpR')"
   ]
  },
  {
   "cell_type": "markdown",
   "id": "bbec6eb4",
   "metadata": {},
   "source": [
    "Let's look for iModulons that contain a gene"
   ]
  },
  {
   "cell_type": "code",
   "execution_count": 25,
   "id": "d3b4a648",
   "metadata": {},
   "outputs": [
    {
     "data": {
      "text/plain": [
       "['GlpR']"
      ]
     },
     "execution_count": 25,
     "metadata": {},
     "output_type": "execute_result"
    }
   ],
   "source": [
    "ica_data.imodulons_with('b2239')"
   ]
  },
  {
   "cell_type": "code",
   "execution_count": 26,
   "id": "382bd4eb",
   "metadata": {},
   "outputs": [
    {
     "data": {
      "text/plain": [
       "['PurR-2']"
      ]
     },
     "execution_count": 26,
     "metadata": {},
     "output_type": "execute_result"
    }
   ],
   "source": [
    "ica_data.imodulons_with('carA')"
   ]
  },
  {
   "cell_type": "markdown",
   "id": "9d9801eb",
   "metadata": {},
   "source": [
    "Renaming iModulons"
   ]
  },
  {
   "cell_type": "code",
   "execution_count": 27,
   "id": "8347cb58",
   "metadata": {},
   "outputs": [
    {
     "name": "stdout",
     "output_type": "stream",
     "text": [
      "Original iModulon Names: ['AllR/AraC/FucR', 'ArcA-1', 'ArcA-2', 'ArgR', 'AtoC']\n",
      "Renamed iModulon Names: ['AllR', 'ArcA-1', 'ArcA-2', 'ArgR', 'AtoC']\n"
     ]
    }
   ],
   "source": [
    "print('Original iModulon Names:', ica_data.imodulon_names[:5])\n",
    "ica_data.rename_imodulons({'AllR/AraC/FucR':'AllR'})\n",
    "print('Renamed iModulon Names:', ica_data.imodulon_names[:5])"
   ]
  },
  {
   "cell_type": "code",
   "execution_count": 28,
   "id": "81444cd8",
   "metadata": {},
   "outputs": [
    {
     "name": "stdout",
     "output_type": "stream",
     "text": [
      "M matrix columns: Index(['AllR', 'ArcA-1', 'ArcA-2', 'ArgR', 'AtoC'], dtype='object')\n"
     ]
    }
   ],
   "source": [
    "print('M matrix columns:', ica_data.M.columns[:5])"
   ]
  },
  {
   "cell_type": "code",
   "execution_count": 29,
   "id": "eb9c31b2",
   "metadata": {},
   "outputs": [
    {
     "name": "stdout",
     "output_type": "stream",
     "text": [
      "Original iModulon Names: ['AllR', 'ArcA-1', 'ArcA-2', 'ArgR', 'AtoC']\n",
      "New iModulon names: ['AllR/AraC/FucR', 'ArcA-1', 'ArcA-2', 'ArgR', 'AtoC']\n",
      "Renamed iModulon Names: ['AllR/AraC/FucR', 'ArcA-1', 'ArcA-2', 'ArgR', 'AtoC']\n"
     ]
    }
   ],
   "source": [
    "print('Original iModulon Names:', ica_data.imodulon_names[:5])\n",
    "\n",
    "new_names = ['AllR/AraC/FucR']+ica_data.imodulon_names[1:]\n",
    "\n",
    "print('New iModulon names:', new_names[:5])\n",
    "\n",
    "ica_data.imodulon_names = new_names\n",
    "\n",
    "print('Renamed iModulon Names:', ica_data.imodulon_names[:5])"
   ]
  },
  {
   "cell_type": "markdown",
   "id": "e86e01ad",
   "metadata": {},
   "source": [
    "# Visualization"
   ]
  },
  {
   "cell_type": "code",
   "execution_count": 30,
   "id": "07a7461e",
   "metadata": {},
   "outputs": [],
   "source": [
    "from pymodulon.plotting import *\n",
    "from pymodulon.example_data import load_ecoli_data"
   ]
  },
  {
   "cell_type": "code",
   "execution_count": 31,
   "id": "5a2480a6",
   "metadata": {},
   "outputs": [],
   "source": [
    "ica_data = load_ecoli_data()"
   ]
  },
  {
   "cell_type": "markdown",
   "id": "fbb358eb",
   "metadata": {},
   "source": [
    "Gene expression and iModulon activities are easily viewed as bar plots. Use the plot_expression and plot_activities functions, respectively. Any numeric metadata for your experiments can be plotted using the plot_metadata function.\n",
    "\n",
    "Optional arguments:\n",
    "\n",
    "projects: Only show specific project(s)\n",
    "\n",
    "highlight: Show individiual conditions for specific project(s)\n",
    "\n",
    "ax: Use a pre-existing matplotlib axis (helpful if you want to manually determine the plot size).\n",
    "\n",
    "legend_args: Dictionary of arguments to pass to the matplotlib legend (e.g. {'fontsize':12, 'loc':0, 'ncol':2})"
   ]
  },
  {
   "cell_type": "markdown",
   "id": "88a03ad4",
   "metadata": {
    "heading_collapsed": true
   },
   "source": [
    "## Plotting Gene Expression"
   ]
  },
  {
   "cell_type": "code",
   "execution_count": 32,
   "id": "3913c476",
   "metadata": {
    "hidden": true
   },
   "outputs": [
    {
     "data": {
      "image/png": "[encoded data removed]",
      "text/plain": [
       "<Figure size 1370.4x144 with 1 Axes>"
      ]
     },
     "metadata": {
      "needs_background": "light"
     },
     "output_type": "display_data"
    }
   ],
   "source": [
    "plot_expression(ica_data,'b0002');"
   ]
  },
  {
   "cell_type": "code",
   "execution_count": 33,
   "id": "ed963de7",
   "metadata": {
    "hidden": true
   },
   "outputs": [
    {
     "data": {
      "image/png": "[encoded data removed]",
      "text/plain": [
       "<Figure size 247.2x144 with 1 Axes>"
      ]
     },
     "metadata": {
      "needs_background": "light"
     },
     "output_type": "display_data"
    }
   ],
   "source": [
    "plot_expression(ica_data,'thrA',projects=['ica','fps'],highlight='fps');"
   ]
  },
  {
   "cell_type": "markdown",
   "id": "23f79076",
   "metadata": {
    "heading_collapsed": true
   },
   "source": [
    "## Plotting iModulon activity"
   ]
  },
  {
   "cell_type": "code",
   "execution_count": 34,
   "id": "a21093a3",
   "metadata": {
    "hidden": true
   },
   "outputs": [
    {
     "data": {
      "image/png": "[encoded data removed]",
      "text/plain": [
       "<Figure size 1370.4x144 with 1 Axes>"
      ]
     },
     "metadata": {
      "needs_background": "light"
     },
     "output_type": "display_data"
    }
   ],
   "source": [
    "plot_activities(ica_data,'GlpR',highlight='crp');"
   ]
  },
  {
   "cell_type": "code",
   "execution_count": 35,
   "id": "f970e168",
   "metadata": {
    "hidden": true
   },
   "outputs": [
    {
     "data": {
      "image/png": "[encoded data removed]",
      "text/plain": [
       "<Figure size 132x144 with 1 Axes>"
      ]
     },
     "metadata": {
      "needs_background": "light"
     },
     "output_type": "display_data"
    }
   ],
   "source": [
    "plot_activities(ica_data,'GlpR',projects='crp');"
   ]
  },
  {
   "cell_type": "markdown",
   "id": "4d8533c0",
   "metadata": {
    "heading_collapsed": true
   },
   "source": [
    "## Plotting metadata"
   ]
  },
  {
   "cell_type": "code",
   "execution_count": 36,
   "id": "f1150418",
   "metadata": {
    "hidden": true
   },
   "outputs": [
    {
     "data": {
      "image/png": "[encoded data removed]",
      "text/plain": [
       "<Figure size 1370.4x144 with 1 Axes>"
      ]
     },
     "metadata": {
      "needs_background": "light"
     },
     "output_type": "display_data"
    }
   ],
   "source": [
    "plot_metadata(ica_data,'Growth Rate (1/hr)');"
   ]
  },
  {
   "cell_type": "markdown",
   "id": "79be8749",
   "metadata": {
    "heading_collapsed": true
   },
   "source": [
    "## Scatterplots"
   ]
  },
  {
   "cell_type": "markdown",
   "id": "d50debb9",
   "metadata": {
    "hidden": true
   },
   "source": [
    "Gene expression and iModulon activities can be compared with a scatter plot. Use the compare_expression and compare_activities functions, respectively. In addition, compare_values can be used to compare any compendium-wide value against another, including gene expression, iModulon activity, and sample metadata.\n",
    "\n",
    "Optional arguments:\n",
    "\n",
    "groups: Mapping of samples to specific groups\n",
    "\n",
    "colors: Color of points, list of colors to use for different groups, or dictionary mapping groups to colors\n",
    "\n",
    "show_labels: Show labels for points. (default: False)\n",
    "\n",
    "adjust_labels: Automatically avoid label overlap\n",
    "\n",
    "fit_metric: Correlation metric of 'pearson','spearman', or 'r2adj' (default: 'pearson')\n",
    "\n",
    "ax: Use a pre-existing axis (helpful if you want to manually determine the plot size)\n",
    "\n",
    "Formatting arguments:\n",
    "\n",
    "ax_font_args: Arguments for x-axis labels and y-axis labels (e.g. {'fontsize':16'})\n",
    "\n",
    "scatter_args: Arguments for matplotlib scatterplot (e.g. {'s'=10})\n",
    "\n",
    "label_font_args: Arguments for matplotlib text labels (e.g. {'fontsize':8})\n",
    "\n",
    "legend_args: Arguments to pass to the matplotlib legend (e.g. {'fontsize':12, 'loc':0, 'ncol':2})"
   ]
  },
  {
   "cell_type": "code",
   "execution_count": 37,
   "id": "f4a62b83",
   "metadata": {
    "hidden": true
   },
   "outputs": [
    {
     "data": {
      "text/plain": [
       "<AxesSubplot:xlabel='Gene Start', ylabel='GlpR Gene Weight'>"
      ]
     },
     "execution_count": 37,
     "metadata": {},
     "output_type": "execute_result"
    },
    {
     "data": {
      "image/png": "[encoded data removed]",
      "text/plain": [
       "<Figure size 432x288 with 1 Axes>"
      ]
     },
     "metadata": {
      "needs_background": "light"
     },
     "output_type": "display_data"
    }
   ],
   "source": [
    "plot_gene_weights(ica_data,'GlpR')"
   ]
  },
  {
   "cell_type": "code",
   "execution_count": 38,
   "id": "1ec09a44",
   "metadata": {
    "hidden": true
   },
   "outputs": [
    {
     "data": {
      "text/plain": [
       "<AxesSubplot:xlabel='Gene Start', ylabel='Fnr Gene Weight'>"
      ]
     },
     "execution_count": 38,
     "metadata": {},
     "output_type": "execute_result"
    },
    {
     "data": {
      "image/png": "[encoded data removed]",
      "text/plain": [
       "<Figure size 432x288 with 1 Axes>"
      ]
     },
     "metadata": {
      "needs_background": "light"
     },
     "output_type": "display_data"
    }
   ],
   "source": [
    "plot_gene_weights(ica_data,'Fnr')"
   ]
  },
  {
   "cell_type": "markdown",
   "id": "9cb31f7e",
   "metadata": {
    "hidden": true
   },
   "source": [
    "Use show_labels=True show gene labels. It is advisable to turn of auto-adjustment of gene labels (adjust_labels=False), as this may take a while with many genes."
   ]
  },
  {
   "cell_type": "code",
   "execution_count": 39,
   "id": "4ec54cba",
   "metadata": {
    "hidden": true
   },
   "outputs": [
    {
     "data": {
      "text/plain": [
       "<AxesSubplot:xlabel='Gene Start', ylabel='Fnr Gene Weight'>"
      ]
     },
     "execution_count": 39,
     "metadata": {},
     "output_type": "execute_result"
    },
    {
     "data": {
      "image/png": "[encoded data removed]",
      "text/plain": [
       "<Figure size 432x288 with 1 Axes>"
      ]
     },
     "metadata": {
      "needs_background": "light"
     },
     "output_type": "display_data"
    }
   ],
   "source": [
    "plot_gene_weights(ica_data,'Fnr',show_labels=True,adjust_labels=False)"
   ]
  },
  {
   "cell_type": "markdown",
   "id": "c9039d1f",
   "metadata": {
    "heading_collapsed": true
   },
   "source": [
    "## Comparing two expression profiles"
   ]
  },
  {
   "cell_type": "markdown",
   "id": "b4a0fc3e",
   "metadata": {
    "hidden": true
   },
   "source": [
    "The compare_expression function plots two iModulon activities against each other. Groups of samples can be highlighted to visualize the effects of experimental conditions."
   ]
  },
  {
   "cell_type": "code",
   "execution_count": 40,
   "id": "af0ed134",
   "metadata": {
    "hidden": true
   },
   "outputs": [],
   "source": [
    "groups = {'minspan__wt_glc_anaero__1':'Anaerobic',\n",
    "          'minspan__wt_glc_anaero__2':'Anaerobic'}"
   ]
  },
  {
   "cell_type": "code",
   "execution_count": 42,
   "id": "135f7b59",
   "metadata": {
    "hidden": true
   },
   "outputs": [
    {
     "data": {
      "text/plain": [
       "<AxesSubplot:xlabel='$arcA$ Expression', ylabel='$fnr$ Expression'>"
      ]
     },
     "execution_count": 42,
     "metadata": {},
     "output_type": "execute_result"
    },
    {
     "data": {
      "image/png": "[encoded data removed]",
      "text/plain": [
       "<Figure size 432x288 with 1 Axes>"
      ]
     },
     "metadata": {
      "needs_background": "light"
     },
     "output_type": "display_data"
    }
   ],
   "source": [
    "compare_expression(ica_data,'arcA','fnr',groups=groups)"
   ]
  },
  {
   "cell_type": "code",
   "execution_count": 43,
   "id": "44cf6154",
   "metadata": {
    "hidden": true
   },
   "outputs": [
    {
     "data": {
      "text/plain": [
       "<AxesSubplot:xlabel='Fnr iModulon Activity', ylabel='ArcA-1 iModulon Activity'>"
      ]
     },
     "execution_count": 43,
     "metadata": {},
     "output_type": "execute_result"
    },
    {
     "data": {
      "image/png": "[encoded data removed]",
      "text/plain": [
       "<Figure size 432x288 with 1 Axes>"
      ]
     },
     "metadata": {
      "needs_background": "light"
     },
     "output_type": "display_data"
    }
   ],
   "source": [
    "compare_activities(ica_data,'Fnr','ArcA-1',groups=groups)"
   ]
  },
  {
   "cell_type": "code",
   "execution_count": 44,
   "id": "61e55f90",
   "metadata": {
    "hidden": true
   },
   "outputs": [
    {
     "data": {
      "text/plain": [
       "<AxesSubplot:xlabel='Fnr iModulon Activity', ylabel='ArcA-1 iModulon Activity'>"
      ]
     },
     "execution_count": 44,
     "metadata": {},
     "output_type": "execute_result"
    },
    {
     "data": {
      "image/png": "[encoded data removed]",
      "text/plain": [
       "<Figure size 432x288 with 1 Axes>"
      ]
     },
     "metadata": {
      "needs_background": "light"
     },
     "output_type": "display_data"
    }
   ],
   "source": [
    "compare_activities(ica_data,'Fnr','ArcA-1',groups=groups,colors=['green','purple'])"
   ]
  },
  {
   "cell_type": "markdown",
   "id": "4863ecdb",
   "metadata": {
    "hidden": true
   },
   "source": [
    "compare_gene_weights plots the gene weights of two iModulons against each other. Dashed lines indicate iModulon thresholds. Genes outside both thresholds are highlighted in red and labelled."
   ]
  },
  {
   "cell_type": "code",
   "execution_count": 45,
   "id": "d75c9292",
   "metadata": {
    "hidden": true
   },
   "outputs": [
    {
     "data": {
      "text/plain": [
       "<AxesSubplot:xlabel='CysB Gene Weight', ylabel='Cbl+CysB Gene Weight'>"
      ]
     },
     "execution_count": 45,
     "metadata": {},
     "output_type": "execute_result"
    },
    {
     "data": {
      "image/png": "[encoded data removed]",
      "text/plain": [
       "<Figure size 432x288 with 1 Axes>"
      ]
     },
     "metadata": {
      "needs_background": "light"
     },
     "output_type": "display_data"
    }
   ],
   "source": [
    "compare_gene_weights(ica_data,'CysB','Cbl+CysB')"
   ]
  },
  {
   "cell_type": "markdown",
   "id": "39f34b5d",
   "metadata": {
    "heading_collapsed": true
   },
   "source": [
    "## Differential iModulon activity"
   ]
  },
  {
   "cell_type": "markdown",
   "id": "9fdf79ce",
   "metadata": {
    "hidden": true
   },
   "source": [
    "A Differential iModulon Activity plot, or DiMA plot shows iModulons that have significantly different iModulon activities between two experimental conditions. The plot_dima function can either compare two conditions using project:condition keys, or using a list of sample names."
   ]
  },
  {
   "cell_type": "code",
   "execution_count": 46,
   "id": "625f2d06",
   "metadata": {
    "hidden": true
   },
   "outputs": [
    {
     "name": "stderr",
     "output_type": "stream",
     "text": [
      "c:\\users\\dczie\\desktop\\shortcourse_test\\py38_gcs_env\\lib\\site-packages\\pymodulon\\util.py:174: PerformanceWarning: DataFrame is highly fragmented.  This is usually the result of calling `frame.insert` many times, which has poor performance.  Consider joining all columns at once using pd.concat(axis=1) instead.  To get a de-fragmented frame, use `newframe = frame.copy()`\n",
      "  _diff[\":\".join(name)] = abs(A_to_use[i1] - A_to_use[i2])\n"
     ]
    },
    {
     "data": {
      "text/plain": [
       "<AxesSubplot:xlabel='fur:wt_fe', ylabel='fur:delfur_fe2'>"
      ]
     },
     "execution_count": 46,
     "metadata": {},
     "output_type": "execute_result"
    },
    {
     "data": {
      "image/png": "[encoded data removed]",
      "text/plain": [
       "<Figure size 432x288 with 1 Axes>"
      ]
     },
     "metadata": {
      "needs_background": "light"
     },
     "output_type": "display_data"
    }
   ],
   "source": [
    "plot_dima(ica_data,'fur:wt_fe','fur:delfur_fe2')"
   ]
  },
  {
   "cell_type": "code",
   "execution_count": 47,
   "id": "cd418e72",
   "metadata": {
    "hidden": true
   },
   "outputs": [
    {
     "name": "stderr",
     "output_type": "stream",
     "text": [
      "c:\\users\\dczie\\desktop\\shortcourse_test\\py38_gcs_env\\lib\\site-packages\\pymodulon\\util.py:174: PerformanceWarning: DataFrame is highly fragmented.  This is usually the result of calling `frame.insert` many times, which has poor performance.  Consider joining all columns at once using pd.concat(axis=1) instead.  To get a de-fragmented frame, use `newframe = frame.copy()`\n",
      "  _diff[\":\".join(name)] = abs(A_to_use[i1] - A_to_use[i2])\n"
     ]
    },
    {
     "data": {
      "text/html": [
       "<div>\n",
       "<style scoped>\n",
       "    .dataframe tbody tr th:only-of-type {\n",
       "        vertical-align: middle;\n",
       "    }\n",
       "\n",
       "    .dataframe tbody tr th {\n",
       "        vertical-align: top;\n",
       "    }\n",
       "\n",
       "    .dataframe thead th {\n",
       "        text-align: right;\n",
       "    }\n",
       "</style>\n",
       "<table border=\"1\" class=\"dataframe\">\n",
       "  <thead>\n",
       "    <tr style=\"text-align: right;\">\n",
       "      <th></th>\n",
       "      <th>difference</th>\n",
       "      <th>pvalue</th>\n",
       "      <th>qvalue</th>\n",
       "      <th>0</th>\n",
       "      <th>1</th>\n",
       "    </tr>\n",
       "  </thead>\n",
       "  <tbody>\n",
       "    <tr>\n",
       "      <th>Fur-1</th>\n",
       "      <td>27.598965</td>\n",
       "      <td>7.320594e-04</td>\n",
       "      <td>0.011225</td>\n",
       "      <td>-6.701019</td>\n",
       "      <td>20.897946</td>\n",
       "    </tr>\n",
       "    <tr>\n",
       "      <th>fur-KO</th>\n",
       "      <td>14.918007</td>\n",
       "      <td>4.338664e-08</td>\n",
       "      <td>0.000004</td>\n",
       "      <td>3.516092</td>\n",
       "      <td>18.434098</td>\n",
       "    </tr>\n",
       "    <tr>\n",
       "      <th>RpoH</th>\n",
       "      <td>5.145175</td>\n",
       "      <td>3.091958e-03</td>\n",
       "      <td>0.031607</td>\n",
       "      <td>0.008680</td>\n",
       "      <td>5.153855</td>\n",
       "    </tr>\n",
       "    <tr>\n",
       "      <th>flu-yeeRS</th>\n",
       "      <td>-5.020887</td>\n",
       "      <td>2.246638e-04</td>\n",
       "      <td>0.006612</td>\n",
       "      <td>5.299051</td>\n",
       "      <td>0.278164</td>\n",
       "    </tr>\n",
       "    <tr>\n",
       "      <th>membrane</th>\n",
       "      <td>-6.005727</td>\n",
       "      <td>5.390713e-05</td>\n",
       "      <td>0.002480</td>\n",
       "      <td>-0.163181</td>\n",
       "      <td>-6.168908</td>\n",
       "    </tr>\n",
       "    <tr>\n",
       "      <th>PuuR</th>\n",
       "      <td>-6.026142</td>\n",
       "      <td>1.397577e-03</td>\n",
       "      <td>0.017874</td>\n",
       "      <td>-3.040374</td>\n",
       "      <td>-9.066517</td>\n",
       "    </tr>\n",
       "    <tr>\n",
       "      <th>NarL</th>\n",
       "      <td>-6.873706</td>\n",
       "      <td>4.898118e-03</td>\n",
       "      <td>0.040966</td>\n",
       "      <td>6.520503</td>\n",
       "      <td>-0.353203</td>\n",
       "    </tr>\n",
       "    <tr>\n",
       "      <th>iron-related</th>\n",
       "      <td>-14.209552</td>\n",
       "      <td>2.874857e-04</td>\n",
       "      <td>0.006612</td>\n",
       "      <td>1.004311</td>\n",
       "      <td>-13.205241</td>\n",
       "    </tr>\n",
       "    <tr>\n",
       "      <th>Zinc</th>\n",
       "      <td>-15.497242</td>\n",
       "      <td>5.238034e-04</td>\n",
       "      <td>0.009638</td>\n",
       "      <td>21.181402</td>\n",
       "      <td>5.684160</td>\n",
       "    </tr>\n",
       "  </tbody>\n",
       "</table>\n",
       "</div>"
      ],
      "text/plain": [
       "              difference        pvalue    qvalue          0          1\n",
       "Fur-1          27.598965  7.320594e-04  0.011225  -6.701019  20.897946\n",
       "fur-KO         14.918007  4.338664e-08  0.000004   3.516092  18.434098\n",
       "RpoH            5.145175  3.091958e-03  0.031607   0.008680   5.153855\n",
       "flu-yeeRS      -5.020887  2.246638e-04  0.006612   5.299051   0.278164\n",
       "membrane       -6.005727  5.390713e-05  0.002480  -0.163181  -6.168908\n",
       "PuuR           -6.026142  1.397577e-03  0.017874  -3.040374  -9.066517\n",
       "NarL           -6.873706  4.898118e-03  0.040966   6.520503  -0.353203\n",
       "iron-related  -14.209552  2.874857e-04  0.006612   1.004311 -13.205241\n",
       "Zinc          -15.497242  5.238034e-04  0.009638  21.181402   5.684160"
      ]
     },
     "execution_count": 47,
     "metadata": {},
     "output_type": "execute_result"
    },
    {
     "data": {
      "image/png": "[encoded data removed]",
      "text/plain": [
       "<Figure size 432x288 with 1 Axes>"
      ]
     },
     "metadata": {
      "needs_background": "light"
     },
     "output_type": "display_data"
    }
   ],
   "source": [
    "ax, table = plot_dima(ica_data,\n",
    "          ['fur__wt_fe__1','fur__wt_fe__2'],\n",
    "          ['fur__delfur_fe2__1','fur__delfur_fe2__2'],\n",
    "          table=True,\n",
    "          adjust=False)\n",
    "table"
   ]
  },
  {
   "cell_type": "code",
   "execution_count": null,
   "id": "79d24c61",
   "metadata": {
    "hidden": true
   },
   "outputs": [],
   "source": []
  }
 ],
 "metadata": {
  "kernelspec": {
   "display_name": "Python 3 (ipykernel)",
   "language": "python",
   "name": "python3"
  },
  "language_info": {
   "codemirror_mode": {
    "name": "ipython",
    "version": 3
   },
   "file_extension": ".py",
   "mimetype": "text/x-python",
   "name": "python",
   "nbconvert_exporter": "python",
   "pygments_lexer": "ipython3",
   "version": "3.8.7"
  },
  "toc": {
   "base_numbering": 1,
   "nav_menu": {},
   "number_sections": true,
   "sideBar": true,
   "skip_h1_title": false,
   "title_cell": "Table of Contents",
   "title_sidebar": "Contents",
   "toc_cell": false,
   "toc_position": {},
   "toc_section_display": true,
   "toc_window_display": false
  },
  "varInspector": {
   "cols": {
    "lenName": 16,
    "lenType": 16,
    "lenVar": 40
   },
   "kernels_config": {
    "python": {
     "delete_cmd_postfix": "",
     "delete_cmd_prefix": "del ",
     "library": "var_list.py",
     "varRefreshCmd": "print(var_dic_list())"
    },
    "r": {
     "delete_cmd_postfix": ") ",
     "delete_cmd_prefix": "rm(",
     "library": "var_list.r",
     "varRefreshCmd": "cat(var_dic_list()) "
    }
   },
   "types_to_exclude": [
    "module",
    "function",
    "builtin_function_or_method",
    "instance",
    "_Feature"
   ],
   "window_display": false
  }
 },
 "nbformat": 4,
 "nbformat_minor": 5
}
