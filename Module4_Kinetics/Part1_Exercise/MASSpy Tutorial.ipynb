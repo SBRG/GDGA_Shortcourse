{
 "cells": [
  {
   "cell_type": "markdown",
   "id": "5ff4d07c",
   "metadata": {},
   "source": [
    "# MASSpy Tutorial\n",
    "\n",
    "In this notebook example, a step-by-step approach of building a simple model$^1$ of trafficking of high-energy phosphate bonds is demonstrated. Illustrated below is a graphical view of the full system along with the reaction rate equations and numerical values:\n",
    "\n",
    "![PhosTrafficking](./phosphate_trafficking.png)"
   ]
  },
  {
   "cell_type": "markdown",
   "id": "39300728",
   "metadata": {},
   "source": [
    "## Creating a Model"
   ]
  },
  {
   "cell_type": "code",
   "execution_count": 1,
   "id": "a6aea48f",
   "metadata": {
    "execution": {
     "iopub.execute_input": "2021-01-25T18:00:03.439679Z",
     "iopub.status.busy": "2021-01-25T18:00:03.437958Z",
     "iopub.status.idle": "2021-01-25T18:00:05.780946Z",
     "shell.execute_reply": "2021-01-25T18:00:05.781418Z"
    }
   },
   "outputs": [],
   "source": [
    "import numpy as np\n",
    "import pandas as pd\n",
    "\n",
    "from mass import (\n",
    "    MassConfiguration, MassMetabolite, MassModel, MassReaction)\n",
    "from mass.util.matrix import left_nullspace, nullspace\n",
    "\n",
    "mass_config = MassConfiguration()"
   ]
  },
  {
   "cell_type": "markdown",
   "id": "0d4ffa66",
   "metadata": {},
   "source": [
    "The first step to creating the model is to define the `MassModel` object. A `MassModel` only requires an identifier to be initialized. For best practice, it is recommended to utilize SBML compliant identifiers for all objects."
   ]
  },
  {
   "cell_type": "code",
   "execution_count": 2,
   "id": "282e3ca3",
   "metadata": {
    "execution": {
     "iopub.execute_input": "2021-01-25T18:00:05.791270Z",
     "iopub.status.busy": "2021-01-25T18:00:05.790612Z",
     "iopub.status.idle": "2021-01-25T18:00:05.792714Z",
     "shell.execute_reply": "2021-01-25T18:00:05.793165Z"
    }
   },
   "outputs": [
    {
     "name": "stdout",
     "output_type": "stream",
     "text": [
      "Set parameter Username\n",
      "Academic license - for non-commercial use only - expires 2022-01-21\n"
     ]
    }
   ],
   "source": [
    "model = MassModel(\"Phosphate_Trafficking\")"
   ]
  },
  {
   "cell_type": "markdown",
   "id": "74aca0ce",
   "metadata": {},
   "source": [
    "The model is initially empty."
   ]
  },
  {
   "cell_type": "code",
   "execution_count": 3,
   "id": "3f217fe2",
   "metadata": {
    "execution": {
     "iopub.execute_input": "2021-01-25T18:00:05.797764Z",
     "iopub.status.busy": "2021-01-25T18:00:05.797099Z",
     "iopub.status.idle": "2021-01-25T18:00:05.800637Z",
     "shell.execute_reply": "2021-01-25T18:00:05.801102Z"
    }
   },
   "outputs": [
    {
     "name": "stdout",
     "output_type": "stream",
     "text": [
      "Number of metabolites: 0\n",
      "Number of initial conditions: 0\n",
      "Number of reactions: 0\n"
     ]
    }
   ],
   "source": [
    "print(\"Number of metabolites: {0}\".format(len(model.metabolites)))\n",
    "print(\"Number of initial conditions: {0}\".format(len(model.initial_conditions)))\n",
    "print(\"Number of reactions: {0}\".format(len(model.reactions)))"
   ]
  },
  {
   "cell_type": "markdown",
   "id": "5021886a",
   "metadata": {},
   "source": [
    "The next step is to create `MassMetabolite` and `MassReaction` objects to represent the metabolites and reactions that should exist in the model."
   ]
  },
  {
   "cell_type": "markdown",
   "id": "7b5e7503",
   "metadata": {},
   "source": [
    "### Defining metabolites\n",
    "\n",
    "To create a `MassMetabolite`, a unique identifier is required. The `formula` and `charge` attributes are set to ensure mass and charge balancing of reactions in which the metabolite is a participant. The `compartment` attribute indicates where the metabolite is located. In this model, all metabolites exist in a single compartment, abbreviated as \"c\". "
   ]
  },
  {
   "cell_type": "code",
   "execution_count": 4,
   "id": "2e57405e",
   "metadata": {
    "execution": {
     "iopub.execute_input": "2021-01-25T18:00:05.806713Z",
     "iopub.status.busy": "2021-01-25T18:00:05.805996Z",
     "iopub.status.idle": "2021-01-25T18:00:05.808067Z",
     "shell.execute_reply": "2021-01-25T18:00:05.808512Z"
    }
   },
   "outputs": [],
   "source": [
    "atp_c = MassMetabolite(\n",
    "    \"atp_c\",\n",
    "    name=\"ATP\",\n",
    "    formula=\"C10H12N5O13P3\",\n",
    "    charge=-4,\n",
    "    compartment=\"c\")\n",
    "\n",
    "adp_c = MassMetabolite(\n",
    "    \"adp_c\",\n",
    "    name=\"ADP\",\n",
    "    formula=\"C10H12N5O10P2\",\n",
    "    charge=-3,\n",
    "    compartment=\"c\")\n",
    "\n",
    "amp_c = MassMetabolite(\n",
    "    \"amp_c\",\n",
    "    name=\"AMP\",\n",
    "    formula=\"C10H12N5O7P\",\n",
    "    charge=-2,\n",
    "    compartment=\"c\")"
   ]
  },
  {
   "cell_type": "markdown",
   "id": "e1453755",
   "metadata": {},
   "source": [
    "The metabolite concentrations can be defined as the initial conditions for the metabolites using the `initial_condition` attribute. As previously stated, the concentrations are $\\text{[ATP]}=1.6$, $\\text{[ADP]}=0.4$, and $\\text{[AMP]}=0.1$."
   ]
  },
  {
   "cell_type": "code",
   "execution_count": 5,
   "id": "1ab9d21e",
   "metadata": {
    "execution": {
     "iopub.execute_input": "2021-01-25T18:00:05.813223Z",
     "iopub.status.busy": "2021-01-25T18:00:05.812519Z",
     "iopub.status.idle": "2021-01-25T18:00:05.815239Z",
     "shell.execute_reply": "2021-01-25T18:00:05.815693Z"
    }
   },
   "outputs": [
    {
     "name": "stdout",
     "output_type": "stream",
     "text": [
      "atp_c: 1.6\n",
      "adp_c: 0.4\n",
      "amp_c: 0.1\n"
     ]
    }
   ],
   "source": [
    "atp_c.initial_condition = 1.6\n",
    "adp_c.ic = 0.4  # Alias for initial_condition\n",
    "amp_c.ic = 0.1\n",
    "\n",
    "for metabolite in [atp_c, adp_c, amp_c]:\n",
    "    print(\"{0}: {1}\".format(metabolite.id, metabolite.initial_condition))"
   ]
  },
  {
   "cell_type": "markdown",
   "id": "1ba24087",
   "metadata": {},
   "source": [
    "The metabolites are currently not a part of any reaction. Consequently, the `ordinary_differential_equation` attribute is `None`. "
   ]
  },
  {
   "cell_type": "code",
   "execution_count": 6,
   "id": "92d824c2",
   "metadata": {
    "execution": {
     "iopub.execute_input": "2021-01-25T18:00:05.820604Z",
     "iopub.status.busy": "2021-01-25T18:00:05.819478Z",
     "iopub.status.idle": "2021-01-25T18:00:05.822590Z",
     "shell.execute_reply": "2021-01-25T18:00:05.823038Z"
    }
   },
   "outputs": [
    {
     "name": "stdout",
     "output_type": "stream",
     "text": [
      "None\n",
      "None\n",
      "None\n"
     ]
    }
   ],
   "source": [
    "print(atp_c.ordinary_differential_equation)\n",
    "print(adp_c.ode)  # Alias for ordinary_differential_equation\n",
    "print(amp_c.ode)  "
   ]
  },
  {
   "cell_type": "markdown",
   "id": "718c668a",
   "metadata": {},
   "source": [
    "The next step is to create the reactions in which the metabolites participate."
   ]
  },
  {
   "cell_type": "markdown",
   "id": "8a223cfb",
   "metadata": {},
   "source": [
    "### Defining reactions\n",
    "\n",
    "Just like `MassMetabolite` objects, a unique identifier is also required to create a `MassReaction`. The `reversible` attribute determines whether the reaction can proceed in both the forward and reverse directions, or only in the forward direction. "
   ]
  },
  {
   "cell_type": "code",
   "execution_count": 7,
   "id": "c114b272",
   "metadata": {
    "execution": {
     "iopub.execute_input": "2021-01-25T18:00:05.827789Z",
     "iopub.status.busy": "2021-01-25T18:00:05.827100Z",
     "iopub.status.idle": "2021-01-25T18:00:05.829148Z",
     "shell.execute_reply": "2021-01-25T18:00:05.829721Z"
    }
   },
   "outputs": [],
   "source": [
    "distr = MassReaction(\"distr\", name=\"Distribution\", reversible=True)\n",
    "use = MassReaction(\"use\", name=\"ATP Utilization\", reversible=False)\n",
    "form = MassReaction(\"form\", name=\"ATP Formation\", reversible=False)"
   ]
  },
  {
   "cell_type": "markdown",
   "id": "61661e9f",
   "metadata": {},
   "source": [
    "Metabolites are added to reactions using a dictionary of metabolite objects and their stoichiometric coefficients. A group of metabolites can be added either all at once or one at a time. A negative coefficient indicates the metabolite is a reactant, while a positive coefficient indicates the metabolite is a product."
   ]
  },
  {
   "cell_type": "code",
   "execution_count": 8,
   "id": "0800956e",
   "metadata": {
    "execution": {
     "iopub.execute_input": "2021-01-25T18:00:05.835157Z",
     "iopub.status.busy": "2021-01-25T18:00:05.834411Z",
     "iopub.status.idle": "2021-01-25T18:00:05.837220Z",
     "shell.execute_reply": "2021-01-25T18:00:05.837713Z"
    }
   },
   "outputs": [
    {
     "name": "stdout",
     "output_type": "stream",
     "text": [
      "distr: 2 adp_c <=> amp_c + atp_c\n",
      "use: atp_c --> adp_c\n",
      "form: adp_c --> atp_c\n"
     ]
    }
   ],
   "source": [
    "distr.add_metabolites({\n",
    "    adp_c: -2,\n",
    "    atp_c: 1,\n",
    "    amp_c: 1})\n",
    "\n",
    "use.add_metabolites({\n",
    "    atp_c: -1,\n",
    "    adp_c: 1})\n",
    "\n",
    "form.add_metabolites({\n",
    "    adp_c: -1,\n",
    "    atp_c: 1})\n",
    "\n",
    "for reaction in [distr, use, form]:\n",
    "    print(reaction)"
   ]
  },
  {
   "cell_type": "markdown",
   "id": "4d6126b0",
   "metadata": {},
   "source": [
    "Once the reactions are created, their parameters can be defined. As stated earlier, the distribution reaction is considerably faster when compared to other reactions in the model. The forward rate constant $k^{\\rightarrow}$, represented as `kf`, can be set as $k^{\\rightarrow}_{distr}=1000\\ \\text{min}^{-1}$. The equilibrium constant $K_{eq}$, represented as `Keq`, is approximately $K_{distr}=1$."
   ]
  },
  {
   "cell_type": "code",
   "execution_count": 9,
   "id": "38c81917",
   "metadata": {
    "execution": {
     "iopub.execute_input": "2021-01-25T18:00:05.844635Z",
     "iopub.status.busy": "2021-01-25T18:00:05.843887Z",
     "iopub.status.idle": "2021-01-25T18:00:05.846838Z",
     "shell.execute_reply": "2021-01-25T18:00:05.847287Z"
    },
    "scrolled": true
   },
   "outputs": [
    {
     "data": {
      "text/plain": [
       "{'kf_distr': 1000, 'Keq_distr': 1}"
      ]
     },
     "execution_count": 9,
     "metadata": {},
     "output_type": "execute_result"
    }
   ],
   "source": [
    "distr.forward_rate_constant = 1000\n",
    "distr.equilibrium_constant = 1\n",
    "distr.parameters  # Return defined mass action kinetic parameters"
   ]
  },
  {
   "cell_type": "markdown",
   "id": "6869d8ca",
   "metadata": {},
   "source": [
    "As shown earlier, the forward rate constants are set as $k^{\\rightarrow}_{use}=6.25\\ \\text{min}^{-1}$ and $k^{\\rightarrow}_{form}=25\\ \\text{min}^{-1}$.\n",
    "The `kf_str` attribute can be used to get the identifier of the forward rate constant as a string."
   ]
  },
  {
   "cell_type": "code",
   "execution_count": 10,
   "id": "5d089020",
   "metadata": {
    "execution": {
     "iopub.execute_input": "2021-01-25T18:00:05.852526Z",
     "iopub.status.busy": "2021-01-25T18:00:05.851802Z",
     "iopub.status.idle": "2021-01-25T18:00:05.854494Z",
     "shell.execute_reply": "2021-01-25T18:00:05.855015Z"
    }
   },
   "outputs": [
    {
     "name": "stdout",
     "output_type": "stream",
     "text": [
      "kf_use: 6.25\n",
      "kf_form: 25\n"
     ]
    }
   ],
   "source": [
    "use.forward_rate_constant = 6.25\n",
    "form.kf = 25  # Alias for forward_rate_constant\n",
    "\n",
    "print(\"{0}: {1}\".format(use.kf_str, use.kf))\n",
    "print(\"{0}: {1}\".format(form.kf_str, form.kf))"
   ]
  },
  {
   "cell_type": "markdown",
   "id": "9bade3c9",
   "metadata": {},
   "source": [
    "Reactions can be added to the model using the `add_reactions()` method. Adding the reactions to the model also adds the associated metabolites and genes."
   ]
  },
  {
   "cell_type": "code",
   "execution_count": 11,
   "id": "0f052f5b",
   "metadata": {
    "execution": {
     "iopub.execute_input": "2021-01-25T18:00:05.862410Z",
     "iopub.status.busy": "2021-01-25T18:00:05.861670Z",
     "iopub.status.idle": "2021-01-25T18:00:05.864439Z",
     "shell.execute_reply": "2021-01-25T18:00:05.864894Z"
    }
   },
   "outputs": [
    {
     "name": "stdout",
     "output_type": "stream",
     "text": [
      "Number of metabolites: 3\n",
      "Number of initial conditions: 3\n",
      "Number of reactions: 3\n"
     ]
    }
   ],
   "source": [
    "model.add_reactions([distr, use, form])\n",
    "\n",
    "print(\"Number of metabolites: {0}\".format(len(model.metabolites)))\n",
    "print(\"Number of initial conditions: {0}\".format(len(model.initial_conditions)))\n",
    "print(\"Number of reactions: {0}\".format(len(model.reactions)))"
   ]
  },
  {
   "cell_type": "markdown",
   "id": "5957d8ed",
   "metadata": {},
   "source": [
    "The stoichiometric matrix of the model is automatically constructed with the addition of the reactions and metabolites to the model. It can be accessed through the `stoichiometric_matrix` property (alias `S`)."
   ]
  },
  {
   "cell_type": "code",
   "execution_count": 12,
   "id": "f26ee774",
   "metadata": {
    "execution": {
     "iopub.execute_input": "2021-01-25T18:00:05.869754Z",
     "iopub.status.busy": "2021-01-25T18:00:05.868951Z",
     "iopub.status.idle": "2021-01-25T18:00:05.872077Z",
     "shell.execute_reply": "2021-01-25T18:00:05.872709Z"
    }
   },
   "outputs": [
    {
     "name": "stdout",
     "output_type": "stream",
     "text": [
      "[[-2.  1. -1.]\n",
      " [ 1. -1.  1.]\n",
      " [ 1.  0.  0.]]\n"
     ]
    }
   ],
   "source": [
    "print(model.S)"
   ]
  },
  {
   "cell_type": "markdown",
   "id": "706089fa",
   "metadata": {},
   "source": [
    "The stoichiometric matrix attribute can be updated and stored in various formats using the `update_S()` method. For example, the stoichiometric matrix can be converted and stored as a `pandas.DataFrame`."
   ]
  },
  {
   "cell_type": "code",
   "execution_count": 13,
   "id": "1d30e971",
   "metadata": {
    "execution": {
     "iopub.execute_input": "2021-01-25T18:00:05.879779Z",
     "iopub.status.busy": "2021-01-25T18:00:05.878935Z",
     "iopub.status.idle": "2021-01-25T18:00:05.887582Z",
     "shell.execute_reply": "2021-01-25T18:00:05.888145Z"
    }
   },
   "outputs": [
    {
     "data": {
      "text/html": [
       "<div>\n",
       "<style scoped>\n",
       "    .dataframe tbody tr th:only-of-type {\n",
       "        vertical-align: middle;\n",
       "    }\n",
       "\n",
       "    .dataframe tbody tr th {\n",
       "        vertical-align: top;\n",
       "    }\n",
       "\n",
       "    .dataframe thead th {\n",
       "        text-align: right;\n",
       "    }\n",
       "</style>\n",
       "<table border=\"1\" class=\"dataframe\">\n",
       "  <thead>\n",
       "    <tr style=\"text-align: right;\">\n",
       "      <th></th>\n",
       "      <th>distr</th>\n",
       "      <th>use</th>\n",
       "      <th>form</th>\n",
       "    </tr>\n",
       "  </thead>\n",
       "  <tbody>\n",
       "    <tr>\n",
       "      <th>adp_c</th>\n",
       "      <td>-2</td>\n",
       "      <td>1</td>\n",
       "      <td>-1</td>\n",
       "    </tr>\n",
       "    <tr>\n",
       "      <th>atp_c</th>\n",
       "      <td>1</td>\n",
       "      <td>-1</td>\n",
       "      <td>1</td>\n",
       "    </tr>\n",
       "    <tr>\n",
       "      <th>amp_c</th>\n",
       "      <td>1</td>\n",
       "      <td>0</td>\n",
       "      <td>0</td>\n",
       "    </tr>\n",
       "  </tbody>\n",
       "</table>\n",
       "</div>"
      ],
      "text/plain": [
       "       distr  use  form\n",
       "adp_c     -2    1    -1\n",
       "atp_c      1   -1     1\n",
       "amp_c      1    0     0"
      ]
     },
     "execution_count": 13,
     "metadata": {},
     "output_type": "execute_result"
    }
   ],
   "source": [
    "model.update_S(array_type=\"DataFrame\", dtype=np.int_, update_model=True)\n",
    "model.S"
   ]
  },
  {
   "cell_type": "markdown",
   "id": "22448757",
   "metadata": {},
   "source": [
    "Associating the metabolites with reactions allows for the mass action reaction rate expressions to be generated based on the stoichiometry."
   ]
  },
  {
   "cell_type": "code",
   "execution_count": 14,
   "id": "a8d0be74",
   "metadata": {
    "execution": {
     "iopub.execute_input": "2021-01-25T18:00:05.908047Z",
     "iopub.status.busy": "2021-01-25T18:00:05.907106Z",
     "iopub.status.idle": "2021-01-25T18:00:05.910200Z",
     "shell.execute_reply": "2021-01-25T18:00:05.910700Z"
    }
   },
   "outputs": [
    {
     "name": "stdout",
     "output_type": "stream",
     "text": [
      "kf_distr*(adp_c(t)**2 - amp_c(t)*atp_c(t)/Keq_distr)\n"
     ]
    }
   ],
   "source": [
    "print(distr.rate)"
   ]
  },
  {
   "cell_type": "markdown",
   "id": "82c40e6b",
   "metadata": {},
   "source": [
    "Generation of the reaction rates also allows for the metabolite ODEs to be generated."
   ]
  },
  {
   "cell_type": "code",
   "execution_count": 15,
   "id": "b7ac0d75",
   "metadata": {
    "execution": {
     "iopub.execute_input": "2021-01-25T18:00:05.925050Z",
     "iopub.status.busy": "2021-01-25T18:00:05.924275Z",
     "iopub.status.idle": "2021-01-25T18:00:05.927338Z",
     "shell.execute_reply": "2021-01-25T18:00:05.927861Z"
    }
   },
   "outputs": [
    {
     "name": "stdout",
     "output_type": "stream",
     "text": [
      "kf_distr*(adp_c(t)**2 - amp_c(t)*atp_c(t)/Keq_distr) + kf_form*adp_c(t) - kf_use*atp_c(t)\n"
     ]
    }
   ],
   "source": [
    "print(atp_c.ode)"
   ]
  },
  {
   "cell_type": "markdown",
   "id": "d4532808",
   "metadata": {},
   "source": [
    "The `nullspace()` method can be used to obtain the null space of the stoichiometric matrix. The nullspace reflects the pathways through the system."
   ]
  },
  {
   "cell_type": "code",
   "execution_count": 16,
   "id": "a6892849",
   "metadata": {
    "execution": {
     "iopub.execute_input": "2021-01-25T18:00:05.937717Z",
     "iopub.status.busy": "2021-01-25T18:00:05.936544Z",
     "iopub.status.idle": "2021-01-25T18:00:05.940063Z",
     "shell.execute_reply": "2021-01-25T18:00:05.940563Z"
    }
   },
   "outputs": [
    {
     "data": {
      "text/html": [
       "<div>\n",
       "<style scoped>\n",
       "    .dataframe tbody tr th:only-of-type {\n",
       "        vertical-align: middle;\n",
       "    }\n",
       "\n",
       "    .dataframe tbody tr th {\n",
       "        vertical-align: top;\n",
       "    }\n",
       "\n",
       "    .dataframe thead th {\n",
       "        text-align: right;\n",
       "    }\n",
       "</style>\n",
       "<table border=\"1\" class=\"dataframe\">\n",
       "  <thead>\n",
       "    <tr style=\"text-align: right;\">\n",
       "      <th></th>\n",
       "      <th>Pathway 1</th>\n",
       "    </tr>\n",
       "  </thead>\n",
       "  <tbody>\n",
       "    <tr>\n",
       "      <th>distr</th>\n",
       "      <td>0</td>\n",
       "    </tr>\n",
       "    <tr>\n",
       "      <th>use</th>\n",
       "      <td>1</td>\n",
       "    </tr>\n",
       "    <tr>\n",
       "      <th>form</th>\n",
       "      <td>1</td>\n",
       "    </tr>\n",
       "  </tbody>\n",
       "</table>\n",
       "</div>"
      ],
      "text/plain": [
       "       Pathway 1\n",
       "distr          0\n",
       "use            1\n",
       "form           1"
      ]
     },
     "execution_count": 16,
     "metadata": {},
     "output_type": "execute_result"
    }
   ],
   "source": [
    "ns = nullspace(model.S)  # Get the null space\n",
    "# Divide by the minimum and round to nearest integer\n",
    "ns = np.rint(ns / np.min(ns[np.nonzero(ns)]))\n",
    "pd.DataFrame(\n",
    "    ns, index=model.reactions.list_attr(\"id\"),  # Rows represent reactions\n",
    "    columns=[\"Pathway 1\"], dtype=np.int_)"
   ]
  },
  {
   "cell_type": "markdown",
   "id": "78fdac7f",
   "metadata": {},
   "source": [
    "In a similar fashion the left nullspace can be obtained using the `left_nullspace` function. The left nullspace represents the conserved moieties in the model."
   ]
  },
  {
   "cell_type": "code",
   "execution_count": 17,
   "id": "c2085afa",
   "metadata": {
    "execution": {
     "iopub.execute_input": "2021-01-25T18:00:05.951692Z",
     "iopub.status.busy": "2021-01-25T18:00:05.950293Z",
     "iopub.status.idle": "2021-01-25T18:00:05.957619Z",
     "shell.execute_reply": "2021-01-25T18:00:05.958110Z"
    }
   },
   "outputs": [
    {
     "data": {
      "text/html": [
       "<div>\n",
       "<style scoped>\n",
       "    .dataframe tbody tr th:only-of-type {\n",
       "        vertical-align: middle;\n",
       "    }\n",
       "\n",
       "    .dataframe tbody tr th {\n",
       "        vertical-align: top;\n",
       "    }\n",
       "\n",
       "    .dataframe thead th {\n",
       "        text-align: right;\n",
       "    }\n",
       "</style>\n",
       "<table border=\"1\" class=\"dataframe\">\n",
       "  <thead>\n",
       "    <tr style=\"text-align: right;\">\n",
       "      <th></th>\n",
       "      <th>adp_c</th>\n",
       "      <th>atp_c</th>\n",
       "      <th>amp_c</th>\n",
       "    </tr>\n",
       "  </thead>\n",
       "  <tbody>\n",
       "    <tr>\n",
       "      <th>Total AxP</th>\n",
       "      <td>1</td>\n",
       "      <td>1</td>\n",
       "      <td>1</td>\n",
       "    </tr>\n",
       "  </tbody>\n",
       "</table>\n",
       "</div>"
      ],
      "text/plain": [
       "           adp_c  atp_c  amp_c\n",
       "Total AxP      1      1      1"
      ]
     },
     "execution_count": 17,
     "metadata": {},
     "output_type": "execute_result"
    }
   ],
   "source": [
    "lns = left_nullspace(model.S)\n",
    "# Divide by the minimum and round to nearest integer\n",
    "lns = np.rint(lns / np.min(lns[np.nonzero(lns)]))\n",
    "pd.DataFrame(\n",
    "    lns, index=[\"Total AxP\"],\n",
    "    columns=model.metabolites.list_attr(\"id\"),  # Columns represent metabolites\n",
    "    dtype=np.int_)"
   ]
  },
  {
   "cell_type": "markdown",
   "id": "3e40133b",
   "metadata": {},
   "source": [
    "## Expanding an Existing Model\n",
    "\n",
    "Now, the existing model is expanded to include a buffer reaction, where a phosphagen is utilized to store a high-energy phosphate in order to buffer the ATP/ADP ratio as needed. Because the buffer molecule represents a generic phosphagen, there is no chemical formula for the molecule. Therefore, the buffer molecule can be represented as a moiety in the `formula` attribute using square brackets."
   ]
  },
  {
   "cell_type": "code",
   "execution_count": 18,
   "id": "99296a5e",
   "metadata": {
    "execution": {
     "iopub.execute_input": "2021-01-25T18:00:05.967852Z",
     "iopub.status.busy": "2021-01-25T18:00:05.966583Z",
     "iopub.status.idle": "2021-01-25T18:00:05.970036Z",
     "shell.execute_reply": "2021-01-25T18:00:05.970952Z"
    }
   },
   "outputs": [],
   "source": [
    "b = MassMetabolite(\n",
    "    \"B\",\n",
    "    name=\"Phosphagen buffer (Free)\",\n",
    "    formula=\"[B]\",\n",
    "    charge=0,\n",
    "    compartment=\"c\")\n",
    "\n",
    "bp = MassMetabolite(\n",
    "    \"BP\",\n",
    "    name=\"Phosphagen buffer (Loaded)\",\n",
    "    formula=\"[B]-PO3\",\n",
    "    charge=-1,\n",
    "    compartment=\"c\")\n",
    "\n",
    "buffer = MassReaction(\"buffer\", name=\"ATP Buffering\")"
   ]
  },
  {
   "cell_type": "markdown",
   "id": "1ed5bc2e",
   "metadata": {},
   "source": [
    "When adding metabolites to the reaction, the `get_by_id()` method is used to add already existing metabolites in the model to the reaction."
   ]
  },
  {
   "cell_type": "code",
   "execution_count": 19,
   "id": "8b2327d6",
   "metadata": {
    "execution": {
     "iopub.execute_input": "2021-01-25T18:00:05.984417Z",
     "iopub.status.busy": "2021-01-25T18:00:05.983027Z",
     "iopub.status.idle": "2021-01-25T18:00:05.986065Z",
     "shell.execute_reply": "2021-01-25T18:00:05.986955Z"
    }
   },
   "outputs": [],
   "source": [
    "buffer.add_metabolites({\n",
    "    b: -1,\n",
    "    model.metabolites.get_by_id(\"atp_c\"): -1,\n",
    "    model.metabolites.get_by_id(\"adp_c\"): 1,\n",
    "    bp: 1})\n",
    "\n",
    "# Add reaction to model\n",
    "model.add_reactions([buffer])"
   ]
  },
  {
   "cell_type": "markdown",
   "id": "9ce5d911",
   "metadata": {},
   "source": [
    "For this reaction, $k^{\\rightarrow}_{buffer}=1000\\ \\text{min}^{-1}$ and $K_{buffer}=1$. Because the reaction has already been added to the model, the `MassModel.update_parameters()` method can be used to update the reaction parameters using a dictionary:"
   ]
  },
  {
   "cell_type": "code",
   "execution_count": 20,
   "id": "761df76b",
   "metadata": {
    "execution": {
     "iopub.execute_input": "2021-01-25T18:00:05.996046Z",
     "iopub.status.busy": "2021-01-25T18:00:05.994787Z",
     "iopub.status.idle": "2021-01-25T18:00:05.999536Z",
     "shell.execute_reply": "2021-01-25T18:00:06.000616Z"
    }
   },
   "outputs": [
    {
     "data": {
      "text/plain": [
       "{'kf_buffer': 1000, 'Keq_buffer': 1}"
      ]
     },
     "execution_count": 20,
     "metadata": {},
     "output_type": "execute_result"
    }
   ],
   "source": [
    "model.update_parameters({\n",
    "    buffer.kf_str: 1000,\n",
    "    buffer.Keq_str: 1})\n",
    "\n",
    "buffer.parameters"
   ]
  },
  {
   "cell_type": "markdown",
   "id": "077a9c25",
   "metadata": {},
   "source": [
    "By adding the reaction to the model, the left nullspace expanded to include a conservation pool for the total buffer in the system."
   ]
  },
  {
   "cell_type": "code",
   "execution_count": 21,
   "id": "d0898857",
   "metadata": {
    "execution": {
     "iopub.execute_input": "2021-01-25T18:00:06.014397Z",
     "iopub.status.busy": "2021-01-25T18:00:06.013543Z",
     "iopub.status.idle": "2021-01-25T18:00:06.016519Z",
     "shell.execute_reply": "2021-01-25T18:00:06.016953Z"
    }
   },
   "outputs": [
    {
     "data": {
      "text/html": [
       "<div>\n",
       "<style scoped>\n",
       "    .dataframe tbody tr th:only-of-type {\n",
       "        vertical-align: middle;\n",
       "    }\n",
       "\n",
       "    .dataframe tbody tr th {\n",
       "        vertical-align: top;\n",
       "    }\n",
       "\n",
       "    .dataframe thead th {\n",
       "        text-align: right;\n",
       "    }\n",
       "</style>\n",
       "<table border=\"1\" class=\"dataframe\">\n",
       "  <thead>\n",
       "    <tr style=\"text-align: right;\">\n",
       "      <th></th>\n",
       "      <th>adp_c</th>\n",
       "      <th>atp_c</th>\n",
       "      <th>amp_c</th>\n",
       "      <th>B</th>\n",
       "      <th>BP</th>\n",
       "    </tr>\n",
       "  </thead>\n",
       "  <tbody>\n",
       "    <tr>\n",
       "      <th>Total AxP</th>\n",
       "      <td>1</td>\n",
       "      <td>1</td>\n",
       "      <td>1</td>\n",
       "      <td>0</td>\n",
       "      <td>0</td>\n",
       "    </tr>\n",
       "    <tr>\n",
       "      <th>Total Buffer</th>\n",
       "      <td>0</td>\n",
       "      <td>0</td>\n",
       "      <td>0</td>\n",
       "      <td>1</td>\n",
       "      <td>1</td>\n",
       "    </tr>\n",
       "  </tbody>\n",
       "</table>\n",
       "</div>"
      ],
      "text/plain": [
       "              adp_c  atp_c  amp_c  B  BP\n",
       "Total AxP         1      1      1  0   0\n",
       "Total Buffer      0      0      0  1   1"
      ]
     },
     "execution_count": 21,
     "metadata": {},
     "output_type": "execute_result"
    }
   ],
   "source": [
    "lns = left_nullspace(model.S)\n",
    "for i, row in enumerate(lns):\n",
    "    # Divide by the minimum and round to nearest integer\n",
    "    lns[i] = np.rint(row / np.min(row[np.nonzero(row)]))\n",
    "pd.DataFrame(lns, index=[\"Total AxP\", \"Total Buffer\"],\n",
    "             columns=model.metabolites.list_attr(\"id\"),\n",
    "             dtype=np.int_)"
   ]
  },
  {
   "cell_type": "markdown",
   "id": "84fa3f04",
   "metadata": {},
   "source": [
    "### Performing symbolic calculations\n",
    "\n",
    "Although the concentrations for the free and loaded buffer molecules are currently unknown, the total amount of buffer is known and set as $B_{total} = 10$. Because the buffer reaction is assumed to be at equilibrium, it becomes possible to solve for the concentrations of the free and loaded buffer molecules.\n",
    "\n",
    "Below, the symbolic capabilities of **SymPy** are used to solve for the steady state concentrations of the buffer molecules."
   ]
  },
  {
   "cell_type": "code",
   "execution_count": 22,
   "id": "3214d65d",
   "metadata": {
    "execution": {
     "iopub.execute_input": "2021-01-25T18:00:06.021706Z",
     "iopub.status.busy": "2021-01-25T18:00:06.020808Z",
     "iopub.status.idle": "2021-01-25T18:00:06.023583Z",
     "shell.execute_reply": "2021-01-25T18:00:06.023052Z"
    }
   },
   "outputs": [],
   "source": [
    "from sympy import Eq, Symbol, pprint, solve\n",
    "\n",
    "from mass.util import strip_time"
   ]
  },
  {
   "cell_type": "markdown",
   "id": "62de271c",
   "metadata": {},
   "source": [
    "The first step is to define the equation for the total buffer pool symbolically:"
   ]
  },
  {
   "cell_type": "code",
   "execution_count": 23,
   "id": "1b352cc0",
   "metadata": {
    "execution": {
     "iopub.execute_input": "2021-01-25T18:00:06.036470Z",
     "iopub.status.busy": "2021-01-25T18:00:06.035738Z",
     "iopub.status.idle": "2021-01-25T18:00:06.038710Z",
     "shell.execute_reply": "2021-01-25T18:00:06.039397Z"
    }
   },
   "outputs": [
    {
     "name": "stdout",
     "output_type": "stream",
     "text": [
      "B + BP = 10\n"
     ]
    }
   ],
   "source": [
    "buffer_total_equation = Eq(Symbol(\"B\") + Symbol(\"BP\"), 10)\n",
    "pprint(buffer_total_equation)"
   ]
  },
  {
   "cell_type": "markdown",
   "id": "96415cb5",
   "metadata": {},
   "source": [
    "The equation for the reaction rate at equilibrium is also defined. The `strip_time()` function is used to strip time dependency from the equation."
   ]
  },
  {
   "cell_type": "code",
   "execution_count": 24,
   "id": "a617449b",
   "metadata": {
    "execution": {
     "iopub.execute_input": "2021-01-25T18:00:06.090869Z",
     "iopub.status.busy": "2021-01-25T18:00:06.088650Z",
     "iopub.status.idle": "2021-01-25T18:00:06.093172Z",
     "shell.execute_reply": "2021-01-25T18:00:06.093682Z"
    }
   },
   "outputs": [
    {
     "name": "stdout",
     "output_type": "stream",
     "text": [
      "0 = 1600.0⋅B - 400.0⋅BP\n"
     ]
    }
   ],
   "source": [
    "buffer_rate_equation = Eq(0, strip_time(buffer.rate))\n",
    "# Substitute defined concentration values into equation\n",
    "buffer_rate_equation = buffer_rate_equation.subs({\n",
    "    \"atp_c\":  atp_c.initial_condition,\n",
    "    \"adp_c\":  adp_c.initial_condition,\n",
    "    \"kf_buffer\": buffer.kf,\n",
    "    \"Keq_buffer\": buffer.Keq})\n",
    "pprint(buffer_rate_equation)"
   ]
  },
  {
   "cell_type": "markdown",
   "id": "0c65831f",
   "metadata": {},
   "source": [
    "These two equations can be solved to get the buffer concentrations:"
   ]
  },
  {
   "cell_type": "code",
   "execution_count": 25,
   "id": "dd3a0f34",
   "metadata": {
    "execution": {
     "iopub.execute_input": "2021-01-25T18:00:06.116101Z",
     "iopub.status.busy": "2021-01-25T18:00:06.115252Z",
     "iopub.status.idle": "2021-01-25T18:00:06.118110Z",
     "shell.execute_reply": "2021-01-25T18:00:06.118561Z"
    }
   },
   "outputs": [
    {
     "data": {
      "text/plain": [
       "{B: 2.00000000000000, BP: 8.00000000000000}"
      ]
     },
     "execution_count": 25,
     "metadata": {},
     "output_type": "execute_result"
    }
   ],
   "source": [
    "buffer_sol = solve([buffer_total_equation, buffer_rate_equation],\n",
    "                   [Symbol(\"B\"), Symbol(\"BP\")])\n",
    "buffer_sol"
   ]
  },
  {
   "cell_type": "markdown",
   "id": "932a2b7a",
   "metadata": {},
   "source": [
    "Because the metabolites already exist in the model, their initial conditions can be updated to the calculated concentrations using the `MassModel.update_initial_conditions()` method."
   ]
  },
  {
   "cell_type": "code",
   "execution_count": 26,
   "id": "aa784adb",
   "metadata": {
    "execution": {
     "iopub.execute_input": "2021-01-25T18:00:06.124344Z",
     "iopub.status.busy": "2021-01-25T18:00:06.123558Z",
     "iopub.status.idle": "2021-01-25T18:00:06.126475Z",
     "shell.execute_reply": "2021-01-25T18:00:06.127068Z"
    }
   },
   "outputs": [
    {
     "data": {
      "text/plain": [
       "{<MassMetabolite adp_c at 0x7fc278a0bb20>: 0.4,\n",
       " <MassMetabolite atp_c at 0x7fc278a0bb80>: 1.6,\n",
       " <MassMetabolite amp_c at 0x7fc278a0bbb0>: 0.1,\n",
       " <MassMetabolite B at 0x7fc2dad5ed00>: 2.0,\n",
       " <MassMetabolite BP at 0x7fc2dad5efa0>: 8.0}"
      ]
     },
     "execution_count": 26,
     "metadata": {},
     "output_type": "execute_result"
    }
   ],
   "source": [
    "# Replace the symbols in the dict\n",
    "for met_symbol, concentration in buffer_sol.copy().items():\n",
    "    metabolite = model.metabolites.get_by_id(str(met_symbol))\n",
    "    # Make value as a float\n",
    "    buffer_sol[metabolite] = float(buffer_sol.pop(met_symbol))\n",
    "\n",
    "model.update_initial_conditions(buffer_sol)\n",
    "model.initial_conditions"
   ]
  },
  {
   "cell_type": "markdown",
   "id": "5c0a44fa",
   "metadata": {},
   "source": [
    "### Adding boundary reactions\n",
    "\n",
    "After adding the buffer reactions, the next step is to define the AMP source and demand reactions. The `add_boundary()` method is employed to create and add a boundary reaction to a model."
   ]
  },
  {
   "cell_type": "code",
   "execution_count": 27,
   "id": "f1709afd",
   "metadata": {
    "execution": {
     "iopub.execute_input": "2021-01-25T18:00:06.133880Z",
     "iopub.status.busy": "2021-01-25T18:00:06.133164Z",
     "iopub.status.idle": "2021-01-25T18:00:06.135796Z",
     "shell.execute_reply": "2021-01-25T18:00:06.136292Z"
    }
   },
   "outputs": [
    {
     "name": "stdout",
     "output_type": "stream",
     "text": [
      "amp_drain: amp_c --> \n",
      "amp_in: amp_c --> \n"
     ]
    }
   ],
   "source": [
    "amp_drain = model.add_boundary(\n",
    "    model.metabolites.amp_c,\n",
    "    boundary_type=\"demand\",\n",
    "    reaction_id=\"amp_drain\")\n",
    "\n",
    "amp_in = model.add_boundary(\n",
    "    model.metabolites.amp_c,\n",
    "    boundary_type=\"demand\",\n",
    "    reaction_id=\"amp_in\")\n",
    "\n",
    "print(amp_drain)\n",
    "print(amp_in)"
   ]
  },
  {
   "cell_type": "markdown",
   "id": "0154a59c",
   "metadata": {},
   "source": [
    "The automatic generation of the boundary reaction can be useful. However, sometimes the reaction stoichiometry needs to be switched in order to be intuitive. In this case, the stoichiometry of the AMP source reaction should be reversed to show that AMP enters the system, which is accomplished by using the `MassReaction.reverse_stoichiometry()` method."
   ]
  },
  {
   "cell_type": "code",
   "execution_count": 28,
   "id": "70619736",
   "metadata": {
    "execution": {
     "iopub.execute_input": "2021-01-25T18:00:06.158004Z",
     "iopub.status.busy": "2021-01-25T18:00:06.157344Z",
     "iopub.status.idle": "2021-01-25T18:00:06.159870Z",
     "shell.execute_reply": "2021-01-25T18:00:06.160318Z"
    },
    "scrolled": true
   },
   "outputs": [
    {
     "name": "stdout",
     "output_type": "stream",
     "text": [
      "amp_in:  --> amp_c\n"
     ]
    }
   ],
   "source": [
    "amp_in.reverse_stoichiometry(inplace=True)\n",
    "print(amp_in)"
   ]
  },
  {
   "cell_type": "markdown",
   "id": "929152f4",
   "metadata": {},
   "source": [
    "When a boundary reaction is created, a 'boundary metabolite' is also created as a proxy metabolite. The proxy metabolite is the external metabolite concentration (i.e., boundary condition) without instantiating a new `MassMetabolite` object to represent the external metabolite."
   ]
  },
  {
   "cell_type": "code",
   "execution_count": 29,
   "id": "bb6698ec",
   "metadata": {
    "execution": {
     "iopub.execute_input": "2021-01-25T18:00:06.141257Z",
     "iopub.status.busy": "2021-01-25T18:00:06.140467Z",
     "iopub.status.idle": "2021-01-25T18:00:06.143509Z",
     "shell.execute_reply": "2021-01-25T18:00:06.143964Z"
    }
   },
   "outputs": [
    {
     "data": {
      "text/plain": [
       "'amp_b'"
      ]
     },
     "execution_count": 29,
     "metadata": {},
     "output_type": "execute_result"
    }
   ],
   "source": [
    "amp_in.boundary_metabolite"
   ]
  },
  {
   "cell_type": "markdown",
   "id": "037af030",
   "metadata": {},
   "source": [
    "The value of the 'boundary metabolite' can be set using the `MassModel.add_boundary_conditions()` method. Boundary conditions are accessed through the `MassModel.boundary_conditions` attribute."
   ]
  },
  {
   "cell_type": "code",
   "execution_count": 30,
   "id": "95afa355",
   "metadata": {
    "execution": {
     "iopub.execute_input": "2021-01-25T18:00:06.148886Z",
     "iopub.status.busy": "2021-01-25T18:00:06.148069Z",
     "iopub.status.idle": "2021-01-25T18:00:06.150893Z",
     "shell.execute_reply": "2021-01-25T18:00:06.151339Z"
    }
   },
   "outputs": [
    {
     "data": {
      "text/plain": [
       "{'amp_b': 0.0}"
      ]
     },
     "execution_count": 30,
     "metadata": {},
     "output_type": "execute_result"
    }
   ],
   "source": [
    "model.add_boundary_conditions({amp_in.boundary_metabolite: 0})\n",
    "model.boundary_conditions"
   ]
  },
  {
   "cell_type": "markdown",
   "id": "e3c54935",
   "metadata": {},
   "source": [
    "Note that the addition of these two reactions adds an another pathway to the null space:"
   ]
  },
  {
   "cell_type": "code",
   "execution_count": 31,
   "id": "3587e409",
   "metadata": {
    "execution": {
     "iopub.execute_input": "2021-01-25T18:00:06.173220Z",
     "iopub.status.busy": "2021-01-25T18:00:06.171779Z",
     "iopub.status.idle": "2021-01-25T18:00:06.177145Z",
     "shell.execute_reply": "2021-01-25T18:00:06.177762Z"
    }
   },
   "outputs": [
    {
     "data": {
      "text/html": [
       "<div>\n",
       "<style scoped>\n",
       "    .dataframe tbody tr th:only-of-type {\n",
       "        vertical-align: middle;\n",
       "    }\n",
       "\n",
       "    .dataframe tbody tr th {\n",
       "        vertical-align: top;\n",
       "    }\n",
       "\n",
       "    .dataframe thead th {\n",
       "        text-align: right;\n",
       "    }\n",
       "</style>\n",
       "<table border=\"1\" class=\"dataframe\">\n",
       "  <thead>\n",
       "    <tr style=\"text-align: right;\">\n",
       "      <th></th>\n",
       "      <th>Path 1</th>\n",
       "      <th>Path 2</th>\n",
       "    </tr>\n",
       "  </thead>\n",
       "  <tbody>\n",
       "    <tr>\n",
       "      <th>distr</th>\n",
       "      <td>0</td>\n",
       "      <td>0</td>\n",
       "    </tr>\n",
       "    <tr>\n",
       "      <th>use</th>\n",
       "      <td>1</td>\n",
       "      <td>0</td>\n",
       "    </tr>\n",
       "    <tr>\n",
       "      <th>form</th>\n",
       "      <td>1</td>\n",
       "      <td>0</td>\n",
       "    </tr>\n",
       "    <tr>\n",
       "      <th>buffer</th>\n",
       "      <td>0</td>\n",
       "      <td>0</td>\n",
       "    </tr>\n",
       "    <tr>\n",
       "      <th>amp_drain</th>\n",
       "      <td>0</td>\n",
       "      <td>1</td>\n",
       "    </tr>\n",
       "    <tr>\n",
       "      <th>amp_in</th>\n",
       "      <td>0</td>\n",
       "      <td>1</td>\n",
       "    </tr>\n",
       "  </tbody>\n",
       "</table>\n",
       "</div>"
      ],
      "text/plain": [
       "           Path 1  Path 2\n",
       "distr           0       0\n",
       "use             1       0\n",
       "form            1       0\n",
       "buffer          0       0\n",
       "amp_drain       0       1\n",
       "amp_in          0       1"
      ]
     },
     "execution_count": 31,
     "metadata": {},
     "output_type": "execute_result"
    }
   ],
   "source": [
    "ns = nullspace(model.S).T\n",
    "for i, row in enumerate(ns):\n",
    "    # Divide by the minimum to get all integers\n",
    "    ns[i] = np.rint(row / np.min(row[np.nonzero(row)]))\n",
    "ns = ns.T\n",
    "pd.DataFrame(\n",
    "    ns, index=model.reactions.list_attr(\"id\"),  # Rows represent reactions\n",
    "    columns=[\"Path 1\", \"Path 2\"], dtype=np.int_)"
   ]
  },
  {
   "cell_type": "markdown",
   "id": "07b1aef0",
   "metadata": {},
   "source": [
    "### Defining custom rates\n",
    "\n",
    "In this model, the rate for the AMP source reaction should remain at a fixed input value. However, the current rate expression for the AMP source reaction is dependent on an external AMP metabolite that exists as a boundary condition:"
   ]
  },
  {
   "cell_type": "code",
   "execution_count": 32,
   "id": "0d060306",
   "metadata": {
    "execution": {
     "iopub.execute_input": "2021-01-25T18:00:06.183965Z",
     "iopub.status.busy": "2021-01-25T18:00:06.183222Z",
     "iopub.status.idle": "2021-01-25T18:00:06.185923Z",
     "shell.execute_reply": "2021-01-25T18:00:06.186516Z"
    }
   },
   "outputs": [
    {
     "name": "stdout",
     "output_type": "stream",
     "text": [
      "amp_b*kf_amp_in\n"
     ]
    }
   ],
   "source": [
    "print(amp_in.rate)"
   ]
  },
  {
   "cell_type": "markdown",
   "id": "acde371c",
   "metadata": {},
   "source": [
    "Therefore, the rate can be set as a fixed input by using a custom rate expression. Custom rate expressions can be set for reactions in a model using the `MassModel.add_custom_rate()` method as follows: by passing the reaction object, a string representation of the custom rate expression, and a dictionary containing any custom parameter associated with the rate."
   ]
  },
  {
   "cell_type": "code",
   "execution_count": 33,
   "id": "badfdb89",
   "metadata": {
    "execution": {
     "iopub.execute_input": "2021-01-25T18:00:06.208970Z",
     "iopub.status.busy": "2021-01-25T18:00:06.206881Z",
     "iopub.status.idle": "2021-01-25T18:00:06.211897Z",
     "shell.execute_reply": "2021-01-25T18:00:06.212424Z"
    }
   },
   "outputs": [
    {
     "name": "stdout",
     "output_type": "stream",
     "text": [
      "b1\n"
     ]
    }
   ],
   "source": [
    "model.add_custom_rate(amp_in, custom_rate=\"b1\",\n",
    "                      custom_parameters={\"b1\": 0.03})\n",
    "print(model.rates[amp_in])"
   ]
  },
  {
   "cell_type": "markdown",
   "id": "5b33fca1",
   "metadata": {},
   "source": [
    "## Ensuring Model Completeness\n",
    "### Inspecting rates and ODEs\n",
    "\n",
    "According to the [network schema](#Constructing-Models) at the start of the notebook, the network has been fully reconstructed. The reaction rates and metabolite ODEs can be inspected to ensure that the model was built without any issues.\n",
    "\n",
    "The `MassModel.rates` property is used to return a dictionary containing reactions and symbolic expressions of their rates. The model always prioritizes custom rate expressions over automatically generated mass action rates."
   ]
  },
  {
   "cell_type": "code",
   "execution_count": 34,
   "id": "1d9560ed",
   "metadata": {
    "execution": {
     "iopub.execute_input": "2021-01-25T18:00:06.232218Z",
     "iopub.status.busy": "2021-01-25T18:00:06.231406Z",
     "iopub.status.idle": "2021-01-25T18:00:06.234832Z",
     "shell.execute_reply": "2021-01-25T18:00:06.235386Z"
    }
   },
   "outputs": [
    {
     "name": "stdout",
     "output_type": "stream",
     "text": [
      "distr: kf_distr*(adp_c(t)**2 - amp_c(t)*atp_c(t)/Keq_distr)\n",
      "use: kf_use*atp_c(t)\n",
      "form: kf_form*adp_c(t)\n",
      "buffer: kf_buffer*(B(t)*atp_c(t) - BP(t)*adp_c(t)/Keq_buffer)\n",
      "amp_drain: kf_amp_drain*amp_c(t)\n",
      "amp_in: b1\n"
     ]
    }
   ],
   "source": [
    "for reaction, rate in model.rates.items():\n",
    "    print(\"{0}: {1}\".format(reaction.id, rate))"
   ]
  },
  {
   "cell_type": "markdown",
   "id": "a7acf066",
   "metadata": {},
   "source": [
    "Similarly, the model can access the ODEs for metabolites using the `ordinary_differential_equations` property (alias `odes`) to return a dictionary of metabolites and symbolic expressions of their ODEs."
   ]
  },
  {
   "cell_type": "code",
   "execution_count": 35,
   "id": "b128bf67",
   "metadata": {
    "execution": {
     "iopub.execute_input": "2021-01-25T18:00:06.275035Z",
     "iopub.status.busy": "2021-01-25T18:00:06.273893Z",
     "iopub.status.idle": "2021-01-25T18:00:06.278351Z",
     "shell.execute_reply": "2021-01-25T18:00:06.278799Z"
    },
    "scrolled": false
   },
   "outputs": [
    {
     "name": "stdout",
     "output_type": "stream",
     "text": [
      "adp_c: kf_buffer*(B(t)*atp_c(t) - BP(t)*adp_c(t)/Keq_buffer) - 2*kf_distr*(adp_c(t)**2 - amp_c(t)*atp_c(t)/Keq_distr) - kf_form*adp_c(t) + kf_use*atp_c(t)\n",
      "atp_c: -kf_buffer*(B(t)*atp_c(t) - BP(t)*adp_c(t)/Keq_buffer) + kf_distr*(adp_c(t)**2 - amp_c(t)*atp_c(t)/Keq_distr) + kf_form*adp_c(t) - kf_use*atp_c(t)\n",
      "amp_c: b1 - kf_amp_drain*amp_c(t) + kf_distr*(adp_c(t)**2 - amp_c(t)*atp_c(t)/Keq_distr)\n",
      "B: -kf_buffer*(B(t)*atp_c(t) - BP(t)*adp_c(t)/Keq_buffer)\n",
      "BP: kf_buffer*(B(t)*atp_c(t) - BP(t)*adp_c(t)/Keq_buffer)\n"
     ]
    }
   ],
   "source": [
    "for metabolite, ode in model.odes.items():\n",
    "    print(\"{0}: {1}\".format(metabolite.id, ode))"
   ]
  },
  {
   "cell_type": "markdown",
   "id": "69f7d61b",
   "metadata": {},
   "source": [
    "### QCQA model\n"
   ]
  },
  {
   "cell_type": "code",
   "execution_count": 36,
   "id": "fac4a2f6",
   "metadata": {
    "execution": {
     "iopub.execute_input": "2021-01-25T18:00:06.353906Z",
     "iopub.status.busy": "2021-01-25T18:00:06.352851Z",
     "iopub.status.idle": "2021-01-25T18:00:06.355432Z",
     "shell.execute_reply": "2021-01-25T18:00:06.355915Z"
    }
   },
   "outputs": [],
   "source": [
    "from mass import qcqa_model"
   ]
  },
  {
   "cell_type": "markdown",
   "id": "b5e7b499",
   "metadata": {},
   "source": [
    "The `qcqa_model()` function can be used to print a report about the model's completeness based on the set kwargs. The `qcqa_model()` function is used to ensure that all numerical values necessary for simulating the model are defined by setting the `parameters` and `concentrations` kwargs as `True`."
   ]
  },
  {
   "cell_type": "code",
   "execution_count": 37,
   "id": "3347c8ce",
   "metadata": {
    "execution": {
     "iopub.execute_input": "2021-01-25T18:00:06.380535Z",
     "iopub.status.busy": "2021-01-25T18:00:06.378942Z",
     "iopub.status.idle": "2021-01-25T18:00:06.382387Z",
     "shell.execute_reply": "2021-01-25T18:00:06.382922Z"
    }
   },
   "outputs": [
    {
     "name": "stdout",
     "output_type": "stream",
     "text": [
      "╒══════════════════════════════════════════════╕\n",
      "│ MODEL ID: Phosphate_Trafficking              │\n",
      "│ SIMULATABLE: False                           │\n",
      "│ PARAMETERS NUMERICALY CONSISTENT: True       │\n",
      "╞══════════════════════════════════════════════╡\n",
      "│ ============================================ │\n",
      "│             MISSING PARAMETERS               │\n",
      "│ ============================================ │\n",
      "│ Reaction Parameters                          │\n",
      "│ ---------------------                        │\n",
      "│ amp_drain: kf                                │\n",
      "│ ============================================ │\n",
      "╘══════════════════════════════════════════════╛\n"
     ]
    }
   ],
   "source": [
    "qcqa_model(model, parameters=True, concentrations=True)"
   ]
  },
  {
   "cell_type": "markdown",
   "id": "e983e835",
   "metadata": {},
   "source": [
    "As shown in the report above, the forward rate constant for the AMP drain reaction was never defined. Therefore, the forward rate constant is defined, and the model is checked again."
   ]
  },
  {
   "cell_type": "code",
   "execution_count": 38,
   "id": "4eb75798",
   "metadata": {
    "execution": {
     "iopub.execute_input": "2021-01-25T18:00:06.388159Z",
     "iopub.status.busy": "2021-01-25T18:00:06.387384Z",
     "iopub.status.idle": "2021-01-25T18:00:06.390046Z",
     "shell.execute_reply": "2021-01-25T18:00:06.390492Z"
    },
    "scrolled": true
   },
   "outputs": [
    {
     "name": "stdout",
     "output_type": "stream",
     "text": [
      "╒══════════════════════════════════════════╕\n",
      "│ MODEL ID: Phosphate_Trafficking          │\n",
      "│ SIMULATABLE: True                        │\n",
      "│ PARAMETERS NUMERICALY CONSISTENT: True   │\n",
      "╞══════════════════════════════════════════╡\n",
      "╘══════════════════════════════════════════╛\n"
     ]
    }
   ],
   "source": [
    "amp_drain.kf = 0.3\n",
    "\n",
    "qcqa_model(model, parameters=True, concentrations=True)"
   ]
  },
  {
   "cell_type": "markdown",
   "id": "938f7281",
   "metadata": {},
   "source": [
    "## Creating a Simulation"
   ]
  },
  {
   "cell_type": "code",
   "execution_count": 39,
   "id": "13f3a59f",
   "metadata": {},
   "outputs": [],
   "source": [
    "# The model that was built. Load this to go straight to simulation.\n",
    "# import mass.example_data\n",
    "# model = mass.example_data.create_example_model(\"Phosphate_Trafficking\")\n",
    "\n",
    "from mass import Simulation"
   ]
  },
  {
   "cell_type": "code",
   "execution_count": 40,
   "id": "95152dc0",
   "metadata": {
    "scrolled": true
   },
   "outputs": [],
   "source": [
    "# Let the model start at a non-steady state for demo\n",
    "model.update_initial_conditions({\n",
    "    \"amp_c\": 0.2,\n",
    "    \"adp_c\": 0.2,\n",
    "    \"atp_c\": 1.7,\n",
    "})"
   ]
  },
  {
   "cell_type": "markdown",
   "id": "4b080068",
   "metadata": {},
   "source": [
    "The `Simulation` object manages all aspects related to simulating one or more model. This includes interfacing with the `RoadRunner` object from the [libRoadRunner](https://libroadrunner.readthedocs.io/en/latest/index.html) package, which is utilized for JIT compilation of the model, integration of model ODEs, and returning simulation output."
   ]
  },
  {
   "cell_type": "markdown",
   "id": "c70de958",
   "metadata": {},
   "source": [
    "### Loading a model\n",
    "\n",
    "A `Simulation` object is initialized by providing a `MassModel` to be loaded into the underlying `RoadRunner` object. The provided `MassModel` is treated as the `reference_model` of the `Simulation`. \n",
    "\n",
    "`RoadRunner` is designed to simulate models in [SBML](http://sbml.org/Main_Page) format. Therefore, models must be SBML compliant to be loaded into the `RoadRunner` instance."
   ]
  },
  {
   "cell_type": "code",
   "execution_count": 41,
   "id": "e1fc75f2",
   "metadata": {
    "execution": {
     "iopub.execute_input": "2021-01-25T18:00:13.596500Z",
     "iopub.status.busy": "2021-01-25T18:00:13.557745Z",
     "iopub.status.idle": "2021-01-25T18:00:13.743932Z",
     "shell.execute_reply": "2021-01-25T18:00:13.744555Z"
    }
   },
   "outputs": [
    {
     "name": "stdout",
     "output_type": "stream",
     "text": [
      "Successfully loaded MassModel 'Phosphate_Trafficking' into RoadRunner.\n"
     ]
    }
   ],
   "source": [
    "sim = Simulation(reference_model=model, verbose=True)"
   ]
  },
  {
   "cell_type": "markdown",
   "id": "41fbe162",
   "metadata": {},
   "source": [
    "The reference `MassModel` is accessed using the `reference_model` attribute."
   ]
  },
  {
   "cell_type": "code",
   "execution_count": 42,
   "id": "b3965615",
   "metadata": {
    "execution": {
     "iopub.execute_input": "2021-01-25T18:00:13.752920Z",
     "iopub.status.busy": "2021-01-25T18:00:13.751925Z",
     "iopub.status.idle": "2021-01-25T18:00:13.757001Z",
     "shell.execute_reply": "2021-01-25T18:00:13.758365Z"
    }
   },
   "outputs": [
    {
     "data": {
      "text/html": [
       "\n",
       "            <table>\n",
       "                <tr>\n",
       "                    <td><strong>Name</strong></td><td>Phosphate_Trafficking</td>\n",
       "                </tr><tr>\n",
       "                    <td><strong>Memory address</strong></td><td>0x07fc2c853e730</td>\n",
       "                </tr><tr>\n",
       "                    <td><strong>Stoichiometric Matrix</strong></td>\n",
       "                    <td>5x6</td>\n",
       "                </tr><tr>\n",
       "                    <td><strong>Matrix Rank</strong></td>\n",
       "                    <td>4</td>\n",
       "                </tr><tr>\n",
       "                    <td><strong>Number of metabolites</strong></td>\n",
       "                    <td>5</td>\n",
       "                </tr><tr>\n",
       "                    <td><strong>Initial conditions defined</strong></td>\n",
       "                    <td>5/5</td>\n",
       "                </tr><tr>\n",
       "                    <td><strong>Number of reactions</strong></td>\n",
       "                    <td>6</td>\n",
       "                </tr><tr>\n",
       "                    <td><strong>Number of genes</strong></td>\n",
       "                    <td>0</td>\n",
       "                </tr><tr>\n",
       "                    <td><strong>Number of enzyme modules</strong></td>\n",
       "                    <td>0</td>\n",
       "                </tr><tr>\n",
       "                    <td><strong>Number of groups</strong></td>\n",
       "                    <td>0</td>\n",
       "                </tr><tr>\n",
       "                    <td><strong>Objective expression</strong></td>\n",
       "                    <td>0</td>\n",
       "                </tr><tr>\n",
       "                    <td><strong>Compartments</strong></td>\n",
       "                    <td>c</td>\n",
       "                </tr>\n",
       "            </table>\n",
       "        "
      ],
      "text/plain": [
       "<MassModel Phosphate_Trafficking at 0x7fc2c853e730>"
      ]
     },
     "execution_count": 42,
     "metadata": {},
     "output_type": "execute_result"
    }
   ],
   "source": [
    "sim.reference_model"
   ]
  },
  {
   "cell_type": "markdown",
   "id": "84003d42",
   "metadata": {},
   "source": [
    "The underlying `RoadRunner` instance can be accessed using the `roadrunner` attribute:"
   ]
  },
  {
   "cell_type": "code",
   "execution_count": 43,
   "id": "a35f0029",
   "metadata": {
    "execution": {
     "iopub.execute_input": "2021-01-25T18:00:13.763855Z",
     "iopub.status.busy": "2021-01-25T18:00:13.762634Z",
     "iopub.status.idle": "2021-01-25T18:00:13.768252Z",
     "shell.execute_reply": "2021-01-25T18:00:13.768752Z"
    }
   },
   "outputs": [
    {
     "data": {
      "text/plain": [
       "<roadrunner.RoadRunner() { this = 0x6000013e1120 }>"
      ]
     },
     "execution_count": 43,
     "metadata": {},
     "output_type": "execute_result"
    }
   ],
   "source": [
    "sim.roadrunner"
   ]
  },
  {
   "cell_type": "markdown",
   "id": "3d2ba479",
   "metadata": {},
   "source": [
    "Upon loading a model into a `Simulation`, the numerical values for species' initial conditions and reaction parameters are extracted. Dictionaries containing values are retrieved using the `get_model_simulation_values()` method."
   ]
  },
  {
   "cell_type": "code",
   "execution_count": 44,
   "id": "2358ada7",
   "metadata": {
    "execution": {
     "iopub.execute_input": "2021-01-25T18:00:13.809197Z",
     "iopub.status.busy": "2021-01-25T18:00:13.807513Z",
     "iopub.status.idle": "2021-01-25T18:00:13.815094Z",
     "shell.execute_reply": "2021-01-25T18:00:13.816521Z"
    }
   },
   "outputs": [
    {
     "name": "stdout",
     "output_type": "stream",
     "text": [
      "adp_c: 0.2\n",
      "atp_c: 1.7\n",
      "amp_c: 0.2\n",
      "B: 2.0\n",
      "BP: 8.0\n"
     ]
    }
   ],
   "source": [
    "initial_conditions, parameters = sim.get_model_simulation_values(model)\n",
    "for metabolite, initial_condition in initial_conditions.items():\n",
    "    print(\"{0}: {1}\".format(metabolite, initial_condition))"
   ]
  },
  {
   "cell_type": "markdown",
   "id": "c85b8f7e",
   "metadata": {},
   "source": [
    "## Running Dynamic Simulations\n",
    "### Simulating a model\n",
    "\n",
    "Once a model has been loaded, it can be simulated using the `Simulation.simulate()` method. The `simulate()` method requires a model identifier or `MassModel` object of a loaded model and a tuple that contains the initial and final time points."
   ]
  },
  {
   "cell_type": "code",
   "execution_count": 45,
   "id": "5347f470",
   "metadata": {
    "execution": {
     "iopub.execute_input": "2021-01-25T18:00:13.831765Z",
     "iopub.status.busy": "2021-01-25T18:00:13.830729Z",
     "iopub.status.idle": "2021-01-25T18:00:13.834053Z",
     "shell.execute_reply": "2021-01-25T18:00:13.834802Z"
    }
   },
   "outputs": [
    {
     "data": {
      "text/plain": [
       "(<MassSolution Phosphate_Trafficking_ConcSols at 0x7fc2b9247630>,\n",
       " <MassSolution Phosphate_Trafficking_FluxSols at 0x7fc2b9240040>)"
      ]
     },
     "execution_count": 45,
     "metadata": {},
     "output_type": "execute_result"
    }
   ],
   "source": [
    "# Simulate the model from 0 to 10000 time units\n",
    "tfinal = 10000\n",
    "\n",
    "solutions = sim.simulate(model, time=(0, tfinal))\n",
    "solutions"
   ]
  },
  {
   "cell_type": "markdown",
   "id": "01ed7a39",
   "metadata": {},
   "source": [
    "After a model has been simulated, the concentration and flux solutions are returned in two specialized dictionaries known as `MassSolution` objects. "
   ]
  },
  {
   "cell_type": "code",
   "execution_count": 46,
   "id": "61e67ba6",
   "metadata": {
    "execution": {
     "iopub.execute_input": "2021-01-25T18:00:13.845940Z",
     "iopub.status.busy": "2021-01-25T18:00:13.845014Z",
     "iopub.status.idle": "2021-01-25T18:00:13.848470Z",
     "shell.execute_reply": "2021-01-25T18:00:13.849194Z"
    }
   },
   "outputs": [
    {
     "name": "stdout",
     "output_type": "stream",
     "text": [
      "adp_c: [0.2        0.20020374 0.20040726 0.20095514 0.2015016 ]\n",
      "atp_c: [1.7        1.69982168 1.69964357 1.69916416 1.69868608]\n",
      "amp_c: [0.2        0.19997458 0.19994916 0.19988069 0.1998123 ]\n",
      "B: [2.         1.99984758 1.99969535 1.99928569 1.99887727]\n",
      "BP: [8.         8.00015242 8.00030465 8.00071431 8.00112273]\n"
     ]
    }
   ],
   "source": [
    "conc_sol, flux_sol = solutions\n",
    "\n",
    "# List the first 5 points of concentration solutions\n",
    "for metabolite, solution in conc_sol.items():\n",
    "    print(\"{0}: {1}\".format(metabolite, solution[:5]))"
   ]
  },
  {
   "cell_type": "markdown",
   "id": "b4af62fa",
   "metadata": {},
   "source": [
    "By default, solutions are returned as `numpy.ndarrays`. To return interpolating functions instead, the `interpolate` argument is set as `True`."
   ]
  },
  {
   "cell_type": "code",
   "execution_count": 47,
   "id": "8d58ce32",
   "metadata": {
    "execution": {
     "iopub.execute_input": "2021-01-25T18:00:13.856144Z",
     "iopub.status.busy": "2021-01-25T18:00:13.854898Z",
     "iopub.status.idle": "2021-01-25T18:00:13.865147Z",
     "shell.execute_reply": "2021-01-25T18:00:13.865871Z"
    }
   },
   "outputs": [
    {
     "name": "stdout",
     "output_type": "stream",
     "text": [
      "adp_c: <scipy.interpolate.interpolate.interp1d object at 0x7fc2b924d130>\n",
      "atp_c: <scipy.interpolate.interpolate.interp1d object at 0x7fc2da67e310>\n",
      "amp_c: <scipy.interpolate.interpolate.interp1d object at 0x7fc2b91e6810>\n",
      "B: <scipy.interpolate.interpolate.interp1d object at 0x7fc2b924d310>\n",
      "BP: <scipy.interpolate.interpolate.interp1d object at 0x7fc2b924d360>\n"
     ]
    }
   ],
   "source": [
    "conc_sol, flux_sol = sim.simulate(model, time=(0, 100), interpolate=True)\n",
    "\n",
    "for metabolite, solution in conc_sol.items():\n",
    "    print(\"{0}: {1}\".format(metabolite, solution))"
   ]
  },
  {
   "cell_type": "markdown",
   "id": "f055939d",
   "metadata": {},
   "source": [
    "### Setting integration options\n",
    "\n",
    "Although the integrator options are set to accomadate a variety of models, there are circumestances in which the integrator options need to be changed. The underlying integrator can be accessed using the `integrator` property:"
   ]
  },
  {
   "cell_type": "code",
   "execution_count": 48,
   "id": "5dcc14fa",
   "metadata": {
    "execution": {
     "iopub.execute_input": "2021-01-25T18:00:13.872494Z",
     "iopub.status.busy": "2021-01-25T18:00:13.871501Z",
     "iopub.status.idle": "2021-01-25T18:00:13.875054Z",
     "shell.execute_reply": "2021-01-25T18:00:13.876728Z"
    }
   },
   "outputs": [
    {
     "name": "stdout",
     "output_type": "stream",
     "text": [
      "< roadrunner.Integrator() >\n",
      "  name: cvode\n",
      "  settings:\n",
      "      relative_tolerance: 1e-06\n",
      "      absolute_tolerance: 1e-12\n",
      "                   stiff: true\n",
      "       maximum_bdf_order: 5\n",
      "     maximum_adams_order: 12\n",
      "       maximum_num_steps: 20000\n",
      "       maximum_time_step: 0\n",
      "       minimum_time_step: 0\n",
      "       initial_time_step: 0\n",
      "          multiple_steps: false\n",
      "      variable_step_size: true\n",
      "         max_output_rows: 100000\n",
      "\n"
     ]
    }
   ],
   "source": [
    "print(sim.integrator)"
   ]
  },
  {
   "cell_type": "markdown",
   "id": "f8606b69",
   "metadata": {},
   "source": [
    "Each setting comes with a brief description that can be viewed:"
   ]
  },
  {
   "cell_type": "code",
   "execution_count": 49,
   "id": "7b1d03a3",
   "metadata": {
    "execution": {
     "iopub.execute_input": "2021-01-25T18:00:13.881140Z",
     "iopub.status.busy": "2021-01-25T18:00:13.880435Z",
     "iopub.status.idle": "2021-01-25T18:00:13.883726Z",
     "shell.execute_reply": "2021-01-25T18:00:13.883115Z"
    }
   },
   "outputs": [
    {
     "name": "stdout",
     "output_type": "stream",
     "text": [
      "(bool) Enabling this setting will allow the integrator to adapt the size of each time step. This will result in a non-uniform time column.  The number of steps or points will be ignored, and the max number of output rows will be used instead.\n"
     ]
    }
   ],
   "source": [
    "print(sim.integrator.getDescription(\"variable_step_size\"))"
   ]
  },
  {
   "cell_type": "markdown",
   "id": "c72a7096",
   "metadata": {},
   "source": [
    "For example, to change the integration options so a uniform time vector is returned instead of one with a variable step size:"
   ]
  },
  {
   "cell_type": "code",
   "execution_count": 50,
   "id": "538a9ecc",
   "metadata": {
    "execution": {
     "iopub.execute_input": "2021-01-25T18:00:13.890195Z",
     "iopub.status.busy": "2021-01-25T18:00:13.889246Z",
     "iopub.status.idle": "2021-01-25T18:00:13.895890Z",
     "shell.execute_reply": "2021-01-25T18:00:13.896410Z"
    }
   },
   "outputs": [
    {
     "name": "stdout",
     "output_type": "stream",
     "text": [
      "[ 0.  2.  4.  6.  8. 10. 12. 14. 16. 18.]\n"
     ]
    }
   ],
   "source": [
    "sim.integrator.variable_step_size = False\n",
    "\n",
    "# Simulate the model from 0 to 100 time units\n",
    "# with output returned at evenly spaced time points\n",
    "conc_sol, flux_sol = sim.simulate(model, time=(0, 100))\n",
    "\n",
    "# Print the time vector\n",
    "print(conc_sol.time[:10])"
   ]
  },
  {
   "cell_type": "markdown",
   "id": "acf9545d",
   "metadata": {},
   "source": [
    "When encountering exceptions from the integrator, [libRoadRunner recommends](https://libroadrunner.readthedocs.io/en/latest/simulation_and_integration.html) specifying an initial time step and tighter absolute and relative tolerances.\n",
    "\n",
    "See the [libRoadRunner documentation](https://libroadrunner.readthedocs.io/en/latest/PythonAPIReference/cls_Integrator.html) about the `roadrunner.Integrator` class for more information on the integrator."
   ]
  },
  {
   "cell_type": "markdown",
   "id": "2f7bb6f4",
   "metadata": {},
   "source": [
    "### Simulation results and the MassSolution object\n",
    "For every model simulated, two `MassSolution` objects are returned per model. `MassSolution` objects are always outputted as pairs, with one `MassSolution` object containing the solutions for metabolite concentrations, and the other containing the solutions for reaction fluxes."
   ]
  },
  {
   "cell_type": "code",
   "execution_count": 51,
   "id": "6f6ba978",
   "metadata": {
    "execution": {
     "iopub.execute_input": "2021-01-25T18:00:13.962457Z",
     "iopub.status.busy": "2021-01-25T18:00:13.933484Z",
     "iopub.status.idle": "2021-01-25T18:00:13.979061Z",
     "shell.execute_reply": "2021-01-25T18:00:13.979773Z"
    }
   },
   "outputs": [],
   "source": [
    "# Simulate the model from 0 to 100 time units\n",
    "sim = Simulation(model)\n",
    "conc_sol, flux_sol = sim.simulate(model, time=(0, tfinal))"
   ]
  },
  {
   "cell_type": "markdown",
   "id": "7ce1c2a2",
   "metadata": {},
   "source": [
    "A `MassSolution` for a successful simulation contains string identifiers of objects and their corresponding solutions. Because `MassSolution` objects are specialized dictionaries, solutions can be retrieved using the object identifier as `dict` keys. For example, to access the solution for \"atp_c\":"
   ]
  },
  {
   "cell_type": "code",
   "execution_count": 52,
   "id": "26234558",
   "metadata": {
    "execution": {
     "iopub.execute_input": "2021-01-25T18:00:13.991020Z",
     "iopub.status.busy": "2021-01-25T18:00:13.989803Z",
     "iopub.status.idle": "2021-01-25T18:00:13.993220Z",
     "shell.execute_reply": "2021-01-25T18:00:13.993700Z"
    }
   },
   "outputs": [
    {
     "data": {
      "text/plain": [
       "array([1.7       , 1.69982168, 1.69964357, 1.69916416, 1.69868608,\n",
       "       1.69820944, 1.69773427, 1.69673394, 1.69460788, 1.6925119 ])"
      ]
     },
     "execution_count": 52,
     "metadata": {},
     "output_type": "execute_result"
    }
   ],
   "source": [
    "# Print first 10 solution values for ATP\n",
    "conc_sol[\"atp_c\"][:10]"
   ]
  },
  {
   "cell_type": "markdown",
   "id": "f1829ea5",
   "metadata": {},
   "source": [
    "If care is taken when assigning object identifiers (e.g., does not start with a number, does not contain certain characters such as “-”), it is possible to access solutions inside of a `MassSolution` as if the corresponding keys were attributes."
   ]
  },
  {
   "cell_type": "code",
   "execution_count": 53,
   "id": "7e6a2155",
   "metadata": {
    "execution": {
     "iopub.execute_input": "2021-01-25T18:00:13.999253Z",
     "iopub.status.busy": "2021-01-25T18:00:13.998433Z",
     "iopub.status.idle": "2021-01-25T18:00:14.001377Z",
     "shell.execute_reply": "2021-01-25T18:00:14.001892Z"
    }
   },
   "outputs": [
    {
     "data": {
      "text/plain": [
       "array([1.7       , 1.69982168, 1.69964357, 1.69916416, 1.69868608,\n",
       "       1.69820944, 1.69773427, 1.69673394, 1.69460788, 1.6925119 ])"
      ]
     },
     "execution_count": 53,
     "metadata": {},
     "output_type": "execute_result"
    }
   ],
   "source": [
    "# Print first 10 solution values for ATP\n",
    "conc_sol.atp_c[:10]"
   ]
  },
  {
   "cell_type": "markdown",
   "id": "edbd3024",
   "metadata": {},
   "source": [
    "The time points returned by the integrator are accessible using the `MassSolution.time` attribute:"
   ]
  },
  {
   "cell_type": "code",
   "execution_count": 54,
   "id": "5f8cd0fd",
   "metadata": {
    "execution": {
     "iopub.execute_input": "2021-01-25T18:00:14.008031Z",
     "iopub.status.busy": "2021-01-25T18:00:14.007259Z",
     "iopub.status.idle": "2021-01-25T18:00:14.011608Z",
     "shell.execute_reply": "2021-01-25T18:00:14.010839Z"
    }
   },
   "outputs": [
    {
     "name": "stdout",
     "output_type": "stream",
     "text": [
      "[0.00000000e+00 8.47847116e-08 1.69569423e-07 3.98257355e-07\n",
      " 6.26945287e-07 8.55633219e-07 1.08432115e-06 1.56811392e-06\n",
      " 2.60709564e-06 3.64607736e-06]\n"
     ]
    }
   ],
   "source": [
    "# Print the first 10 time points\n",
    "print(conc_sol.time[0:10])"
   ]
  },
  {
   "cell_type": "markdown",
   "id": "0481461f",
   "metadata": {},
   "source": [
    "The solutions contained within the `MassSolution` can be obtained as a `pandas.DataFrame` using the `to_frame()` method."
   ]
  },
  {
   "cell_type": "code",
   "execution_count": 55,
   "id": "d8cd58aa",
   "metadata": {
    "execution": {
     "iopub.execute_input": "2021-01-25T18:00:14.020217Z",
     "iopub.status.busy": "2021-01-25T18:00:14.018962Z",
     "iopub.status.idle": "2021-01-25T18:00:14.036339Z",
     "shell.execute_reply": "2021-01-25T18:00:14.036865Z"
    }
   },
   "outputs": [
    {
     "data": {
      "text/html": [
       "<div>\n",
       "<style scoped>\n",
       "    .dataframe tbody tr th:only-of-type {\n",
       "        vertical-align: middle;\n",
       "    }\n",
       "\n",
       "    .dataframe tbody tr th {\n",
       "        vertical-align: top;\n",
       "    }\n",
       "\n",
       "    .dataframe thead th {\n",
       "        text-align: right;\n",
       "    }\n",
       "</style>\n",
       "<table border=\"1\" class=\"dataframe\">\n",
       "  <thead>\n",
       "    <tr style=\"text-align: right;\">\n",
       "      <th></th>\n",
       "      <th>adp_c</th>\n",
       "      <th>atp_c</th>\n",
       "      <th>amp_c</th>\n",
       "      <th>B</th>\n",
       "      <th>BP</th>\n",
       "    </tr>\n",
       "    <tr>\n",
       "      <th>Time</th>\n",
       "      <th></th>\n",
       "      <th></th>\n",
       "      <th></th>\n",
       "      <th></th>\n",
       "      <th></th>\n",
       "    </tr>\n",
       "  </thead>\n",
       "  <tbody>\n",
       "    <tr>\n",
       "      <th>0.000000e+00</th>\n",
       "      <td>0.200000</td>\n",
       "      <td>1.700000</td>\n",
       "      <td>0.200000</td>\n",
       "      <td>2.000000</td>\n",
       "      <td>8.000000</td>\n",
       "    </tr>\n",
       "    <tr>\n",
       "      <th>8.478471e-08</th>\n",
       "      <td>0.200204</td>\n",
       "      <td>1.699822</td>\n",
       "      <td>0.199975</td>\n",
       "      <td>1.999848</td>\n",
       "      <td>8.000152</td>\n",
       "    </tr>\n",
       "    <tr>\n",
       "      <th>1.695694e-07</th>\n",
       "      <td>0.200407</td>\n",
       "      <td>1.699644</td>\n",
       "      <td>0.199949</td>\n",
       "      <td>1.999695</td>\n",
       "      <td>8.000305</td>\n",
       "    </tr>\n",
       "    <tr>\n",
       "      <th>3.982574e-07</th>\n",
       "      <td>0.200955</td>\n",
       "      <td>1.699164</td>\n",
       "      <td>0.199881</td>\n",
       "      <td>1.999286</td>\n",
       "      <td>8.000714</td>\n",
       "    </tr>\n",
       "    <tr>\n",
       "      <th>6.269453e-07</th>\n",
       "      <td>0.201502</td>\n",
       "      <td>1.698686</td>\n",
       "      <td>0.199812</td>\n",
       "      <td>1.998877</td>\n",
       "      <td>8.001123</td>\n",
       "    </tr>\n",
       "    <tr>\n",
       "      <th>...</th>\n",
       "      <td>...</td>\n",
       "      <td>...</td>\n",
       "      <td>...</td>\n",
       "      <td>...</td>\n",
       "      <td>...</td>\n",
       "    </tr>\n",
       "    <tr>\n",
       "      <th>1.803913e+03</th>\n",
       "      <td>0.400000</td>\n",
       "      <td>1.600000</td>\n",
       "      <td>0.100000</td>\n",
       "      <td>2.000000</td>\n",
       "      <td>8.000000</td>\n",
       "    </tr>\n",
       "    <tr>\n",
       "      <th>2.547755e+03</th>\n",
       "      <td>0.400000</td>\n",
       "      <td>1.600000</td>\n",
       "      <td>0.100000</td>\n",
       "      <td>2.000000</td>\n",
       "      <td>8.000000</td>\n",
       "    </tr>\n",
       "    <tr>\n",
       "      <th>4.147364e+03</th>\n",
       "      <td>0.400000</td>\n",
       "      <td>1.600000</td>\n",
       "      <td>0.100000</td>\n",
       "      <td>2.000000</td>\n",
       "      <td>8.000000</td>\n",
       "    </tr>\n",
       "    <tr>\n",
       "      <th>7.416054e+03</th>\n",
       "      <td>0.400000</td>\n",
       "      <td>1.600000</td>\n",
       "      <td>0.100000</td>\n",
       "      <td>2.000000</td>\n",
       "      <td>8.000000</td>\n",
       "    </tr>\n",
       "    <tr>\n",
       "      <th>1.000000e+04</th>\n",
       "      <td>0.400000</td>\n",
       "      <td>1.600000</td>\n",
       "      <td>0.100000</td>\n",
       "      <td>2.000000</td>\n",
       "      <td>8.000000</td>\n",
       "    </tr>\n",
       "  </tbody>\n",
       "</table>\n",
       "<p>184 rows × 5 columns</p>\n",
       "</div>"
      ],
      "text/plain": [
       "                 adp_c     atp_c     amp_c         B        BP\n",
       "Time                                                          \n",
       "0.000000e+00  0.200000  1.700000  0.200000  2.000000  8.000000\n",
       "8.478471e-08  0.200204  1.699822  0.199975  1.999848  8.000152\n",
       "1.695694e-07  0.200407  1.699644  0.199949  1.999695  8.000305\n",
       "3.982574e-07  0.200955  1.699164  0.199881  1.999286  8.000714\n",
       "6.269453e-07  0.201502  1.698686  0.199812  1.998877  8.001123\n",
       "...                ...       ...       ...       ...       ...\n",
       "1.803913e+03  0.400000  1.600000  0.100000  2.000000  8.000000\n",
       "2.547755e+03  0.400000  1.600000  0.100000  2.000000  8.000000\n",
       "4.147364e+03  0.400000  1.600000  0.100000  2.000000  8.000000\n",
       "7.416054e+03  0.400000  1.600000  0.100000  2.000000  8.000000\n",
       "1.000000e+04  0.400000  1.600000  0.100000  2.000000  8.000000\n",
       "\n",
       "[184 rows x 5 columns]"
      ]
     },
     "execution_count": 55,
     "metadata": {},
     "output_type": "execute_result"
    }
   ],
   "source": [
    "conc_sol.to_frame()"
   ]
  },
  {
   "cell_type": "markdown",
   "id": "f06c1f3c",
   "metadata": {},
   "source": [
    "Solutions also can be viewed visually using the `view_time_profile()` method. Note that this requires `matplotlib` to be installed in the environment. See [Plotting and Visualization](./plot_visualization.ipynb) for more information."
   ]
  },
  {
   "cell_type": "code",
   "execution_count": 56,
   "id": "0747a018",
   "metadata": {
    "execution": {
     "iopub.execute_input": "2021-01-25T18:00:14.082498Z",
     "iopub.status.busy": "2021-01-25T18:00:14.053506Z",
     "iopub.status.idle": "2021-01-25T18:00:14.630335Z",
     "shell.execute_reply": "2021-01-25T18:00:14.630785Z"
    }
   },
   "outputs": [
    {
     "data": {
      "image/png": "[encoded data removed]",
      "text/plain": [
       "<Figure size 432x288 with 1 Axes>"
      ]
     },
     "metadata": {
      "needs_background": "light"
     },
     "output_type": "display_data"
    }
   ],
   "source": [
    "conc_sol.view_time_profile()"
   ]
  },
  {
   "cell_type": "code",
   "execution_count": 57,
   "id": "cb96542d",
   "metadata": {},
   "outputs": [
    {
     "name": "stdout",
     "output_type": "stream",
     "text": [
      "adp_c 0.40000000000149216\n",
      "atp_c 1.600000000005999\n",
      "amp_c 0.10000000000037108\n",
      "B 1.9999999999999587\n",
      "BP 8.000000000000046\n"
     ]
    }
   ],
   "source": [
    "for k, v in conc_sol.items():\n",
    "    print(k, v[-1])"
   ]
  },
  {
   "cell_type": "markdown",
   "id": "65ea8699",
   "metadata": {},
   "source": [
    "### Aggregate variables and solutions\n",
    "\n",
    "Often, it is desirable to look at mathematical combinations of metabolites concentrations or reaction fluxes. To create an aggregate variable, the `MassSolution.make_aggregate_solution()` method is used. To use the method, three inputs are required:\n",
    "\n",
    "1. A unique ID for the aggregate variable.\n",
    "2. The mathematical equation for the aggregate variable given as a `str`.\n",
    "3. A list of the `MassSolution` keys representing variables used in the equation.\n",
    "\n",
    "For example, to make the Adenylate Energy Charge <cite data-cite=\"Atk68\">(Atkinson, 1968)</cite>, the occupancy and capacity pools are first defined:"
   ]
  },
  {
   "cell_type": "code",
   "execution_count": 58,
   "id": "2d62f374",
   "metadata": {
    "execution": {
     "iopub.execute_input": "2021-01-25T18:00:14.638951Z",
     "iopub.status.busy": "2021-01-25T18:00:14.638262Z",
     "iopub.status.idle": "2021-01-25T18:00:14.658908Z",
     "shell.execute_reply": "2021-01-25T18:00:14.659382Z"
    }
   },
   "outputs": [
    {
     "name": "stdout",
     "output_type": "stream",
     "text": [
      "['adp_c', 'atp_c', 'amp_c', 'B', 'BP', 'occupancy']\n"
     ]
    }
   ],
   "source": [
    "occupancy = conc_sol.make_aggregate_solution(\n",
    "    aggregate_id=\"occupancy\",\n",
    "    equation=\"(atp_c + 0.5 * adp_c)\",\n",
    "    variables=[\"atp_c\", \"adp_c\"])\n",
    "conc_sol.update(occupancy)\n",
    "print(list(conc_sol.keys()))"
   ]
  },
  {
   "cell_type": "markdown",
   "id": "661dad6d",
   "metadata": {},
   "source": [
    "The aggregate variables are returned as a `dict`, which can be added to the `MassSolution` object. Alternatively, the `update` flag can be set as `True` to automatically add an aggregate variable to the solution after creation."
   ]
  },
  {
   "cell_type": "code",
   "execution_count": 59,
   "id": "95539399",
   "metadata": {
    "execution": {
     "iopub.execute_input": "2021-01-25T18:00:14.668511Z",
     "iopub.status.busy": "2021-01-25T18:00:14.667442Z",
     "iopub.status.idle": "2021-01-25T18:00:14.670475Z",
     "shell.execute_reply": "2021-01-25T18:00:14.670933Z"
    }
   },
   "outputs": [
    {
     "name": "stdout",
     "output_type": "stream",
     "text": [
      "['adp_c', 'atp_c', 'amp_c', 'B', 'BP', 'occupancy', 'capacity']\n"
     ]
    }
   ],
   "source": [
    "capacity = conc_sol.make_aggregate_solution(\n",
    "    aggregate_id=\"capacity\",\n",
    "    equation=\"(atp_c + adp_c + amp_c)\",\n",
    "    variables=[\"atp_c\", \"adp_c\", \"amp_c\"], \n",
    "    update=True)\n",
    "print(list(conc_sol.keys()))"
   ]
  },
  {
   "cell_type": "markdown",
   "id": "270073e9",
   "metadata": {},
   "source": [
    "Aggregate variables formed from other aggregate variables also can be created using the `make_aggregate_solution()` method as long as the aggregate variables have been added to the `MassSolution`. To make the energy charge from the occupancy and capacity aggregate variables:"
   ]
  },
  {
   "cell_type": "code",
   "execution_count": 60,
   "id": "ef69df57",
   "metadata": {
    "execution": {
     "iopub.execute_input": "2021-01-25T18:00:14.679061Z",
     "iopub.status.busy": "2021-01-25T18:00:14.678365Z",
     "iopub.status.idle": "2021-01-25T18:00:14.680524Z",
     "shell.execute_reply": "2021-01-25T18:00:14.681005Z"
    }
   },
   "outputs": [],
   "source": [
    "ec = conc_sol.make_aggregate_solution(\n",
    "    aggregate_id=\"energy_charge\",\n",
    "    equation=\"occupancy / capacity\",\n",
    "    variables=[\"occupancy\", \"capacity\"],\n",
    "    update=True)"
   ]
  },
  {
   "cell_type": "markdown",
   "id": "573dc8ad",
   "metadata": {},
   "source": [
    "If care is taken when assigning aggregate variable identifiers, it is possible to access aggregate variable solutions inside of a `MassSolution`, as if aggregate variable keys were attributes."
   ]
  },
  {
   "cell_type": "code",
   "execution_count": 61,
   "id": "04c52303",
   "metadata": {
    "execution": {
     "iopub.execute_input": "2021-01-25T18:00:14.687236Z",
     "iopub.status.busy": "2021-01-25T18:00:14.686540Z",
     "iopub.status.idle": "2021-01-25T18:00:14.689236Z",
     "shell.execute_reply": "2021-01-25T18:00:14.689746Z"
    }
   },
   "outputs": [
    {
     "data": {
      "text/plain": [
       "array([0.85714286, 0.85710645, 0.8570701 , 0.85697226, 0.85687471,\n",
       "       0.85677749, 0.85668059, 0.85647669, 0.85604374, 0.85561747])"
      ]
     },
     "execution_count": 61,
     "metadata": {},
     "output_type": "execute_result"
    }
   ],
   "source": [
    "# Print first 10 solution points for the energy charge\n",
    "conc_sol.energy_charge[:10]"
   ]
  },
  {
   "cell_type": "markdown",
   "id": "e8bc8db5",
   "metadata": {},
   "source": [
    "## Determining Steady State\n",
    "The steady state for models can be found using the `Simulation.find_steady_state()` method. This method requires a model identifier or a `MassModel` object and a string thats indicates a strategy for finding the steady state. For example, to find the steady state by simulating the model for a long time:"
   ]
  },
  {
   "cell_type": "code",
   "execution_count": 62,
   "id": "a1b183db",
   "metadata": {
    "execution": {
     "iopub.execute_input": "2021-01-25T18:00:16.545556Z",
     "iopub.status.busy": "2021-01-25T18:00:16.498695Z",
     "iopub.status.idle": "2021-01-25T18:00:16.985892Z",
     "shell.execute_reply": "2021-01-25T18:00:16.986791Z"
    }
   },
   "outputs": [
    {
     "name": "stdout",
     "output_type": "stream",
     "text": [
      "adp_c: 0.3999999999999983\n",
      "atp_c: 1.5999999999999932\n",
      "amp_c: 0.09999999999999959\n",
      "B: 1.999999999999997\n",
      "BP: 7.999999999999988\n"
     ]
    }
   ],
   "source": [
    "sim = Simulation(reference_model=model)\n",
    "\n",
    "conc_sol, flux_sol = sim.find_steady_state(model, strategy=\"simulate\")\n",
    "for metabolite, solution in conc_sol.items():\n",
    "    print(\"{0}: {1}\".format(metabolite, solution))"
   ]
  },
  {
   "cell_type": "markdown",
   "id": "b6766c11",
   "metadata": {},
   "source": [
    "Setting `update_values=True` updates the model initial conditions and fluxes with the steady state solution:"
   ]
  },
  {
   "cell_type": "code",
   "execution_count": 63,
   "id": "5df9aa7e",
   "metadata": {
    "execution": {
     "iopub.execute_input": "2021-01-25T18:00:17.040105Z",
     "iopub.status.busy": "2021-01-25T18:00:17.038400Z",
     "iopub.status.idle": "2021-01-25T18:00:17.162764Z",
     "shell.execute_reply": "2021-01-25T18:00:17.163583Z"
    }
   },
   "outputs": [
    {
     "data": {
      "text/plain": [
       "{<MassMetabolite adp_c at 0x7fc278a0bb20>: 0.3999999999999983,\n",
       " <MassMetabolite atp_c at 0x7fc278a0bb80>: 1.5999999999999932,\n",
       " <MassMetabolite amp_c at 0x7fc278a0bbb0>: 0.09999999999999959,\n",
       " <MassMetabolite B at 0x7fc2dad5ed00>: 1.999999999999997,\n",
       " <MassMetabolite BP at 0x7fc2dad5efa0>: 7.999999999999988}"
      ]
     },
     "execution_count": 63,
     "metadata": {},
     "output_type": "execute_result"
    }
   ],
   "source": [
    "conc_sol, flux_sol = sim.find_steady_state(model, strategy=\"simulate\",\n",
    "                                           update_values=True)\n",
    "model.initial_conditions  # Same object as reference model in Simulation"
   ]
  },
  {
   "cell_type": "markdown",
   "id": "1ac2958d",
   "metadata": {},
   "source": [
    "The `find_steady_state()` method also allows for perturbations to be made before determining a steady state solution:"
   ]
  },
  {
   "cell_type": "code",
   "execution_count": 64,
   "id": "d455b196",
   "metadata": {
    "execution": {
     "iopub.execute_input": "2021-01-25T18:00:17.485583Z",
     "iopub.status.busy": "2021-01-25T18:00:17.183292Z",
     "iopub.status.idle": "2021-01-25T18:00:17.489613Z",
     "shell.execute_reply": "2021-01-25T18:00:17.491430Z"
    }
   },
   "outputs": [
    {
     "name": "stdout",
     "output_type": "stream",
     "text": [
      "adp_c: 0.2666666666666716\n",
      "atp_c: 0.7111111111111246\n",
      "amp_c: 0.10000000000000185\n",
      "B: 2.7272727272727235\n",
      "BP: 7.272727272727263\n"
     ]
    }
   ],
   "source": [
    "conc_sol, flux_sol = sim.find_steady_state(\n",
    "    model, strategy=\"simulate\", perturbations={\"kf_use\": \"kf_use * 1.5\"})\n",
    "\n",
    "for metabolite, solution in conc_sol.items():\n",
    "    print(\"{0}: {1}\".format(metabolite, solution))"
   ]
  },
  {
   "cell_type": "markdown",
   "id": "c33ef794",
   "metadata": {},
   "source": [
    "## Perturbing a Model\n",
    "\n",
    "To simulate various disturbances in the system, the `perturbations` argument of the `simulate()` method can be used. There are several types of perturbations that can be implemented for a given simulation as long as they adhere to the following guidelines:\n",
    "\n",
    "1. Perturbations are provided to the method as a `dict` with dictionary keys that correspond to variables to be changed. Dictionary values are the new numerical values or mathematical expressions as strings that indicate how the value is to be changed.\n",
    "\n",
    "2. A formula for the perturbation can be provided as a `str` as long as the formula string can be sympified via the `sympy.sympify()` function. The formula can have one variable that is identical to the corresponding `dict` key.\n",
    "\n",
    "3. Boundary conditions can be set as a function of time. The above rules still apply, but allow for the time \"t\", as a second variable.\n",
    "\n",
    "Some examples are demonstrated below.\n",
    "\n",
    "A simulation without perturbations:"
   ]
  },
  {
   "cell_type": "code",
   "execution_count": 65,
   "id": "aa824464",
   "metadata": {
    "execution": {
     "iopub.execute_input": "2021-01-25T18:00:14.695216Z",
     "iopub.status.busy": "2021-01-25T18:00:14.694554Z",
     "iopub.status.idle": "2021-01-25T18:00:15.349639Z",
     "shell.execute_reply": "2021-01-25T18:00:15.350272Z"
    }
   },
   "outputs": [
    {
     "data": {
      "image/png": "[encoded data removed]",
      "text/plain": [
       "<Figure size 432x288 with 1 Axes>"
      ]
     },
     "metadata": {
      "needs_background": "light"
     },
     "output_type": "display_data"
    }
   ],
   "source": [
    "conc_sol, flux_sol = sim.simulate(model, time=(0, tfinal))\n",
    "conc_sol.view_time_profile()"
   ]
  },
  {
   "cell_type": "markdown",
   "id": "911daf9f",
   "metadata": {},
   "source": [
    "Perturbing the initial concentration of ATP from 1.6 to 2.5:"
   ]
  },
  {
   "cell_type": "code",
   "execution_count": 66,
   "id": "519c27a0",
   "metadata": {
    "execution": {
     "iopub.execute_input": "2021-01-25T18:00:15.355095Z",
     "iopub.status.busy": "2021-01-25T18:00:15.354467Z",
     "iopub.status.idle": "2021-01-25T18:00:15.977796Z",
     "shell.execute_reply": "2021-01-25T18:00:15.977290Z"
    }
   },
   "outputs": [
    {
     "data": {
      "image/png": "[encoded data removed]",
      "text/plain": [
       "<Figure size 432x288 with 1 Axes>"
      ]
     },
     "metadata": {
      "needs_background": "light"
     },
     "output_type": "display_data"
    }
   ],
   "source": [
    "conc_sol, flux_sol = sim.simulate(\n",
    "    model, time=(0, tfinal), perturbations={\"atp_c\": 2.5})\n",
    "conc_sol.view_time_profile()"
   ]
  },
  {
   "cell_type": "markdown",
   "id": "90127857",
   "metadata": {},
   "source": [
    "Increasing the rate constant of ATP use by 50%:"
   ]
  },
  {
   "cell_type": "code",
   "execution_count": 67,
   "id": "74392321",
   "metadata": {
    "execution": {
     "iopub.execute_input": "2021-01-25T18:00:15.985363Z",
     "iopub.status.busy": "2021-01-25T18:00:15.984736Z",
     "iopub.status.idle": "2021-01-25T18:00:16.441461Z",
     "shell.execute_reply": "2021-01-25T18:00:16.441949Z"
    }
   },
   "outputs": [
    {
     "data": {
      "image/png": "[encoded data removed]",
      "text/plain": [
       "<Figure size 432x288 with 1 Axes>"
      ]
     },
     "metadata": {
      "needs_background": "light"
     },
     "output_type": "display_data"
    }
   ],
   "source": [
    "conc_sol, flux_sol = sim.simulate(\n",
    "    model, time=(0, tfinal), perturbations={\"kf_use\": \"kf_use * 1.5\"})\n",
    "conc_sol.view_time_profile()"
   ]
  }
 ],
 "metadata": {
  "kernelspec": {
   "display_name": "Python 3 (ipykernel)",
   "language": "python",
   "name": "python3"
  },
  "language_info": {
   "codemirror_mode": {
    "name": "ipython",
    "version": 3
   },
   "file_extension": ".py",
   "mimetype": "text/x-python",
   "name": "python",
   "nbconvert_exporter": "python",
   "pygments_lexer": "ipython3",
   "version": "3.8.12"
  },
  "toc": {
   "base_numbering": 1,
   "nav_menu": {},
   "number_sections": true,
   "sideBar": true,
   "skip_h1_title": false,
   "title_cell": "Table of Contents",
   "title_sidebar": "Contents",
   "toc_cell": false,
   "toc_position": {},
   "toc_section_display": true,
   "toc_window_display": false
  },
  "varInspector": {
   "cols": {
    "lenName": 16,
    "lenType": 16,
    "lenVar": 40
   },
   "kernels_config": {
    "python": {
     "delete_cmd_postfix": "",
     "delete_cmd_prefix": "del ",
     "library": "var_list.py",
     "varRefreshCmd": "print(var_dic_list())"
    },
    "r": {
     "delete_cmd_postfix": ") ",
     "delete_cmd_prefix": "rm(",
     "library": "var_list.r",
     "varRefreshCmd": "cat(var_dic_list()) "
    }
   },
   "types_to_exclude": [
    "module",
    "function",
    "builtin_function_or_method",
    "instance",
    "_Feature"
   ],
   "window_display": false
  }
 },
 "nbformat": 4,
 "nbformat_minor": 5
}
