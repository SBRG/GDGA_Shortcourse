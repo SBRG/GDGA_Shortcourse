{
 "cells": [
  {
   "cell_type": "markdown",
   "id": "1f6ae731",
   "metadata": {},
   "source": [
    "# Model and data import"
   ]
  },
  {
   "cell_type": "markdown",
   "id": "9b2451ef",
   "metadata": {},
   "source": [
    "Options for models:\n",
    "\n",
    "1) Glycolysis + Pyk mutation\n",
    "2) Trp"
   ]
  },
  {
   "cell_type": "markdown",
   "id": "cfeb7ee0",
   "metadata": {},
   "source": [
    "# Data Analysis with kinetic and thermodynamic models"
   ]
  },
  {
   "cell_type": "markdown",
   "id": "d7001ce1",
   "metadata": {},
   "source": [
    "## Comparing estimated and real enzyme concentrations"
   ]
  },
  {
   "cell_type": "markdown",
   "id": "18916bf8",
   "metadata": {},
   "source": [
    "## Analyzing metabolomics data"
   ]
  },
  {
   "cell_type": "markdown",
   "id": "66f87a38",
   "metadata": {},
   "source": [
    "### Calculating thermodynamic distance from equilibrium"
   ]
  },
  {
   "cell_type": "markdown",
   "id": "9407e264",
   "metadata": {},
   "source": [
    "### Calculating enzyme bound states"
   ]
  },
  {
   "cell_type": "markdown",
   "id": "e1b3c8ff",
   "metadata": {},
   "source": [
    "# Simulating kinetic models for strain design"
   ]
  },
  {
   "cell_type": "markdown",
   "id": "d5cec052",
   "metadata": {},
   "source": [
    "## Enzyme concentration perturbations"
   ]
  },
  {
   "cell_type": "code",
   "execution_count": null,
   "id": "2e05cd5d",
   "metadata": {},
   "outputs": [],
   "source": []
  }
 ],
 "metadata": {
  "kernelspec": {
   "display_name": "Python 3 (ipykernel)",
   "language": "python",
   "name": "python3"
  },
  "language_info": {
   "codemirror_mode": {
    "name": "ipython",
    "version": 3
   },
   "file_extension": ".py",
   "mimetype": "text/x-python",
   "name": "python",
   "nbconvert_exporter": "python",
   "pygments_lexer": "ipython3",
   "version": "3.8.7"
  },
  "toc": {
   "base_numbering": 1,
   "nav_menu": {},
   "number_sections": true,
   "sideBar": true,
   "skip_h1_title": false,
   "title_cell": "Table of Contents",
   "title_sidebar": "Contents",
   "toc_cell": false,
   "toc_position": {},
   "toc_section_display": true,
   "toc_window_display": false
  },
  "varInspector": {
   "cols": {
    "lenName": 16,
    "lenType": 16,
    "lenVar": 40
   },
   "kernels_config": {
    "python": {
     "delete_cmd_postfix": "",
     "delete_cmd_prefix": "del ",
     "library": "var_list.py",
     "varRefreshCmd": "print(var_dic_list())"
    },
    "r": {
     "delete_cmd_postfix": ") ",
     "delete_cmd_prefix": "rm(",
     "library": "var_list.r",
     "varRefreshCmd": "cat(var_dic_list()) "
    }
   },
   "types_to_exclude": [
    "module",
    "function",
    "builtin_function_or_method",
    "instance",
    "_Feature"
   ],
   "window_display": false
  }
 },
 "nbformat": 4,
 "nbformat_minor": 5
}
